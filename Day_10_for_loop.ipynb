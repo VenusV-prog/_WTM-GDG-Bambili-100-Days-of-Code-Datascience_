{
  "nbformat": 4,
  "nbformat_minor": 0,
  "metadata": {
    "colab": {
      "name": "Day_10_for_loop.ipynb",
      "provenance": [],
      "authorship_tag": "ABX9TyPpJhMcwDag2P8fttp45BXp",
      "include_colab_link": true
    },
    "kernelspec": {
      "name": "python3",
      "display_name": "Python 3"
    },
    "language_info": {
      "name": "python"
    }
  },
  "cells": [
    {
      "cell_type": "markdown",
      "metadata": {
        "id": "view-in-github",
        "colab_type": "text"
      },
      "source": [
        "<a href=\"https://colab.research.google.com/github/VenusV-prog/_WTM-GDG-Bambili-100-Days-of-Code-Datascience_/blob/main/Day_10_for_loop.ipynb\" target=\"_parent\"><img src=\"https://colab.research.google.com/assets/colab-badge.svg\" alt=\"Open In Colab\"/></a>"
      ]
    },
    {
      "cell_type": "code",
      "metadata": {
        "id": "CetfStca6bVW"
      },
      "source": [
        "#the format of python's for loop\n",
        "for <var> in <iterable>:\n",
        "    <statement(s)>"
      ],
      "execution_count": null,
      "outputs": []
    },
    {
      "cell_type": "code",
      "metadata": {
        "colab": {
          "base_uri": "https://localhost:8080/"
        },
        "id": "iD4nxN-R6myt",
        "outputId": "a61582a6-8d6a-4af0-bbe6-545fd70b0759"
      },
      "source": [
        "city = ['London', 'Lagos', 'Ontario', 'Toronto','Iowa']\n",
        "for i in city:\n",
        "  print(i)"
      ],
      "execution_count": 1,
      "outputs": [
        {
          "output_type": "stream",
          "name": "stdout",
          "text": [
            "London\n",
            "Lagos\n",
            "Ontario\n",
            "Toronto\n",
            "Iowa\n"
          ]
        }
      ]
    },
    {
      "cell_type": "markdown",
      "metadata": {
        "id": "dWMYZWhm7YMv"
      },
      "source": [
        "the program functions under the concept of definite iteration, amazing how i later understood clearly how this loop works! the iter() and next() functions in the hidden process makes evrything clearer now"
      ]
    },
    {
      "cell_type": "code",
      "metadata": {
        "colab": {
          "base_uri": "https://localhost:8080/"
        },
        "id": "D7QxPieZ9Jkk",
        "outputId": "f56f93aa-184c-435b-ce7b-a80cd5dcd826"
      },
      "source": [
        "#iterable objects in python\n",
        "\n",
        "# String\n",
        "iter('province')                             \n",
        "\n",
        "# List\n",
        "iter(['London', 'Lagos', 'Ontario', 'Toronto','Iowa'])                \n",
        "\n",
        "# Tuple\n",
        "iter(('London', 'Lagos', 'Ontario', 'Toronto','Iowa'))\n",
        "\n",
        "# Set\n",
        "iter({'London', 'Lagos', 'Ontario', 'Toronto','Iowa'})               \n",
        "\n",
        "# Dict\n",
        "iter({'London': 1, 'Lagos': 2, 'Ontario': 3, 'Iowa': 3})       "
      ],
      "execution_count": 4,
      "outputs": [
        {
          "output_type": "execute_result",
          "data": {
            "text/plain": [
              "<dict_keyiterator at 0x7f33767c86b0>"
            ]
          },
          "metadata": {},
          "execution_count": 4
        }
      ]
    },
    {
      "cell_type": "markdown",
      "metadata": {
        "id": "4KLKqsb-9xiA"
      },
      "source": [
        "the function iter() outputs the iterator of an object. int and floats are not iterable"
      ]
    },
    {
      "cell_type": "code",
      "metadata": {
        "colab": {
          "base_uri": "https://localhost:8080/",
          "height": 35
        },
        "id": "URhQ2tSKAGF2",
        "outputId": "de856746-5290-4673-bacc-b4bb570fb5f1"
      },
      "source": [
        "#the next() function\n",
        "city = ['London', 'Lagos', 'Ontario', 'Toronto','Iowa']\n",
        "itr = iter(city)\n",
        "itr\n",
        "\n",
        "next(itr)\n",
        "next(itr)\n",
        "next(itr)\n",
        "next(itr)\n",
        "next(itr)"
      ],
      "execution_count": 8,
      "outputs": [
        {
          "output_type": "execute_result",
          "data": {
            "application/vnd.google.colaboratory.intrinsic+json": {
              "type": "string"
            },
            "text/plain": [
              "'Iowa'"
            ]
          },
          "metadata": {},
          "execution_count": 8
        }
      ]
    },
    {
      "cell_type": "markdown",
      "metadata": {
        "id": "BGge0z7ZBJvE"
      },
      "source": [
        "the function next() goes through the iterable object(list) and prints its entries one after the other chronologically. the function will display a StopIteration exception if all the values have been printed already. two independent iterators can be defined on thesame iterable"
      ]
    },
    {
      "cell_type": "code",
      "metadata": {
        "colab": {
          "base_uri": "https://localhost:8080/"
        },
        "id": "6furmTrXDFZv",
        "outputId": "c56e13ee-c99b-477f-dc9c-af2388f3716f"
      },
      "source": [
        "#printing all the values of an iterable at once in a list,tupple,set,dict\n",
        "city = ['London', 'Lagos', 'Ontario', 'Toronto','Iowa']\n",
        "itr = iter(city)\n",
        "list(itr)\n",
        "#tuple(itr)\n",
        "# set(itr)\n",
        "# dict(itr)\n"
      ],
      "execution_count": 12,
      "outputs": [
        {
          "output_type": "execute_result",
          "data": {
            "text/plain": [
              "['London', 'Lagos', 'Ontario', 'Toronto', 'Iowa']"
            ]
          },
          "metadata": {},
          "execution_count": 12
        }
      ]
    },
    {
      "cell_type": "markdown",
      "metadata": {
        "id": "LLGa3b28FSh5"
      },
      "source": [
        "it can also be done in a set and dict. however it is not advisable to get all the values of an iterable at once because the program will hang in cases of large data"
      ]
    },
    {
      "cell_type": "code",
      "metadata": {
        "colab": {
          "base_uri": "https://localhost:8080/"
        },
        "id": "QlpVVkiwIKIM",
        "outputId": "a8799a98-c59f-404f-dd5d-864afc221972"
      },
      "source": [
        "#iterating through a dictionary\n",
        "city = {'London': 1, 'Lagos': 2, 'Ontario': 3, 'Iowa': 3}\n",
        "for a in city:\n",
        "  print(a)"
      ],
      "execution_count": 15,
      "outputs": [
        {
          "output_type": "stream",
          "name": "stdout",
          "text": [
            "London\n",
            "Lagos\n",
            "Ontario\n",
            "Iowa\n"
          ]
        }
      ]
    },
    {
      "cell_type": "markdown",
      "metadata": {
        "id": "40rZg1EPIZCK"
      },
      "source": [
        "this prints the dict keys"
      ]
    },
    {
      "cell_type": "code",
      "metadata": {
        "colab": {
          "base_uri": "https://localhost:8080/"
        },
        "id": "IG7Wp5gwIhRU",
        "outputId": "cf8265cf-6471-484c-8b92-ceb45c3c92be"
      },
      "source": [
        "#to get the dictionary values\n",
        "city = {'London': 1, 'Lagos': 2, 'Ontario': 3, 'Iowa': 4}\n",
        "for a in city:\n",
        "  print(city[a])\n",
        "\n",
        "#or\n",
        "\n",
        "for a in city.values():\n",
        "  print(a)"
      ],
      "execution_count": 21,
      "outputs": [
        {
          "output_type": "stream",
          "name": "stdout",
          "text": [
            "1\n",
            "2\n",
            "3\n",
            "4\n",
            "1\n",
            "2\n",
            "3\n",
            "4\n"
          ]
        }
      ]
    },
    {
      "cell_type": "code",
      "metadata": {
        "colab": {
          "base_uri": "https://localhost:8080/"
        },
        "id": "3_7hiEJgJngg",
        "outputId": "f79af6b7-b939-4150-9193-cb33888832d0"
      },
      "source": [
        "#to get the key and value together in a dict\n",
        "city = {'London': 1, 'Lagos': 2, 'Ontario': 3, 'Iowa': 4}\n",
        "for a, b in city.items():\n",
        "  print('a =', a, ', b =', b)"
      ],
      "execution_count": 23,
      "outputs": [
        {
          "output_type": "stream",
          "name": "stdout",
          "text": [
            "a = London , b = 1\n",
            "a = Lagos , b = 2\n",
            "a = Ontario , b = 3\n",
            "a = Iowa , b = 4\n"
          ]
        }
      ]
    },
    {
      "cell_type": "code",
      "metadata": {
        "colab": {
          "base_uri": "https://localhost:8080/"
        },
        "id": "KMjAvx2dKgEY",
        "outputId": "77c2ed36-e2ae-4861-8b75-79c5f3ebacda"
      },
      "source": [
        "#the range() function\n",
        "x = range(2, 10)\n",
        "type(x)\n",
        "list(x)\n",
        "tuple(x)\n",
        "\n",
        "for y in x:\n",
        "  print(y)"
      ],
      "execution_count": 28,
      "outputs": [
        {
          "output_type": "stream",
          "name": "stdout",
          "text": [
            "2\n",
            "3\n",
            "4\n",
            "5\n",
            "6\n",
            "7\n",
            "8\n",
            "9\n"
          ]
        }
      ]
    },
    {
      "cell_type": "markdown",
      "metadata": {
        "id": "Tr3woaghLSSV"
      },
      "source": [
        "the range function list values less tudiously 2 is the start and 10 is the end, there was no stride in this example. the values of a range can be printed in a list, set, dict, and also can be passed through a for loop hence range is iterable"
      ]
    },
    {
      "cell_type": "code",
      "metadata": {
        "colab": {
          "base_uri": "https://localhost:8080/"
        },
        "id": "GYczbeAtMH6N",
        "outputId": "2f77bc42-b016-4f9c-947b-49c084969ec9"
      },
      "source": [
        "#range() with stride\n",
        "x = range(2, 11,2)\n",
        "list(x)"
      ],
      "execution_count": 29,
      "outputs": [
        {
          "output_type": "execute_result",
          "data": {
            "text/plain": [
              "[2, 4, 6, 8, 10]"
            ]
          },
          "metadata": {},
          "execution_count": 29
        }
      ]
    },
    {
      "cell_type": "markdown",
      "metadata": {
        "id": "8rC6Y9WWMVXr"
      },
      "source": [
        "stride specifies the number to skip before printing the next number, hence giving the list a regular pattern"
      ]
    },
    {
      "cell_type": "code",
      "metadata": {
        "colab": {
          "base_uri": "https://localhost:8080/"
        },
        "id": "hNxrIXnAMuAZ",
        "outputId": "daaa431a-0335-4709-fe89-d31a1c96e7ae"
      },
      "source": [
        "#a range can take any integer even negatives\n",
        "x = range(-2, 3)\n",
        "list(x)"
      ],
      "execution_count": 31,
      "outputs": [
        {
          "output_type": "execute_result",
          "data": {
            "text/plain": [
              "[-2, -1, 0, 1, 2]"
            ]
          },
          "metadata": {},
          "execution_count": 31
        }
      ]
    },
    {
      "cell_type": "code",
      "metadata": {
        "colab": {
          "base_uri": "https://localhost:8080/"
        },
        "id": "4qMzHjKKNE9D",
        "outputId": "ac3f72cd-2bb3-49e4-a631-e02e782c1ab3"
      },
      "source": [
        "#restrictions on range\n",
        "x = range(2, -3)\n",
        "list(x)\n",
        "x = range(2, -3, -1)\n",
        "list(x)"
      ],
      "execution_count": 33,
      "outputs": [
        {
          "output_type": "execute_result",
          "data": {
            "text/plain": [
              "[2, 1, 0, -1, -2]"
            ]
          },
          "metadata": {},
          "execution_count": 33
        }
      ]
    },
    {
      "cell_type": "markdown",
      "metadata": {
        "id": "nKOekur8NZU1"
      },
      "source": [
        "the first code outputs an empty list. in a range, the end must be greater than the start otherwise, specify a stride"
      ]
    },
    {
      "cell_type": "code",
      "metadata": {
        "colab": {
          "base_uri": "https://localhost:8080/"
        },
        "id": "0GTZ0vVON8si",
        "outputId": "68c28be8-95be-44a5-9603-f7daa4ed44de"
      },
      "source": [
        "#break statement and else clause on the for loop\n",
        "for i in ['foo', 'bar', 'baz', 'qux']:\n",
        "  if i == 'bar':\n",
        "    break\n",
        "  print(i)\n",
        "else:\n",
        "    print('Done.')  #else clause Will not execute bc the loop was broken\n"
      ],
      "execution_count": 38,
      "outputs": [
        {
          "output_type": "stream",
          "name": "stdout",
          "text": [
            "foo\n"
          ]
        }
      ]
    },
    {
      "cell_type": "code",
      "metadata": {
        "colab": {
          "base_uri": "https://localhost:8080/"
        },
        "id": "YGq3p78bO1wV",
        "outputId": "89a7ce78-25a3-4c17-94e6-d52ddbe2887f"
      },
      "source": [
        "#the continue statement on the for loop\n",
        "for i in ['foo', 'bar', 'baz', 'qux']:\n",
        "  if 'b' in i:\n",
        "    continue\n",
        "  print(i)"
      ],
      "execution_count": 39,
      "outputs": [
        {
          "output_type": "stream",
          "name": "stdout",
          "text": [
            "foo\n",
            "qux\n"
          ]
        }
      ]
    }
  ]
}