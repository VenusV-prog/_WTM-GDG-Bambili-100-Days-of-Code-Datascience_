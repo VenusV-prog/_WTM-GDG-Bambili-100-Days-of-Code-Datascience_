{
  "nbformat": 4,
  "nbformat_minor": 0,
  "metadata": {
    "colab": {
      "name": "Day 1 - Introduction.ipynb",
      "provenance": [],
      "authorship_tag": "ABX9TyM8QrBfqbHhjVP1KX75hqBX",
      "include_colab_link": true
    },
    "kernelspec": {
      "name": "python3",
      "display_name": "Python 3"
    },
    "language_info": {
      "name": "python"
    }
  },
  "cells": [
    {
      "cell_type": "markdown",
      "metadata": {
        "id": "view-in-github",
        "colab_type": "text"
      },
      "source": [
        "<a href=\"https://colab.research.google.com/github/VenusV-prog/_WTM-GDG-Bambili-100-Days-of-Code-Datascience_/blob/main/Day_1_Introduction.ipynb\" target=\"_parent\"><img src=\"https://colab.research.google.com/assets/colab-badge.svg\" alt=\"Open In Colab\"/></a>"
      ]
    },
    {
      "cell_type": "code",
      "metadata": {
        "colab": {
          "base_uri": "https://localhost:8080/"
        },
        "id": "NRrdQGDjoK8v",
        "outputId": "914a0087-d504-43b8-cc40-5383fa877dba"
      },
      "source": [
        "print(\"hello world!\")"
      ],
      "execution_count": 4,
      "outputs": [
        {
          "output_type": "stream",
          "text": [
            "hello world!\n"
          ],
          "name": "stdout"
        }
      ]
    },
    {
      "cell_type": "code",
      "metadata": {
        "colab": {
          "base_uri": "https://localhost:8080/"
        },
        "id": "P_avY0zJ6rb9",
        "outputId": "83612724-7b88-4e75-bce9-416e5ecc9e98"
      },
      "source": [
        "sample_variable=None\n",
        "variable1= \"venus\"\n",
        "print(variable1)"
      ],
      "execution_count": 5,
      "outputs": [
        {
          "output_type": "stream",
          "text": [
            "venus\n"
          ],
          "name": "stdout"
        }
      ]
    },
    {
      "cell_type": "code",
      "metadata": {
        "colab": {
          "base_uri": "https://localhost:8080/"
        },
        "id": "brzI-K8061w9",
        "outputId": "528f0adb-4679-4546-99ab-a26adbdd46c6"
      },
      "source": [
        "variable2= 1.076\n",
        "variable3= 6.35\n",
        "print(variable2)\n",
        "print(variable2+variable2)"
      ],
      "execution_count": 7,
      "outputs": [
        {
          "output_type": "stream",
          "text": [
            "1.076\n",
            "2.152\n"
          ],
          "name": "stdout"
        }
      ]
    },
    {
      "cell_type": "code",
      "metadata": {
        "colab": {
          "base_uri": "https://localhost:8080/"
        },
        "id": "PRp2GbkA7VBN",
        "outputId": "03cb263a-b02c-4c94-a47a-d54fb6f97e42"
      },
      "source": [
        "var_a = \"venus\"\n",
        "var_b= \"short\"\n",
        "print(var_a + \" is a \" + var_b + \" girl\")"
      ],
      "execution_count": 11,
      "outputs": [
        {
          "output_type": "stream",
          "text": [
            "venus is a short girl\n"
          ],
          "name": "stdout"
        }
      ]
    },
    {
      "cell_type": "code",
      "metadata": {
        "id": "R0HKPr6n0lQX"
      },
      "source": [
        "#2var= 4\n",
        "#-var1= \"girl\"\n",
        "#$var2= 1.567\n",
        "#&var3= \"this is a variable\""
      ],
      "execution_count": 10,
      "outputs": []
    }
  ]
}