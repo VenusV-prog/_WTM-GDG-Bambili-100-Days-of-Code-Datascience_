{
  "nbformat": 4,
  "nbformat_minor": 0,
  "metadata": {
    "colab": {
      "name": "Day 3 - Introduction.ipynb",
      "provenance": [],
      "authorship_tag": "ABX9TyPqIXFTAfOJf9Kn07OYi8ft",
      "include_colab_link": true
    },
    "kernelspec": {
      "name": "python3",
      "display_name": "Python 3"
    },
    "language_info": {
      "name": "python"
    }
  },
  "cells": [
    {
      "cell_type": "markdown",
      "metadata": {
        "id": "view-in-github",
        "colab_type": "text"
      },
      "source": [
        "<a href=\"https://colab.research.google.com/github/VenusV-prog/_WTM-GDG-Bambili-100-Days-of-Code-Datascience_/blob/main/Day_3_Introduction.ipynb\" target=\"_parent\"><img src=\"https://colab.research.google.com/assets/colab-badge.svg\" alt=\"Open In Colab\"/></a>"
      ]
    },
    {
      "cell_type": "code",
      "metadata": {
        "colab": {
          "base_uri": "https://localhost:8080/"
        },
        "id": "KAp5fXY_YuLm",
        "outputId": "e38da5a4-ebe4-4c41-b6ba-271f2a0b28d0"
      },
      "source": [
        "answer = 1 + 1\n",
        "print(answer)"
      ],
      "execution_count": 2,
      "outputs": [
        {
          "output_type": "stream",
          "text": [
            "2\n"
          ],
          "name": "stdout"
        }
      ]
    },
    {
      "cell_type": "markdown",
      "metadata": {
        "id": "5yj1_NDZdj1U"
      },
      "source": [
        "here, we are assigning the sum of two numbers to a variable and printing its value"
      ]
    },
    {
      "cell_type": "code",
      "metadata": {
        "colab": {
          "base_uri": "https://localhost:8080/"
        },
        "id": "zTtj4jXKZWze",
        "outputId": "e33f098f-1383-4e8a-877b-115ef9fc730f"
      },
      "source": [
        "var1 = 2 + 2\n",
        "print(var1)\n",
        "#interger"
      ],
      "execution_count": 4,
      "outputs": [
        {
          "output_type": "stream",
          "text": [
            "4\n"
          ],
          "name": "stdout"
        }
      ]
    },
    {
      "cell_type": "markdown",
      "metadata": {
        "id": "SxKhg1GLd2GH"
      },
      "source": [
        "printing out the answer of the operationasigned to var1"
      ]
    },
    {
      "cell_type": "code",
      "metadata": {
        "colab": {
          "base_uri": "https://localhost:8080/"
        },
        "id": "9sX17rgXZhna",
        "outputId": "79f93d51-3e3b-47ca-d75d-8e6923e47ddd"
      },
      "source": [
        "var2 = 3+2/5\n",
        "print(var2)\n",
        "#float"
      ],
      "execution_count": 6,
      "outputs": [
        {
          "output_type": "stream",
          "text": [
            "3.4\n"
          ],
          "name": "stdout"
        }
      ]
    },
    {
      "cell_type": "markdown",
      "metadata": {
        "id": "H8aX_th5eFBl"
      },
      "source": [
        "here we are performing a little more complex arithmetic diving 2 numbers and adding 3 to its result. all that assigned to var2"
      ]
    },
    {
      "cell_type": "code",
      "metadata": {
        "colab": {
          "base_uri": "https://localhost:8080/"
        },
        "id": "fcmJDEBPZw6N",
        "outputId": "a164fd00-2288-4308-9d5c-c363819e2b7b"
      },
      "source": [
        "var3 = 4 * 16\n",
        "print(var3)\n",
        "#interger"
      ],
      "execution_count": 8,
      "outputs": [
        {
          "output_type": "stream",
          "text": [
            "64\n"
          ],
          "name": "stdout"
        }
      ]
    },
    {
      "cell_type": "markdown",
      "metadata": {
        "id": "wT97AwMZelRp"
      },
      "source": [
        "here, we are multiplying two numbers and asigning the result to var3"
      ]
    },
    {
      "cell_type": "code",
      "metadata": {
        "colab": {
          "base_uri": "https://localhost:8080/"
        },
        "id": "Z7qGwAkYZ_zh",
        "outputId": "e58ad245-8cf2-4ab7-f63a-d7240e2951af"
      },
      "source": [
        "var4 = 4 ** 6\n",
        "print(var4)\n",
        "#interger"
      ],
      "execution_count": 11,
      "outputs": [
        {
          "output_type": "stream",
          "text": [
            "4096\n"
          ],
          "name": "stdout"
        }
      ]
    },
    {
      "cell_type": "markdown",
      "metadata": {
        "id": "koQy7Y2sexwH"
      },
      "source": [
        "here, we are performing 4 to the 6th power and asign the result to var4"
      ]
    },
    {
      "cell_type": "code",
      "metadata": {
        "colab": {
          "base_uri": "https://localhost:8080/"
        },
        "id": "lF_7fql8bilZ",
        "outputId": "8094f38e-52b8-49d0-aa0b-2714cc33edc1"
      },
      "source": [
        "var5 = 'Hello' + ' ' + 'world'\n",
        "print(var5)\n",
        "#string or text"
      ],
      "execution_count": 13,
      "outputs": [
        {
          "output_type": "stream",
          "text": [
            "Hello world\n"
          ],
          "name": "stdout"
        }
      ]
    },
    {
      "cell_type": "markdown",
      "metadata": {
        "id": "WZ5DHdYKfAEq"
      },
      "source": [
        "here, we are concantenating three string to give another string to var5"
      ]
    },
    {
      "cell_type": "code",
      "metadata": {
        "colab": {
          "base_uri": "https://localhost:8080/"
        },
        "id": "6Cco0P4GcLHs",
        "outputId": "68828c75-a274-4eeb-a325-18354ffcd28a"
      },
      "source": [
        "var6 = 'Hello world ' * 5\n",
        "print(var6)\n",
        "#string or text"
      ],
      "execution_count": 17,
      "outputs": [
        {
          "output_type": "stream",
          "text": [
            "Hello world Hello world Hello world Hello world Hello world \n"
          ],
          "name": "stdout"
        }
      ]
    },
    {
      "cell_type": "markdown",
      "metadata": {
        "id": "O3YtcFR_fMn7"
      },
      "source": [
        "here, we want to print out a certain string 'Hello world' five times"
      ]
    },
    {
      "cell_type": "code",
      "metadata": {
        "colab": {
          "base_uri": "https://localhost:8080/"
        },
        "id": "VtQwFzfjcn_D",
        "outputId": "bc79818e-a181-449a-ca87-ad013023be64"
      },
      "source": [
        "var7 = 4 % 3\n",
        "print(var7)\n",
        "#interger"
      ],
      "execution_count": 19,
      "outputs": [
        {
          "output_type": "stream",
          "text": [
            "1\n"
          ],
          "name": "stdout"
        }
      ]
    },
    {
      "cell_type": "markdown",
      "metadata": {
        "id": "pmJ4xr4hfbeh"
      },
      "source": [
        "we are calculating the modulo of 4 by 3 meaning we divide and output the remainder"
      ]
    }
  ]
}