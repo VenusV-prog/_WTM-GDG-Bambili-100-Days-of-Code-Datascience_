{
  "nbformat": 4,
  "nbformat_minor": 0,
  "metadata": {
    "colab": {
      "name": "Day12&13.ipynb",
      "provenance": [],
      "collapsed_sections": [],
      "authorship_tag": "ABX9TyNYsGVVHUcbw8BNlhDnrHdL",
      "include_colab_link": true
    },
    "kernelspec": {
      "name": "python3",
      "display_name": "Python 3"
    },
    "language_info": {
      "name": "python"
    }
  },
  "cells": [
    {
      "cell_type": "markdown",
      "metadata": {
        "id": "view-in-github",
        "colab_type": "text"
      },
      "source": [
        "<a href=\"https://colab.research.google.com/github/VenusV-prog/_WTM-GDG-Bambili-100-Days-of-Code-Datascience_/blob/main/Day12%2613.ipynb\" target=\"_parent\"><img src=\"https://colab.research.google.com/assets/colab-badge.svg\" alt=\"Open In Colab\"/></a>"
      ]
    },
    {
      "cell_type": "code",
      "metadata": {
        "colab": {
          "base_uri": "https://localhost:8080/"
        },
        "id": "tF3cI-1TpKd4",
        "outputId": "27a99730-98ae-4928-d368-8af3f6fdc192"
      },
      "source": [
        "#datatypes\n",
        "#integers\n",
        "34\n",
        "print(0o30)\n",
        "print(0x40)\n",
        "print(bin(34))"
      ],
      "execution_count": 68,
      "outputs": [
        {
          "output_type": "stream",
          "name": "stdout",
          "text": [
            "24\n",
            "64\n",
            "0b100010\n"
          ]
        }
      ]
    },
    {
      "cell_type": "code",
      "metadata": {
        "colab": {
          "base_uri": "https://localhost:8080/"
        },
        "id": "DyM6IDrqtQT7",
        "outputId": "90b3da60-2607-4acd-c820-985d60642b11"
      },
      "source": [
        "#floats\n",
        "print(.9e5)\n",
        ".9e-3\n",
        "x = 49.51\n",
        "round(x)"
      ],
      "execution_count": 66,
      "outputs": [
        {
          "output_type": "stream",
          "name": "stdout",
          "text": [
            "90000.0\n"
          ]
        },
        {
          "output_type": "execute_result",
          "data": {
            "text/plain": [
              "50"
            ]
          },
          "metadata": {},
          "execution_count": 66
        }
      ]
    },
    {
      "cell_type": "code",
      "metadata": {
        "colab": {
          "base_uri": "https://localhost:8080/"
        },
        "id": "trCyH8X5ucre",
        "outputId": "72ea5561-f3bf-4e52-f961-04cea6278af8"
      },
      "source": [
        "#complex numbers\n",
        "type(7 - 3j)"
      ],
      "execution_count": 30,
      "outputs": [
        {
          "output_type": "execute_result",
          "data": {
            "text/plain": [
              "complex"
            ]
          },
          "metadata": {},
          "execution_count": 30
        }
      ]
    },
    {
      "cell_type": "code",
      "metadata": {
        "colab": {
          "base_uri": "https://localhost:8080/"
        },
        "id": "uEX6mjEeuz5Z",
        "outputId": "e54b2d0b-9ca3-4d47-deb5-2b37c87473d7"
      },
      "source": [
        "#strings\n",
        "print('venus is a level 400(\"four hundred\")' + ' girl ' + 'in NAHPI')\n",
        "print('venus is a level 400(four hundred\\') girl')\n",
        "print('venus\\\\girl\\\\400\\\\NAHPI')\n",
        "print('venus\\tgirl\\t400\\tNAHPI')\n",
        "print('venus\\ngirl\\n400\\nNAHPI')\n",
        "print('venus\\agirl\\n400\\tNAHPI')\n",
        "print('''('venus')\\t(\"girl\")\\t('NAHPI')''')"
      ],
      "execution_count": 50,
      "outputs": [
        {
          "output_type": "stream",
          "name": "stdout",
          "text": [
            "venus is a level 400(\"four hundred\") girl in NAHPI\n",
            "venus is a level 400(four hundred') girl\n",
            "venus\\girl\\400\\NAHPI\n",
            "venus\tgirl\t400\tNAHPI\n",
            "venus\n",
            "girl\n",
            "400\n",
            "NAHPI\n",
            "venus\u0007girl\n",
            "400\tNAHPI\n",
            "('venus')\t(\"girl\")\t('NAHPI')\n"
          ]
        }
      ]
    },
    {
      "cell_type": "code",
      "metadata": {
        "colab": {
          "base_uri": "https://localhost:8080/"
        },
        "id": "hbmGWnu63N1t",
        "outputId": "fc0bd9b3-373e-474b-b66b-fe5db85fe16d"
      },
      "source": [
        "#boolean\n",
        "x = [2, 5, 6.7, 'venus']\n",
        "print('venus' not in x)\n",
        "print(5 in x)\n",
        "y = [2, 5, 6.7, 1.98]\n",
        "print(min(y))\n",
        "print(sum(y))"
      ],
      "execution_count": 69,
      "outputs": [
        {
          "output_type": "stream",
          "name": "stdout",
          "text": [
            "False\n",
            "True\n",
            "1.98\n",
            "15.68\n"
          ]
        }
      ]
    },
    {
      "cell_type": "code",
      "metadata": {
        "colab": {
          "base_uri": "https://localhost:8080/"
        },
        "id": "4_QG7713Nx-n",
        "outputId": "5fca5949-7821-4d82-eedf-be070dcb68a1"
      },
      "source": [
        "#python map()\n",
        "def power(x):\n",
        "  return x**3\n",
        "var  = [3.4, 5, 6.09]\n",
        "y = map(power, var)\n",
        "print(list(y))\n",
        "z = map(int, var)\n",
        "print(list(z))\n",
        "\n",
        "var2 = [9, 0.5, 7, 4, 8]\n",
        "\n",
        "sum = map(lambda num: num + 10, var2)\n",
        "list(sum)"
      ],
      "execution_count": 82,
      "outputs": [
        {
          "output_type": "stream",
          "name": "stdout",
          "text": [
            "[39.303999999999995, 125, 225.86652899999999]\n",
            "[3, 5, 6]\n"
          ]
        },
        {
          "output_type": "execute_result",
          "data": {
            "text/plain": [
              "[19, 10.5, 17, 14, 18]"
            ]
          },
          "metadata": {},
          "execution_count": 82
        }
      ]
    },
    {
      "cell_type": "code",
      "metadata": {
        "colab": {
          "base_uri": "https://localhost:8080/"
        },
        "id": "izZMljucS76C",
        "outputId": "b45d30f4-17f7-4f9f-be84-5f62b50afab6"
      },
      "source": [
        "#multiple input iterable\n",
        "x = [2, 3, 4]\n",
        "y = [10, 20, 30]\n",
        "z = map(pow,x,y)\n",
        "print(list(z))\n",
        "\n",
        "list(map(lambda x, y: x - y, x, y))"
      ],
      "execution_count": 92,
      "outputs": [
        {
          "output_type": "stream",
          "name": "stdout",
          "text": [
            "[1024, 3486784401, 1152921504606846976]\n"
          ]
        },
        {
          "output_type": "execute_result",
          "data": {
            "text/plain": [
              "[-8, -17, -26]"
            ]
          },
          "metadata": {},
          "execution_count": 92
        }
      ]
    },
    {
      "cell_type": "code",
      "metadata": {
        "colab": {
          "base_uri": "https://localhost:8080/"
        },
        "id": "lusr5eqMV7YW",
        "outputId": "0dd4547d-2063-494f-cd49-c10c1590464a"
      },
      "source": [
        "#transforming iterables of strings using map()\n",
        "department = ['computer', 'mechanical','electrical', 'civil']\n",
        "print(list(map(str.title, department)))\n",
        "list(map(str.upper, department))"
      ],
      "execution_count": 99,
      "outputs": [
        {
          "output_type": "stream",
          "name": "stdout",
          "text": [
            "['Computer', 'Mechanical', 'Electrical', 'Civil']\n"
          ]
        },
        {
          "output_type": "execute_result",
          "data": {
            "text/plain": [
              "['COMPUTER', 'MECHANICAL', 'ELECTRICAL', 'CIVIL']"
            ]
          },
          "metadata": {},
          "execution_count": 99
        }
      ]
    },
    {
      "cell_type": "code",
      "metadata": {
        "colab": {
          "base_uri": "https://localhost:8080/"
        },
        "id": "s9LsvC4Qbver",
        "outputId": "73650343-3ae4-4b42-cd72-2529307992e3"
      },
      "source": [
        "#removing punctuations\n",
        "import re\n",
        "def remove_punctuation(var):\n",
        "  return re.sub(r'[/\\!?.:;,\"()-]', \"\", var)\n",
        "remove_punctuation('.../computer!')\n",
        "\n",
        "sentence = 'venus loves to become a data scientist'\n",
        "words = sentence.split()\n",
        "words"
      ],
      "execution_count": 103,
      "outputs": [
        {
          "output_type": "execute_result",
          "data": {
            "text/plain": [
              "['venus', 'loves', 'to', 'become', 'a', 'data', 'scientist']"
            ]
          },
          "metadata": {},
          "execution_count": 103
        }
      ]
    },
    {
      "cell_type": "code",
      "metadata": {
        "colab": {
          "base_uri": "https://localhost:8080/"
        },
        "id": "DDZgdlTWdwbq",
        "outputId": "08477484-d7b9-4fa0-d820-a8febdb7477f"
      },
      "source": [
        "#the cipher algorithm\n",
        "def rotate_chr(c):\n",
        "    rot_by = 3\n",
        "    c = c.lower()\n",
        "    alphabet = \"abcdefghijklmnopqrstuvwxyz\"\n",
        "    # Keep punctuation and whitespace\n",
        "    if c not in alphabet:\n",
        "        return c\n",
        "    rotated_pos = ord(c) + rot_by\n",
        "    # If the rotation is inside the alphabet\n",
        "    if rotated_pos <= ord(alphabet[-1]):\n",
        "        return chr(rotated_pos)\n",
        "    # If the rotation goes beyond the alphabet\n",
        "    return chr(rotated_pos - len(alphabet))\n",
        "\n",
        "print(\"\".join(map(rotate_chr, \"this message is encrypted.\")))"
      ],
      "execution_count": 107,
      "outputs": [
        {
          "output_type": "stream",
          "name": "stdout",
          "text": [
            "wklv phvvdjh lv hqfubswhg.\n"
          ]
        }
      ]
    },
    {
      "cell_type": "code",
      "metadata": {
        "colab": {
          "base_uri": "https://localhost:8080/"
        },
        "id": "KJ8oiW9niB6r",
        "outputId": "6864d588-b796-4cff-9f92-18f50c7f8679"
      },
      "source": [
        "#map() on iterable numbers and use of list comprehension(replacing map())\n",
        "import math\n",
        "\n",
        "numbers = [1, 45, 81, 0, 180, 36]\n",
        "\n",
        "print(list(map(math.cos, numbers)))\n",
        "print([math.sqrt(x) for x in numbers])"
      ],
      "execution_count": 128,
      "outputs": [
        {
          "output_type": "stream",
          "name": "stdout",
          "text": [
            "[0.5403023058681398, 0.5253219888177297, 0.7766859820216312, 1.0, -0.5984600690578581, -0.12796368962740468]\n",
            "[1.0, 6.708203932499369, 9.0, 0.0, 13.416407864998739, 6.0]\n"
          ]
        }
      ]
    },
    {
      "cell_type": "code",
      "metadata": {
        "colab": {
          "base_uri": "https://localhost:8080/"
        },
        "id": "LmT8CMnUjbIE",
        "outputId": "4713a4e2-a5df-4911-f874-0c87aea03b82"
      },
      "source": [
        "#map() on iterable numbers and generator expression(replacing map())\n",
        "def to_cm(m):\n",
        "  return m*100\n",
        "def to_m(cm):\n",
        "  return cm/100\n",
        "\n",
        "y = [45, 8, 19, 10]\n",
        "print(list(map(to_cm,y)))\n",
        "print(list(map(to_m,y)))\n",
        "gen_exp = (to_cm(m) for m in y)\n",
        "print(list(gen_exp))"
      ],
      "execution_count": 129,
      "outputs": [
        {
          "output_type": "stream",
          "name": "stdout",
          "text": [
            "[4500, 800, 1900, 1000]\n",
            "[0.45, 0.08, 0.19, 0.1]\n",
            "[4500, 800, 1900, 1000]\n"
          ]
        }
      ]
    },
    {
      "cell_type": "code",
      "metadata": {
        "colab": {
          "base_uri": "https://localhost:8080/"
        },
        "id": "EIAJ8YRdmRxD",
        "outputId": "711b1422-caf9-4bf3-bdeb-f54250284fdd"
      },
      "source": [
        "#map() and filter()\n",
        "def is_even(x):\n",
        "  return (x % 2) == 0\n",
        "\n",
        "def even_sqrt(y):\n",
        "  even_iter = map(math.sqrt, filter(is_even, y))\n",
        "  return list(even_iter)\n",
        "\n",
        "list(even_sqrt([4, 9, 16, 49, 36, 64]))"
      ],
      "execution_count": 121,
      "outputs": [
        {
          "output_type": "execute_result",
          "data": {
            "text/plain": [
              "[2.0, 4.0, 6.0, 8.0]"
            ]
          },
          "metadata": {},
          "execution_count": 121
        }
      ]
    },
    {
      "cell_type": "code",
      "metadata": {
        "id": "5eJizLHiosvB"
      },
      "source": [
        "#map() and reduce()\n",
        "import functools\n",
        "import operator\n",
        "import os\n",
        "import os.path\n",
        "\n",
        "# files = os.listdir(os.path.expanduser(\"C:\\wamp\\www\\stock_management\"))\n",
        "\n",
        "# functools.reduce(operator.add, map(os.path.getsize, files))"
      ],
      "execution_count": 137,
      "outputs": []
    }
  ]
}