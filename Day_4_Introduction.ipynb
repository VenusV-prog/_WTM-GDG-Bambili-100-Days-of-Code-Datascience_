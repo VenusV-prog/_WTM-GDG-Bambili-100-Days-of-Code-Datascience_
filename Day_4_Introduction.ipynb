{
  "nbformat": 4,
  "nbformat_minor": 0,
  "metadata": {
    "colab": {
      "name": "Day 4 - Introduction.ipynb",
      "provenance": [],
      "authorship_tag": "ABX9TyMWflEeVSIixKdAtn672SgE",
      "include_colab_link": true
    },
    "kernelspec": {
      "name": "python3",
      "display_name": "Python 3"
    },
    "language_info": {
      "name": "python"
    }
  },
  "cells": [
    {
      "cell_type": "markdown",
      "metadata": {
        "id": "view-in-github",
        "colab_type": "text"
      },
      "source": [
        "<a href=\"https://colab.research.google.com/github/VenusV-prog/_WTM-GDG-Bambili-100-Days-of-Code-Datascience_/blob/main/Day_4_Introduction.ipynb\" target=\"_parent\"><img src=\"https://colab.research.google.com/assets/colab-badge.svg\" alt=\"Open In Colab\"/></a>"
      ]
    },
    {
      "cell_type": "code",
      "metadata": {
        "colab": {
          "base_uri": "https://localhost:8080/"
        },
        "id": "8_w2vneQpdxb",
        "outputId": "f799f7e3-d677-46ff-cd77-9856fcf70a18"
      },
      "source": [
        "list1=[\"hi\", \"my\", \"name\", \"is\", \"venus\", 4, 5, 10, 8, 9, 3.3, 3.05, 7.8, 0.5 ]\n",
        "print(list1)"
      ],
      "execution_count": 24,
      "outputs": [
        {
          "output_type": "stream",
          "name": "stdout",
          "text": [
            "['hi', 'my', 'name', 'is', 'venus', 4, 5, 10, 8, 9, 3.3, 3.05, 7.8, 0.5]\n"
          ]
        }
      ]
    },
    {
      "cell_type": "code",
      "metadata": {
        "colab": {
          "base_uri": "https://localhost:8080/"
        },
        "id": "F0Q2HhsCv7cF",
        "outputId": "51c3ab4a-1411-4ac3-aeeb-94c795895cec"
      },
      "source": [
        "var1=\"Hello\" + \" world\"\n",
        "list1.append(var1)\n",
        "print(list1)"
      ],
      "execution_count": 25,
      "outputs": [
        {
          "output_type": "stream",
          "name": "stdout",
          "text": [
            "['hi', 'my', 'name', 'is', 'venus', 4, 5, 10, 8, 9, 3.3, 3.05, 7.8, 0.5, 'Hello world']\n"
          ]
        }
      ]
    },
    {
      "cell_type": "code",
      "metadata": {
        "id": "6dA1C1OOuZDM"
      },
      "source": [
        "list4=[6, 7, 4, 5.5, 3.65, 3.05, 8.5, 4.6, 7.5, \"my\", \"fav\", \"coding\", \"course\"]"
      ],
      "execution_count": 19,
      "outputs": []
    },
    {
      "cell_type": "code",
      "metadata": {
        "colab": {
          "base_uri": "https://localhost:8080/"
        },
        "id": "j9In-Wy8vH6N",
        "outputId": "84d95ecb-f374-49fd-c991-327766692cf6"
      },
      "source": [
        "list5= list1 + list4\n",
        "print(list5)"
      ],
      "execution_count": 26,
      "outputs": [
        {
          "output_type": "stream",
          "name": "stdout",
          "text": [
            "['hi', 'my', 'name', 'is', 'venus', 4, 5, 10, 8, 9, 3.3, 3.05, 7.8, 0.5, 'Hello world', 6, 7, 4, 5.5, 3.65, 3.05, 8.5, 4.6, 7.5, 'my', 'fav', 'coding', 'course']\n"
          ]
        }
      ]
    },
    {
      "cell_type": "code",
      "metadata": {
        "colab": {
          "base_uri": "https://localhost:8080/"
        },
        "id": "fihJSbh8wIMS",
        "outputId": "72ba4fc3-824a-4115-ba54-b0f29b9d57be"
      },
      "source": [
        "list2=[5, 6, 7.0, \"Eight\", \"Nine\"]\n",
        "#list3=[]\n",
        "list3=[type(element) for element in list2]\n",
        "    #print (type(element))\n",
        "    #var= print (type(element))\n",
        "    #list3.append(var)\n",
        "print(list3)"
      ],
      "execution_count": 53,
      "outputs": [
        {
          "output_type": "stream",
          "name": "stdout",
          "text": [
            "[<class 'int'>, <class 'int'>, <class 'float'>, <class 'str'>, <class 'str'>]\n"
          ]
        }
      ]
    },
    {
      "cell_type": "code",
      "metadata": {
        "colab": {
          "base_uri": "https://localhost:8080/"
        },
        "id": "E8oH5kpk4Okl",
        "outputId": "9050104c-f9fe-4f47-bc55-672d4a6a4135"
      },
      "source": [
        "list2=[5, 6, 7.0, \"Eight\", \"Nine\"]\n",
        "list3=[]\n",
        "for element in list2:\n",
        "    var= print (type(element))\n",
        "    list3.append(var)\n",
        "print(list3)"
      ],
      "execution_count": 55,
      "outputs": [
        {
          "output_type": "stream",
          "name": "stdout",
          "text": [
            "<class 'int'>\n",
            "<class 'int'>\n",
            "<class 'float'>\n",
            "<class 'str'>\n",
            "<class 'str'>\n",
            "[None, None, None, None, None]\n"
          ]
        }
      ]
    }
  ]
}