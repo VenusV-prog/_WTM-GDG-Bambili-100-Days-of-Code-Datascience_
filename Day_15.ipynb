{
  "nbformat": 4,
  "nbformat_minor": 0,
  "metadata": {
    "colab": {
      "name": "Day_15.ipynb",
      "provenance": [],
      "authorship_tag": "ABX9TyOAX5UG/s7a5BuW1kkwvmhD",
      "include_colab_link": true
    },
    "kernelspec": {
      "name": "python3",
      "display_name": "Python 3"
    },
    "language_info": {
      "name": "python"
    }
  },
  "cells": [
    {
      "cell_type": "markdown",
      "metadata": {
        "id": "view-in-github",
        "colab_type": "text"
      },
      "source": [
        "<a href=\"https://colab.research.google.com/github/VenusV-prog/_WTM-GDG-Bambili-100-Days-of-Code-Datascience_/blob/main/Day_15.ipynb\" target=\"_parent\"><img src=\"https://colab.research.google.com/assets/colab-badge.svg\" alt=\"Open In Colab\"/></a>"
      ]
    },
    {
      "cell_type": "code",
      "metadata": {
        "colab": {
          "base_uri": "https://localhost:8080/"
        },
        "id": "DJRWBD-Kyy1i",
        "outputId": "dea57733-9d25-4769-ac52-1ab55909c5c3"
      },
      "source": [
        "#taking input from a user in python\n",
        "x = int(input('Enter your age: '))\n",
        "y = float(input('Enter your height: '))\n",
        "z = x+y\n",
        "z"
      ],
      "execution_count": 6,
      "outputs": [
        {
          "name": "stdout",
          "output_type": "stream",
          "text": [
            "Enter your age: 30\n",
            "Enter your height: 1.7\n"
          ]
        },
        {
          "output_type": "execute_result",
          "data": {
            "text/plain": [
              "31.7"
            ]
          },
          "metadata": {},
          "execution_count": 6
        }
      ]
    },
    {
      "cell_type": "code",
      "metadata": {
        "colab": {
          "base_uri": "https://localhost:8080/"
        },
        "id": "sZeYH74F1ZR7",
        "outputId": "4cdd9530-bd37-4352-e975-492c22d3cc52"
      },
      "source": [
        "#writing output to the console with sep and end keyword arguments\n",
        "print('Venus',500,'Computer Enginering')\n",
        "print('Venus',500,'Computer Enginering', sep = '/')\n",
        "\n",
        "if 2<10:\n",
        "  print('2 is smaller', end='/')\n",
        "  print('10 is bigger', end='/')\n",
        "  print('the condition is true')\n",
        "\n",
        "for i in range(15):\n",
        "  print(i, end = (' ' if i < 9 else '\\n'))"
      ],
      "execution_count": 12,
      "outputs": [
        {
          "output_type": "stream",
          "name": "stdout",
          "text": [
            "Venus 500 Computer Enginering\n",
            "Venus/500/Computer Enginering\n",
            "2 is smaller/10 is bigger/the condition is true\n",
            "0 1 2 3 4 5 6 7 8 9\n",
            "10\n",
            "11\n",
            "12\n",
            "13\n",
            "14\n"
          ]
        }
      ]
    },
    {
      "cell_type": "code",
      "metadata": {
        "colab": {
          "base_uri": "https://localhost:8080/"
        },
        "id": "obC3g31hCerV",
        "outputId": "11e83adb-f33c-4737-aa49-eb904af3ff06"
      },
      "source": [
        "#the string modulo % operator\n",
        "print('%s does %s and is in level %d' % ('kelly', 'Computer Eng', 200))\n",
        "print('I am from %s.' % input('Enter your country: '))"
      ],
      "execution_count": 20,
      "outputs": [
        {
          "output_type": "stream",
          "name": "stdout",
          "text": [
            "kelly does Computer Eng and is in level 200\n",
            "Enter your country: Cameroon\n",
            "I am from Cameroon.\n"
          ]
        }
      ]
    },
    {
      "cell_type": "code",
      "metadata": {
        "colab": {
          "base_uri": "https://localhost:8080/"
        },
        "id": "RmZQKOt4DqRV",
        "outputId": "551f3466-6e65-4cac-9ec4-b6fa1b606adb"
      },
      "source": [
        "#conversion specifiers(type, width, precision)\n",
        "x = '%d, %i, %u' % (10, -20, 30)\n",
        "print(x)\n",
        "y = '%X, %x' % (10, 200)\n",
        "print(y)\n",
        "z = '%o' % 32\n",
        "print(z)\n",
        "a = '%.3f, %.2F' % (5.24459, 7.14)\n",
        "print(a)\n",
        "b = '%e, %E' % (450.0, 200)\n",
        "print(b)\n",
        "c = '%.2g, %G' % (0.00000006,0.000007)\n",
        "print(c)\n",
        "i = 'She scored %d%% in %7.4s' % (80, 'Mathematics')\n",
        "print(i)\n",
        "\n",
        "for i in range(2):\n",
        "  w = int(input('Enter width: '))\n",
        "  print('[%*s]' % (w, 'Canada'))"
      ],
      "execution_count": 61,
      "outputs": [
        {
          "output_type": "stream",
          "name": "stdout",
          "text": [
            "10, -20, 30\n",
            "A, c8\n",
            "40\n",
            "5.245, 7.14\n",
            "4.500000e+02, 2.000000E+02\n",
            "6e-08, 7E-06\n",
            "She scored 80% in    Math\n",
            "Enter width: 9\n",
            "[   Canada]\n",
            "Enter width: 6\n",
            "[Canada]\n"
          ]
        }
      ]
    },
    {
      "cell_type": "code",
      "metadata": {
        "colab": {
          "base_uri": "https://localhost:8080/",
          "height": 90
        },
        "id": "g8zP5csiNUyW",
        "outputId": "ae1c8755-d239-48e5-cd2a-f6a40da2f42f"
      },
      "source": [
        "#conversion specifier flag\n",
        "k = '%#.0f, %#.0e' % (600, 45)\n",
        "print(k)\n",
        "m = '%05d, %07.2f' % (600,7.14)\n",
        "print(m)\n",
        "n = '%+d, % 8s' % (20,'Canada' )\n",
        "print(n)\n",
        "'%-*s' % (15, 'Canada')"
      ],
      "execution_count": 74,
      "outputs": [
        {
          "output_type": "stream",
          "name": "stdout",
          "text": [
            "600., 4.e+01\n",
            "00600, 0007.14\n",
            "+20,   Canada\n"
          ]
        },
        {
          "output_type": "execute_result",
          "data": {
            "application/vnd.google.colaboratory.intrinsic+json": {
              "type": "string"
            },
            "text/plain": [
              "'Canada         '"
            ]
          },
          "metadata": {},
          "execution_count": 74
        }
      ]
    },
    {
      "cell_type": "code",
      "metadata": {
        "colab": {
          "base_uri": "https://localhost:8080/"
        },
        "id": "6zC5VWZyQ2nB",
        "outputId": "c4682d95-86ff-4d7c-a618-ecfff833646e"
      },
      "source": [
        "#specifying values by dictionary mapping\n",
        "d = {'name': input('Enter your name: '), 'department': input('Enter your department: '), 'level': int(input('Enter your level: '))}\n",
        "\n",
        "print('%(name)s is a level %(level)2i student' % d)\n",
        "print('%(name)s studies %(department)s' % d)"
      ],
      "execution_count": 81,
      "outputs": [
        {
          "output_type": "stream",
          "name": "stdout",
          "text": [
            "Enter your name: Kelly\n",
            "Enter your department: Mechanical Engineering\n",
            "Enter your level: 500\n",
            "Kelly is a level 500 student\n",
            "Kelly studies Mechanical Engineering\n"
          ]
        }
      ]
    }
  ]
}