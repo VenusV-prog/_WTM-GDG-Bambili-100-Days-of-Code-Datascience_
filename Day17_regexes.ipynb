{
  "nbformat": 4,
  "nbformat_minor": 0,
  "metadata": {
    "colab": {
      "name": "Day17_regexes.ipynb",
      "provenance": [],
      "collapsed_sections": [],
      "authorship_tag": "ABX9TyP8gNIAY1ys1cvBiTKUHctu",
      "include_colab_link": true
    },
    "kernelspec": {
      "name": "python3",
      "display_name": "Python 3"
    },
    "language_info": {
      "name": "python"
    }
  },
  "cells": [
    {
      "cell_type": "markdown",
      "metadata": {
        "id": "view-in-github",
        "colab_type": "text"
      },
      "source": [
        "<a href=\"https://colab.research.google.com/github/VenusV-prog/_WTM-GDG-Bambili-100-Days-of-Code-Datascience_/blob/main/Day17_regexes.ipynb\" target=\"_parent\"><img src=\"https://colab.research.google.com/assets/colab-badge.svg\" alt=\"Open In Colab\"/></a>"
      ]
    },
    {
      "cell_type": "code",
      "metadata": {
        "colab": {
          "base_uri": "https://localhost:8080/"
        },
        "id": "sV1lXZvllMVr",
        "outputId": "2a63596d-6956-4a02-9864-108f315e531e"
      },
      "source": [
        "#the [] metacharacter\n",
        "s = 'computer123'\n",
        "import re\n",
        "print(re.search('123', s))\n",
        "print(re.search('[0-9][0-9][0-9]', s))\n",
        "print(re.search('1.6', 'computer156'))"
      ],
      "execution_count": null,
      "outputs": [
        {
          "output_type": "stream",
          "name": "stdout",
          "text": [
            "<re.Match object; span=(13, 16), match='123'>\n",
            "<re.Match object; span=(13, 16), match='123'>\n",
            "<re.Match object; span=(13, 16), match='156'>\n"
          ]
        }
      ]
    },
    {
      "cell_type": "code",
      "metadata": {
        "colab": {
          "base_uri": "https://localhost:8080/"
        },
        "id": "fd_EJQHLqe3l",
        "outputId": "89ce810f-b11e-492f-e377-da9a7752aef0"
      },
      "source": [
        "re.search('[a-z][a-z][a-z][a-z]', 'mathematics')"
      ],
      "execution_count": null,
      "outputs": [
        {
          "output_type": "execute_result",
          "data": {
            "text/plain": [
              "<re.Match object; span=(0, 4), match='math'>"
            ]
          },
          "metadata": {},
          "execution_count": 16
        }
      ]
    },
    {
      "cell_type": "code",
      "metadata": {
        "colab": {
          "base_uri": "https://localhost:8080/"
        },
        "id": "LZIDt0VMsAWq",
        "outputId": "b6ec865f-11df-4532-ea70-e7d9e26ad5c0"
      },
      "source": [
        "#to match hexadecimal digit characters\n",
        "re.search('[0-9a-fA-f]', '--- e0 ---')"
      ],
      "execution_count": null,
      "outputs": [
        {
          "output_type": "execute_result",
          "data": {
            "text/plain": [
              "<re.Match object; span=(4, 5), match='e'>"
            ]
          },
          "metadata": {},
          "execution_count": 21
        }
      ]
    },
    {
      "cell_type": "code",
      "metadata": {
        "colab": {
          "base_uri": "https://localhost:8080/"
        },
        "id": "2JRWlr9ztO5v",
        "outputId": "a9784082-6fd2-420f-efae-843ce723ad3d"
      },
      "source": [
        "print(re.search('[^0-9]', '1234'))\n",
        "print(re.search('[abc-]', '9-456'))\n",
        "print(re.search('[ab\\[c]', '98-[456]'))\n",
        "print(re.search('[\\*)+(|]', '|day+6'))"
      ],
      "execution_count": null,
      "outputs": [
        {
          "output_type": "stream",
          "name": "stdout",
          "text": [
            "<re.Match object; span=(4, 5), match='V'>\n",
            "<re.Match object; span=(1, 2), match='-'>\n",
            "<re.Match object; span=(3, 4), match='['>\n",
            "<re.Match object; span=(0, 1), match='|'>\n"
          ]
        }
      ]
    },
    {
      "cell_type": "code",
      "metadata": {
        "colab": {
          "base_uri": "https://localhost:8080/"
        },
        "id": "A0131FRkwKen",
        "outputId": "c674948f-7775-4d2c-9568-eaecf3b491bb"
      },
      "source": [
        "#the dot(.) metacharacter\n",
        "print(re.search('.computer', ' computer'))\n",
        "print(re.search('.computer', '\\ncomputer'))"
      ],
      "execution_count": null,
      "outputs": [
        {
          "output_type": "stream",
          "name": "stdout",
          "text": [
            "<re.Match object; span=(0, 14), match='venus computer'>\n",
            "None\n"
          ]
        }
      ]
    },
    {
      "cell_type": "code",
      "metadata": {
        "colab": {
          "base_uri": "https://localhost:8080/"
        },
        "id": "6YWf3u17x0Yf",
        "outputId": "5ae5cee3-3180-4d98-a25f-6d52d072b769"
      },
      "source": [
        "#the \\w and \\W\n",
        "import re\n",
        "print(re.search('\\w', '._a$@'))\n",
        "print(re.search('\\W', '_a$@'))"
      ],
      "execution_count": 2,
      "outputs": [
        {
          "output_type": "stream",
          "name": "stdout",
          "text": [
            "<re.Match object; span=(1, 2), match='_'>\n",
            "<re.Match object; span=(2, 3), match='$'>\n"
          ]
        }
      ]
    },
    {
      "cell_type": "markdown",
      "metadata": {
        "id": "x3RKjGue-889"
      },
      "source": [
        "matches word and non-word character respectively"
      ]
    },
    {
      "cell_type": "code",
      "metadata": {
        "colab": {
          "base_uri": "https://localhost:8080/"
        },
        "id": "zj7BEbe46k62",
        "outputId": "6414ff43-d8cf-4211-84fb-a60f5a6ef58f"
      },
      "source": [
        "#the \\d and \\D\n",
        "print(re.search('\\d', 'Lkjd56DN'))\n",
        "print(re.search('\\D', '287H287j'))"
      ],
      "execution_count": 4,
      "outputs": [
        {
          "output_type": "stream",
          "name": "stdout",
          "text": [
            "<re.Match object; span=(4, 5), match='5'>\n",
            "<re.Match object; span=(3, 4), match='H'>\n"
          ]
        }
      ]
    },
    {
      "cell_type": "markdown",
      "metadata": {
        "id": "ssevwQ14-dls"
      },
      "source": [
        "matches any decimal digit character and none decimal digit character respectively"
      ]
    },
    {
      "cell_type": "code",
      "metadata": {
        "colab": {
          "base_uri": "https://localhost:8080/"
        },
        "id": "Vrml6-XF9ftj",
        "outputId": "8f12f80f-bd6a-4d3d-cbcb-c404e7f8dc8d"
      },
      "source": [
        "#the \\s and \\S\n",
        "print(re.search('\\s', ' computer\\nengineer'))\n",
        "re.search('\\S', '  \\n computer  \\n  ')"
      ],
      "execution_count": 5,
      "outputs": [
        {
          "output_type": "stream",
          "name": "stdout",
          "text": [
            "<re.Match object; span=(5, 6), match=' '>\n"
          ]
        },
        {
          "output_type": "execute_result",
          "data": {
            "text/plain": [
              "<re.Match object; span=(4, 5), match='c'>"
            ]
          },
          "metadata": {},
          "execution_count": 5
        }
      ]
    },
    {
      "cell_type": "markdown",
      "metadata": {
        "id": "E2RuyQNP-Lgz"
      },
      "source": [
        "matches whitespace and none whitespace respectively"
      ]
    },
    {
      "cell_type": "code",
      "metadata": {
        "colab": {
          "base_uri": "https://localhost:8080/"
        },
        "id": "3M-0NnSr_ub9",
        "outputId": "ae78de69-c9bc-41c7-b21f-6c29a29e65d7"
      },
      "source": [
        "re.search('[\\d\\w\\s][\\d\\w\\s][\\d\\w\\s]', '---3---h--\\na2')"
      ],
      "execution_count": 10,
      "outputs": [
        {
          "output_type": "execute_result",
          "data": {
            "text/plain": [
              "<re.Match object; span=(10, 13), match='\\na2'>"
            ]
          },
          "metadata": {},
          "execution_count": 10
        }
      ]
    },
    {
      "cell_type": "code",
      "metadata": {
        "colab": {
          "base_uri": "https://localhost:8080/"
        },
        "id": "u7f5PIKuAnD-",
        "outputId": "346092fe-cd48-43e1-d278-e08696272fe8"
      },
      "source": [
        "#escaping metacharacters\n",
        "print(re.search('\\.', '\\.computer'))\n",
        "#using raw strings\n",
        "s = r'\\computer'\n",
        "print(re.search(r'\\\\', s))"
      ],
      "execution_count": 25,
      "outputs": [
        {
          "output_type": "stream",
          "name": "stdout",
          "text": [
            "<re.Match object; span=(6, 7), match='.'>\n",
            "<re.Match object; span=(5, 6), match='\\\\'>\n"
          ]
        }
      ]
    },
    {
      "cell_type": "code",
      "metadata": {
        "colab": {
          "base_uri": "https://localhost:8080/"
        },
        "id": "yDKD49x6E540",
        "outputId": "73bbf46c-acde-451f-9464-424d2e2d75ec"
      },
      "source": [
        "#anchors\n",
        "# \\A or ^\n",
        "print(re.search('^', 'computer'))\n",
        "print(re.search('\\A', 'computer'))"
      ],
      "execution_count": 28,
      "outputs": [
        {
          "output_type": "stream",
          "name": "stdout",
          "text": [
            "<re.Match object; span=(0, 5), match='venus'>\n",
            "None\n"
          ]
        }
      ]
    },
    {
      "cell_type": "markdown",
      "metadata": {
        "id": "0_3vdzXcF5Uo"
      },
      "source": [
        "matches the passer only at the beginning of the string"
      ]
    },
    {
      "cell_type": "code",
      "metadata": {
        "colab": {
          "base_uri": "https://localhost:8080/"
        },
        "id": "Ko1oVrlmFgcd",
        "outputId": "bffc42eb-fd9a-4a3c-86ac-7d8b89ed4fb3"
      },
      "source": [
        "# \\Z or $\n",
        "print(re.search('computer$', 'computer'))\n",
        "print(re.search('computer\\Z', 'computer'))\n",
        "print(re.search('computer$', 'computer\\n'))"
      ],
      "execution_count": 31,
      "outputs": [
        {
          "output_type": "stream",
          "name": "stdout",
          "text": [
            "<re.Match object; span=(5, 13), match='computer'>\n",
            "None\n",
            "<re.Match object; span=(5, 13), match='computer'>\n"
          ]
        }
      ]
    },
    {
      "cell_type": "markdown",
      "metadata": {
        "id": "dqKiH6JTIkmd"
      },
      "source": [
        "matches the passer only at the end of the string"
      ]
    },
    {
      "cell_type": "code",
      "metadata": {
        "colab": {
          "base_uri": "https://localhost:8080/"
        },
        "id": "tWATzYrXICbG",
        "outputId": "591113c5-fa78-4c96-b57f-34f30458189c"
      },
      "source": [
        "#\\b\n",
        "print(re.search(r'\\btoronto', 'canada toronto'))\n",
        "print(re.search(r'canada\\b', 'canadatoronto'))\n",
        "print(re.search(r'\\bcanada', 'torontocanada'))\n",
        "print(re.search(r'\\b', ' computer'))\n",
        "print(re.search(r'toronto\\b', 'toronto.canada'))\n",
        "print(re.search(r'\\bcanada\\b', 'toronto canada quebec'))\n",
        "print(re.search(r'\\bquebec\\b', 'toronto(quebec)canada'))"
      ],
      "execution_count": 45,
      "outputs": [
        {
          "output_type": "stream",
          "name": "stdout",
          "text": [
            "<re.Match object; span=(7, 14), match='toronto'>\n",
            "None\n",
            "None\n",
            "<re.Match object; span=(0, 5), match='venus'>\n",
            "<re.Match object; span=(0, 7), match='toronto'>\n",
            "<re.Match object; span=(8, 14), match='canada'>\n",
            "<re.Match object; span=(8, 14), match='quebec'>\n"
          ]
        }
      ]
    },
    {
      "cell_type": "markdown",
      "metadata": {
        "id": "RP-YIVOaKuav"
      },
      "source": [
        "the regex parser’s position must be at the beginning or end of a string separated by special characters"
      ]
    },
    {
      "cell_type": "code",
      "metadata": {
        "colab": {
          "base_uri": "https://localhost:8080/"
        },
        "id": "qucs8fNnL_m9",
        "outputId": "85a2c58c-fd02-4c21-bb0a-752cdbc7d3be"
      },
      "source": [
        "# \\B\n",
        "print(re.search(r'\\Bcanada\\B', '#canada.'))\n",
        "print(re.search(r'\\Bcanada\\B', 'quebeccanadatoronto'))"
      ],
      "execution_count": 46,
      "outputs": [
        {
          "output_type": "stream",
          "name": "stdout",
          "text": [
            "None\n",
            "<re.Match object; span=(6, 12), match='canada'>\n"
          ]
        }
      ]
    },
    {
      "cell_type": "markdown",
      "metadata": {
        "id": "AUB0pZZKMpF-"
      },
      "source": [
        "the regex parser’s position should not be at the beginning or end of the word"
      ]
    },
    {
      "cell_type": "code",
      "metadata": {
        "colab": {
          "base_uri": "https://localhost:8080/"
        },
        "id": "zVY_vHp4M4lm",
        "outputId": "dc41262e-21ad-4f4a-80e8-6832a352e2f0"
      },
      "source": [
        "#quantifiers *, +, ?\n",
        "print(re.match('[1-9]*computer', 'computer'))\n",
        "print(re.match('[1-9]*computer', '500computer'))\n",
        "\n",
        "print(re.match('[1-9]+computer', 'computer'))\n",
        "print(re.match('[1-9]+computer', '200computer'))\n",
        "\n",
        "print(re.match('[1-9]?computer', 'computer'))\n",
        "print(re.match('[1-9]?computer', '400computer'))"
      ],
      "execution_count": 48,
      "outputs": [
        {
          "output_type": "stream",
          "name": "stdout",
          "text": [
            "<re.Match object; span=(0, 13), match='venuscomputer'>\n",
            "None\n",
            "None\n",
            "None\n",
            "<re.Match object; span=(0, 13), match='venuscomputer'>\n",
            "None\n"
          ]
        }
      ]
    },
    {
      "cell_type": "code",
      "metadata": {
        "colab": {
          "base_uri": "https://localhost:8080/"
        },
        "id": "kF4DZX-Gl1Uu",
        "outputId": "2c5e9613-11f9-464f-fa51-0cca684aa4b2"
      },
      "source": [
        "#the non-greedy quantifiers *, +, ?\n",
        "print(re.search('<.*>', '%<venus> <computer> <engineer>%'))\n",
        "print(re.search('<.*?>', '%<venus> <computer> <engineer>%'))\n",
        "\n",
        "print(re.search('<.+>', '%<venus> <computer> <engineer>%'))\n",
        "print(re.search('<.+?>', '%<venus> <computer> <engineer>%'))\n",
        "\n",
        "print(re.search('vee?', 'veeeee'))\n",
        "print(re.search('vee??', 'veeeee'))"
      ],
      "execution_count": 50,
      "outputs": [
        {
          "output_type": "stream",
          "name": "stdout",
          "text": [
            "<re.Match object; span=(1, 30), match='<venus> <computer> <engineer>'>\n",
            "<re.Match object; span=(1, 8), match='<venus>'>\n",
            "<re.Match object; span=(1, 30), match='<venus> <computer> <engineer>'>\n",
            "<re.Match object; span=(1, 8), match='<venus>'>\n",
            "<re.Match object; span=(0, 3), match='vee'>\n",
            "<re.Match object; span=(0, 2), match='ve'>\n"
          ]
        }
      ]
    },
    {
      "cell_type": "code",
      "metadata": {
        "colab": {
          "base_uri": "https://localhost:8080/"
        },
        "id": "HCQaZlsAyQuV",
        "outputId": "26fa44aa-1ea7-40ba-eec5-7a2571e976c2"
      },
      "source": [
        "#{m}\n",
        "print(re.search('a-{3}a', 'a--a'))\n",
        "print(re.search('a-{3}a', 'a---a'))\n",
        "print(re.search('a-{3}a', 'a------a'))\n",
        "\n",
        "#{m,n}\n",
        "for i in range(1, 4):\n",
        "  s = f\"a{'-' * i}a\"\n",
        "  print(f'{i}  {s:10}', re.search('a-{2,4}a', s))"
      ],
      "execution_count": 58,
      "outputs": [
        {
          "output_type": "stream",
          "name": "stdout",
          "text": [
            "None\n",
            "<re.Match object; span=(0, 5), match='a---a'>\n",
            "None\n",
            "1  a-a        None\n",
            "2  a--a       <re.Match object; span=(0, 4), match='a--a'>\n",
            "3  a---a      <re.Match object; span=(0, 5), match='a---a'>\n"
          ]
        }
      ]
    },
    {
      "cell_type": "code",
      "metadata": {
        "colab": {
          "base_uri": "https://localhost:8080/"
        },
        "id": "wet7cDMf1AJ6",
        "outputId": "4103e5fa-7546-488d-f20a-0c1d42c9ba9f"
      },
      "source": [
        "#grouping\n",
        "print(re.search('(venus)+', 'computer venusvenusvenus engineer'))\n",
        "print(re.search('(eve[nt]){2,4}(last)?', 'evenevetevenlast'))\n",
        "print(re.search('(eve[nt]){2,4}(last)?', 'evenevetevet'))\n",
        "\n",
        "#nesting grouping paranthesis\n",
        "print(re.search('(venus(computer)?)+(\\d\\d\\d)?', 'venusvenuscomputer'))\n",
        "print(re.search('(venus(computer)?)+(\\d\\d\\d)?', 'venusvenuscomputer456'))\n",
        "print(re.search('(venus(computer)?)+(\\d\\d\\d)?', 'venusvenus456'))"
      ],
      "execution_count": 69,
      "outputs": [
        {
          "output_type": "stream",
          "name": "stdout",
          "text": [
            "<re.Match object; span=(9, 24), match='venusvenusvenus'>\n",
            "<re.Match object; span=(0, 16), match='evenevetevenlast'>\n",
            "<re.Match object; span=(0, 12), match='evenevetevet'>\n",
            "<re.Match object; span=(0, 18), match='venusvenuscomputer'>\n",
            "<re.Match object; span=(0, 21), match='venusvenuscomputer456'>\n",
            "<re.Match object; span=(0, 13), match='venusvenus456'>\n"
          ]
        }
      ]
    },
    {
      "cell_type": "code",
      "metadata": {
        "colab": {
          "base_uri": "https://localhost:8080/"
        },
        "id": "kR7Zo5Cp4t35",
        "outputId": "3e8ab733-733b-4b54-fff6-8e3d9cc51bd2"
      },
      "source": [
        "#capturing groups\n",
        "m = re.search('(\\w+),(\\w+),(\\w+),(\\w+),(\\w+)', 'toronto,qeubec,ontario,london,iowa')\n",
        "print(m.groups())\n",
        "print(m.group(4))\n",
        "print(m.group(2))\n",
        "print(m.group(1))\n",
        "print(m.group())\n",
        "print(m.group(0))\n",
        "print(m.group(3,1,4))\n",
        "\n",
        "m = re.search(r'(?P<word>\\w+),(?P=word)', 'canada,america')\n",
        "print(m)\n",
        "print(m.group('word'))\n",
        "\n",
        "m = re.search('(\\w+),(\\w+),(?:\\w+)', 'toronto,ontario,quebec')\n",
        "m.groups()"
      ],
      "execution_count": 88,
      "outputs": [
        {
          "output_type": "stream",
          "name": "stdout",
          "text": [
            "('toronto', 'qeubec', 'ontario', 'london', 'iowa')\n",
            "london\n",
            "qeubec\n",
            "toronto\n",
            "toronto,qeubec,ontario,london,iowa\n",
            "toronto,qeubec,ontario,london,iowa\n",
            "('ontario', 'toronto', 'london')\n",
            "<re.Match object; span=(5, 8), match='a,a'>\n",
            "a\n"
          ]
        },
        {
          "output_type": "execute_result",
          "data": {
            "text/plain": [
              "('toronto', 'ontario')"
            ]
          },
          "metadata": {},
          "execution_count": 88
        }
      ]
    },
    {
      "cell_type": "code",
      "metadata": {
        "colab": {
          "base_uri": "https://localhost:8080/"
        },
        "id": "-31uxTkg7gCB",
        "outputId": "d1f6acc6-99cf-480c-c33c-f79e1f138c82"
      },
      "source": [
        "#backreferences\n",
        "m = re.search(r'(\\w+),\\1', 'venus,venus')\n",
        "print(m)\n",
        "print(m.group(1))\n",
        "m = re.search(r'(\\w+),\\1', 'canada,canada')\n",
        "print(m)\n",
        "print(m.group(1))\n",
        "m = re.search(r'(\\w+),\\1', 'venus,canada')\n",
        "print(m)"
      ],
      "execution_count": 90,
      "outputs": [
        {
          "output_type": "stream",
          "name": "stdout",
          "text": [
            "<re.Match object; span=(0, 11), match='venus,venus'>\n",
            "venus\n",
            "<re.Match object; span=(0, 13), match='canada,canada'>\n",
            "canada\n",
            "None\n"
          ]
        }
      ]
    },
    {
      "cell_type": "code",
      "metadata": {
        "colab": {
          "base_uri": "https://localhost:8080/"
        },
        "id": "twagHOygApUX",
        "outputId": "bd57c803-38ff-4a18-85e5-328e6448f2a5"
      },
      "source": [
        "regex = r'^(?P<ch>\\W)?venus(?(ch)(?P=ch)|)$'\n",
        "print(re.search(regex, 'venus'))\n",
        "re.search(regex, 'venus')"
      ],
      "execution_count": 94,
      "outputs": [
        {
          "output_type": "stream",
          "name": "stdout",
          "text": [
            "<re.Match object; span=(0, 5), match='venus'>\n"
          ]
        },
        {
          "output_type": "execute_result",
          "data": {
            "text/plain": [
              "<re.Match object; span=(0, 5), match='venus'>"
            ]
          },
          "metadata": {},
          "execution_count": 94
        }
      ]
    },
    {
      "cell_type": "code",
      "metadata": {
        "colab": {
          "base_uri": "https://localhost:8080/"
        },
        "id": "AKXn-TSOBiDd",
        "outputId": "cbce09b7-fdb5-43c8-f658-aa2e32abd303"
      },
      "source": [
        "#lookahead and lookbehind regex\n",
        "#(?=<lookahead_regex>)\n",
        "re.search('venus(?=[a-z])', 'venuscomputer')"
      ],
      "execution_count": 105,
      "outputs": [
        {
          "output_type": "execute_result",
          "data": {
            "text/plain": [
              "<re.Match object; span=(0, 5), match='venus'>"
            ]
          },
          "metadata": {},
          "execution_count": 105
        }
      ]
    },
    {
      "cell_type": "code",
      "metadata": {
        "colab": {
          "base_uri": "https://localhost:8080/"
        },
        "id": "Xc7E15GWCkbb",
        "outputId": "a01a35a5-cac0-4255-9b53-1a55838a3a98"
      },
      "source": [
        "#(?!<lookahead_regex>)\n",
        "re.search('venus(?![a-z])', '122venus')"
      ],
      "execution_count": 108,
      "outputs": [
        {
          "output_type": "execute_result",
          "data": {
            "text/plain": [
              "<re.Match object; span=(3, 8), match='venus'>"
            ]
          },
          "metadata": {},
          "execution_count": 108
        }
      ]
    },
    {
      "cell_type": "code",
      "metadata": {
        "colab": {
          "base_uri": "https://localhost:8080/"
        },
        "id": "GfRlk5Y_D6-Q",
        "outputId": "1c2b8b86-9555-42fd-b0e0-a05cae639eee"
      },
      "source": [
        "#(?<=<lookbehind_regex>)\n",
        "print(re.search('(?<=canada)venus', 'venuscomputer'))\n",
        "print(re.search('(?<=x{3})venus', 'xxxvenus'))\n",
        "print(re.search('(?<=venus)computer', 'venuscomputer'))\n",
        "\n",
        "#(?<!--<lookbehind_regex-->)\n",
        "re.search('(?<!canada)venus', 'venuscomputer')"
      ],
      "execution_count": 117,
      "outputs": [
        {
          "output_type": "stream",
          "name": "stdout",
          "text": [
            "None\n",
            "<re.Match object; span=(3, 8), match='venus'>\n",
            "<re.Match object; span=(5, 13), match='computer'>\n"
          ]
        },
        {
          "output_type": "execute_result",
          "data": {
            "text/plain": [
              "<re.Match object; span=(0, 5), match='venus'>"
            ]
          },
          "metadata": {},
          "execution_count": 117
        }
      ]
    },
    {
      "cell_type": "code",
      "metadata": {
        "colab": {
          "base_uri": "https://localhost:8080/"
        },
        "id": "x3_6Col_E3vs",
        "outputId": "2393257b-d7b3-4e2e-fdeb-2e32f17b898d"
      },
      "source": [
        "#matching regular expressios with flags\n",
        "#re.I(re.IGNORECASE)\n",
        "print(re.search('x+', 'xxxXXX', re.I))\n",
        "print(re.search('X+', 'xxxXXX', re.IGNORECASE))\n",
        "print(re.search('[a-z]+', 'sdnJFJjf', re.I))"
      ],
      "execution_count": 122,
      "outputs": [
        {
          "output_type": "stream",
          "name": "stdout",
          "text": [
            "<re.Match object; span=(0, 6), match='xxxXXX'>\n",
            "<re.Match object; span=(0, 6), match='xxxXXX'>\n",
            "<re.Match object; span=(0, 8), match='sdnJFJjf'>\n"
          ]
        }
      ]
    },
    {
      "cell_type": "code",
      "metadata": {
        "colab": {
          "base_uri": "https://localhost:8080/"
        },
        "id": "ujbYJL1NJA7E",
        "outputId": "bc4f2918-993a-47f7-977c-e30b66314bbe"
      },
      "source": [
        "#re.M(re.MULTILINE)\n",
        "s = 'venus\\ncomputer\\nengineer'\n",
        "print(s)\n",
        "\n",
        "\n",
        "print(re.search('^venus', s, re.MULTILINE))\n",
        "print(re.search('^computer', s, re.MULTILINE))\n",
        "\n",
        "print(re.search('venus$', s, re.M))\n",
        "print(re.search('engineer$', s, re.M))"
      ],
      "execution_count": 126,
      "outputs": [
        {
          "output_type": "stream",
          "name": "stdout",
          "text": [
            "venus\n",
            "computer\n",
            "engineer\n",
            "<re.Match object; span=(0, 5), match='venus'>\n",
            "<re.Match object; span=(6, 14), match='computer'>\n",
            "<re.Match object; span=(0, 5), match='venus'>\n",
            "<re.Match object; span=(15, 23), match='engineer'>\n"
          ]
        }
      ]
    },
    {
      "cell_type": "code",
      "metadata": {
        "colab": {
          "base_uri": "https://localhost:8080/"
        },
        "id": "aCZaJt5QLqFL",
        "outputId": "23d6575a-a4fa-4b91-f740-3a132e243265"
      },
      "source": [
        "#re.S(re.DOTALL)\n",
        "print(re.search('venus.computer', 'venus\\ncomputer', re.DOTALL))\n",
        "re.search('canada.toronto', 'canada\\ntoronto', re.S)"
      ],
      "execution_count": 129,
      "outputs": [
        {
          "output_type": "stream",
          "name": "stdout",
          "text": [
            "<re.Match object; span=(0, 14), match='venus\\ncomputer'>\n"
          ]
        },
        {
          "output_type": "execute_result",
          "data": {
            "text/plain": [
              "<re.Match object; span=(0, 14), match='canada\\ntoronto'>"
            ]
          },
          "metadata": {},
          "execution_count": 129
        }
      ]
    },
    {
      "cell_type": "code",
      "metadata": {
        "colab": {
          "base_uri": "https://localhost:8080/"
        },
        "id": "2R7kBCqXMQYF",
        "outputId": "5e7bf6fd-9a1b-4a60-e207-e211a137b0f2"
      },
      "source": [
        "#re.DEBUG\n",
        "print(re.search('x[123]{2,4}y', 'x222y', re.DEBUG))\n",
        "\n",
        "re.D = re.DEBUG\n",
        "re.search('foo', 'foo', re.D)"
      ],
      "execution_count": 133,
      "outputs": [
        {
          "output_type": "stream",
          "name": "stdout",
          "text": [
            "LITERAL 120\n",
            "MAX_REPEAT 2 4\n",
            "  IN\n",
            "    LITERAL 49\n",
            "    LITERAL 50\n",
            "    LITERAL 51\n",
            "LITERAL 121\n",
            "\n",
            " 0. INFO 8 0b1 4 6 (to 9)\n",
            "      prefix_skip 1\n",
            "      prefix [0x78] ('x')\n",
            "      overlap [0]\n",
            " 9: LITERAL 0x78 ('x')\n",
            "11. REPEAT_ONE 10 2 4 (to 22)\n",
            "15.   IN 5 (to 21)\n",
            "17.     RANGE 0x31 0x33 ('1'-'3')\n",
            "20.     FAILURE\n",
            "21:   SUCCESS\n",
            "22: LITERAL 0x79 ('y')\n",
            "24. SUCCESS\n",
            "<re.Match object; span=(0, 5), match='x222y'>\n",
            "LITERAL 102\n",
            "LITERAL 111\n",
            "LITERAL 111\n",
            "\n",
            " 0. INFO 12 0b11 3 3 (to 13)\n",
            "      prefix_skip 3\n",
            "      prefix [0x66, 0x6f, 0x6f] ('foo')\n",
            "      overlap [0, 0, 0]\n",
            "13: LITERAL 0x66 ('f')\n",
            "15. LITERAL 0x6f ('o')\n",
            "17. LITERAL 0x6f ('o')\n",
            "19. SUCCESS\n"
          ]
        },
        {
          "output_type": "execute_result",
          "data": {
            "text/plain": [
              "<re.Match object; span=(0, 3), match='foo'>"
            ]
          },
          "metadata": {},
          "execution_count": 133
        }
      ]
    },
    {
      "cell_type": "code",
      "metadata": {
        "colab": {
          "base_uri": "https://localhost:8080/"
        },
        "id": "aFCUzMykN2Ea",
        "outputId": "2d9eb886-c067-4b9b-8094-95898427bfcd"
      },
      "source": [
        "re.search('^venus', 'computer\\nVENUS\\nCOM\\n', re.I|re.M)"
      ],
      "execution_count": 136,
      "outputs": [
        {
          "output_type": "execute_result",
          "data": {
            "text/plain": [
              "<re.Match object; span=(9, 14), match='VENUS'>"
            ]
          },
          "metadata": {},
          "execution_count": 136
        }
      ]
    },
    {
      "cell_type": "code",
      "metadata": {
        "colab": {
          "base_uri": "https://localhost:8080/"
        },
        "id": "ZTT3SGk5OJae",
        "outputId": "b0bdeee3-5598-4bd9-b824-54834f8bc0ec"
      },
      "source": [
        "import sys\n",
        "sys.version\n",
        "re.search('VENUS.COMPUTER.COM(?s)', 'VENUS\\nCOMPUTER\\nCOM')"
      ],
      "execution_count": 138,
      "outputs": [
        {
          "output_type": "stream",
          "name": "stderr",
          "text": [
            "/usr/local/lib/python3.7/dist-packages/ipykernel_launcher.py:3: DeprecationWarning: Flags not at the start of the expression 'VENUS.COMPUTER.COM(?' (truncated)\n",
            "  This is separate from the ipykernel package so we can avoid doing imports until\n"
          ]
        },
        {
          "output_type": "execute_result",
          "data": {
            "text/plain": [
              "<re.Match object; span=(0, 18), match='VENUS\\nCOMPUTER\\nCOM'>"
            ]
          },
          "metadata": {},
          "execution_count": 138
        }
      ]
    }
  ]
}