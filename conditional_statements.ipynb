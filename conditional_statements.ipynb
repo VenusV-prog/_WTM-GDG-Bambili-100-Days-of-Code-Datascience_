{
  "nbformat": 4,
  "nbformat_minor": 0,
  "metadata": {
    "colab": {
      "name": "conditional_statements.ipynb",
      "provenance": [],
      "authorship_tag": "ABX9TyPN3GDGOcpPxaVlSsPdktaA",
      "include_colab_link": true
    },
    "kernelspec": {
      "name": "python3",
      "display_name": "Python 3"
    },
    "language_info": {
      "name": "python"
    }
  },
  "cells": [
    {
      "cell_type": "markdown",
      "metadata": {
        "id": "view-in-github",
        "colab_type": "text"
      },
      "source": [
        "<a href=\"https://colab.research.google.com/github/VenusV-prog/_WTM-GDG-Bambili-100-Days-of-Code-Datascience_/blob/main/conditional_statements.ipynb\" target=\"_parent\"><img src=\"https://colab.research.google.com/assets/colab-badge.svg\" alt=\"Open In Colab\"/></a>"
      ]
    },
    {
      "cell_type": "code",
      "metadata": {
        "colab": {
          "base_uri": "https://localhost:8080/"
        },
        "id": "hLBxrf761GaX",
        "outputId": "f29c8a7d-24d8-425b-af24-4b0596108a38"
      },
      "source": [
        "a = 10\n",
        "b = 4\n",
        "c = 0\n",
        "\n",
        "if b < a:\n",
        "  print('yes')\n",
        "if a < b:\n",
        "  print('yes')\n",
        "if a:\n",
        "  print('true')\n",
        "if b:\n",
        "  print('vrai')\n",
        "if c:\n",
        "  print('yes')\n",
        "if 'venus' in [2, 'jupiter', 'venus', 7.8]:\n",
        "  print('present')\n",
        "if 'now' in 'know':\n",
        "  print('true')"
      ],
      "execution_count": 16,
      "outputs": [
        {
          "output_type": "stream",
          "name": "stdout",
          "text": [
            "yes\n",
            "true\n",
            "vrai\n",
            "present\n",
            "true\n"
          ]
        }
      ]
    },
    {
      "cell_type": "markdown",
      "metadata": {
        "id": "8ZobqI3K4uh6"
      },
      "source": [
        "the expression after the if statement is evaluated as a boolean meaning the value must be true or false then the expression that follows must be indented and also must be a valid python statement"
      ]
    },
    {
      "cell_type": "code",
      "metadata": {
        "colab": {
          "base_uri": "https://localhost:8080/"
        },
        "id": "4AV8MA0R4fBl",
        "outputId": "2ac8132e-19f0-45f8-c424-a2353e8ed3e8"
      },
      "source": [
        "if 'biology' in ['maths', 'physics', 5.5, 7, 'biology']:\n",
        "    print('the expr was true')\n",
        "    print('biology was present in the list')\n",
        "    print('bilogy is an element of list')\n",
        "print('conditional statement had a value truthy value')"
      ],
      "execution_count": 23,
      "outputs": [
        {
          "output_type": "stream",
          "name": "stdout",
          "text": [
            "the expr was true\n",
            "biology was present in the list\n",
            "bilogy is an element of list\n",
            "conditional statement had a value truthy value\n"
          ]
        }
      ]
    },
    {
      "cell_type": "markdown",
      "metadata": {
        "id": "PokjFIsw6IBl"
      },
      "source": [
        "to print many statements in case the expr is true, we put the true statements in a block(suite) by giving them thesame indentation. the statement to print if the expresion was false is given an outdent from the true statements and will be executed instead"
      ]
    },
    {
      "cell_type": "code",
      "metadata": {
        "colab": {
          "base_uri": "https://localhost:8080/"
        },
        "id": "rhb1FszS7tE_",
        "outputId": "f2a92d48-4b6b-4ee4-dacc-fd7e19ea7c19"
      },
      "source": [
        "#more complicated blocks applying off-side rule\n",
        "\n",
        "if 'biology' in ['maths', 'physics', 5.5, 7, 'biology']:\n",
        "    print('the expr was true')\n",
        "    print('biology was present in the list')\n",
        "    print('biology is an element of list')\n",
        "    \n",
        "    if 6 < 10:\n",
        "      print('the inner block was executed')\n",
        "    if 'a' in ['a', 'b', 'c']:\n",
        "      print('another inner block was executed')\n",
        "print('conditional statement had a value truthy value hence inner blocks were executed') "
      ],
      "execution_count": 29,
      "outputs": [
        {
          "output_type": "stream",
          "name": "stdout",
          "text": [
            "the expr was true\n",
            "biology was present in the list\n",
            "biology is an element of list\n",
            "the inner block was executed\n",
            "another inner block was executed\n",
            "conditional statement had a value truthy value hence inner blocks were executed\n"
          ]
        }
      ]
    },
    {
      "cell_type": "code",
      "metadata": {
        "colab": {
          "base_uri": "https://localhost:8080/"
        },
        "id": "kpSpL5oJ-dZ3",
        "outputId": "f7f16b16-17de-469a-a54f-ff6fa8c961db"
      },
      "source": [
        "#the else clause\n",
        "if 'biology' in ['maths', 'physics', 5.5, 7]:\n",
        "    print('the expr was true')\n",
        "    print('biology was present')\n",
        "else:\n",
        "  print('expr was false')\n",
        "  print('biology was absent')\n"
      ],
      "execution_count": 33,
      "outputs": [
        {
          "output_type": "stream",
          "name": "stdout",
          "text": [
            "expr was false\n",
            "biology was absent\n"
          ]
        }
      ]
    },
    {
      "cell_type": "markdown",
      "metadata": {
        "id": "5gnRiFzH_hnF"
      },
      "source": [
        "biology was absent so the first suite was skipped and the second was executed"
      ]
    },
    {
      "cell_type": "code",
      "metadata": {
        "colab": {
          "base_uri": "https://localhost:8080/"
        },
        "id": "nW9E2UnwAApG",
        "outputId": "9871a982-2b68-4a8a-dd86-ce29c3305413"
      },
      "source": [
        "fav_subject = 'maths'\n",
        "if fav_subject == 'geography':\n",
        "  print('i hate geography')\n",
        "elif fav_subject == 'history':\n",
        "  print('i do not like history either')\n",
        "elif fav_subject == 'maths':\n",
        "  print('i love maths')\n",
        "else:\n",
        "  print('i do not know this subject')\n"
      ],
      "execution_count": 35,
      "outputs": [
        {
          "output_type": "stream",
          "name": "stdout",
          "text": [
            "i love maths\n"
          ]
        }
      ]
    },
    {
      "cell_type": "code",
      "metadata": {
        "colab": {
          "base_uri": "https://localhost:8080/"
        },
        "id": "O4yHJmdGCIK_",
        "outputId": "674deb0f-b76a-41c6-e9ae-04e241223c77"
      },
      "source": [
        "fav_subject = {\n",
        "    'maths': 'i love maths',\n",
        "    'geography': 'i hate geography',\n",
        "    'history': 'i do not lime history either'\n",
        "}\n",
        "print(fav_subject.get('maths', 'i love maths'))\n",
        "print(fav_subject.get('geography', 'i hate geography'))"
      ],
      "execution_count": 39,
      "outputs": [
        {
          "output_type": "stream",
          "name": "stdout",
          "text": [
            "i love maths\n",
            "i hate geography\n"
          ]
        }
      ]
    },
    {
      "cell_type": "code",
      "metadata": {
        "colab": {
          "base_uri": "https://localhost:8080/"
        },
        "id": "ymKCZX0KD9L1",
        "outputId": "3f8346f9-397d-41f2-a2ea-c873ba9a767b"
      },
      "source": [
        "#one-line if statements\n",
        "if 2 < 3: print('2 is small'); print('3 is bigger'); print('the expr was true')"
      ],
      "execution_count": 43,
      "outputs": [
        {
          "output_type": "stream",
          "name": "stdout",
          "text": [
            "2 is small\n",
            "3 is bigger\n",
            "the expr was true\n"
          ]
        }
      ]
    },
    {
      "cell_type": "code",
      "metadata": {
        "colab": {
          "base_uri": "https://localhost:8080/"
        },
        "id": "hwwQ2JFUEfmX",
        "outputId": "39ff219e-051f-4b54-b2ea-68241ef9d6f5"
      },
      "source": [
        "#one-line elif\n",
        "x = 0\n",
        "if x == 1: print('false'); print('x is not 2'); print('no')\n",
        "elif x == 2: print('true expr'); print('x is equal to 2')\n",
        "else: print('x is invalid'); print('x is none')"
      ],
      "execution_count": 47,
      "outputs": [
        {
          "output_type": "stream",
          "name": "stdout",
          "text": [
            "x is invalid\n",
            "x is none\n"
          ]
        }
      ]
    },
    {
      "cell_type": "code",
      "metadata": {
        "colab": {
          "base_uri": "https://localhost:8080/"
        },
        "id": "qNQygS2UGHVQ",
        "outputId": "e2eeff6d-26c1-4a60-a4dc-571e4ec643de"
      },
      "source": [
        "#conditional expressions\n",
        "raining = False\n",
        "print(\"Let's go to the\", 'beach' if not raining else 'library')"
      ],
      "execution_count": 52,
      "outputs": [
        {
          "output_type": "stream",
          "name": "stdout",
          "text": [
            "Let's go to the beach\n"
          ]
        }
      ]
    },
    {
      "cell_type": "code",
      "metadata": {
        "colab": {
          "base_uri": "https://localhost:8080/"
        },
        "id": "UmXV8FgzGwOB",
        "outputId": "a1afce53-fba7-421a-e147-87550b3ec4ea"
      },
      "source": [
        "raining = True\n",
        "print(\"Let's go to the\", 'beach' if not raining else 'library')"
      ],
      "execution_count": 54,
      "outputs": [
        {
          "output_type": "stream",
          "name": "stdout",
          "text": [
            "Let's go to the library\n"
          ]
        }
      ]
    },
    {
      "cell_type": "code",
      "metadata": {
        "id": "lPhdorv1HSsW"
      },
      "source": [
        "#standard if statements vs conditional expressions\n",
        "#standard if\n",
        "if a > b:\n",
        "  m = a\n",
        "else:\n",
        "  m = b\n",
        "#conditional expression\n",
        "m = a if a > b else b"
      ],
      "execution_count": 57,
      "outputs": []
    },
    {
      "cell_type": "code",
      "metadata": {
        "colab": {
          "base_uri": "https://localhost:8080/"
        },
        "id": "_xnfzY2vITwW",
        "outputId": "c036846f-0e77-4e7e-9575-5a236f700748"
      },
      "source": [
        "x = y = 40\n",
        "z = (1 + x) if x > y else (y + 2)\n",
        "z"
      ],
      "execution_count": 59,
      "outputs": [
        {
          "output_type": "execute_result",
          "data": {
            "text/plain": [
              "42"
            ]
          },
          "metadata": {},
          "execution_count": 59
        }
      ]
    },
    {
      "cell_type": "code",
      "metadata": {
        "colab": {
          "base_uri": "https://localhost:8080/"
        },
        "id": "L7pQLVHkIsEH",
        "outputId": "19c7d6c0-bea1-4925-d59e-9b4f4b241ae2"
      },
      "source": [
        "x = 50 \n",
        "y = 40\n",
        "\n",
        "z = 5 + (x if x > y else y) - 2\n",
        "z"
      ],
      "execution_count": 61,
      "outputs": [
        {
          "output_type": "execute_result",
          "data": {
            "text/plain": [
              "53"
            ]
          },
          "metadata": {},
          "execution_count": 61
        }
      ]
    },
    {
      "cell_type": "markdown",
      "metadata": {
        "id": "hJciP8iKJBX1"
      },
      "source": [
        "here, the conditional expression is evaluated first due to the paranthesis. hence we have 5 + 50 - 2"
      ]
    },
    {
      "cell_type": "code",
      "metadata": {
        "colab": {
          "base_uri": "https://localhost:8080/",
          "height": 35
        },
        "id": "48wAJpwOJ8Ge",
        "outputId": "14c063ce-0275-478b-d09b-287e92d7038f"
      },
      "source": [
        "#chaining conditional expressions as alternative if else statements\n",
        "x == 5\n",
        "s = ('react' if (x == 1) else\n",
        "      'bootstrap' if (x == 2) else\n",
        "      'vue' if (x == 3) else\n",
        "      'laravel' if (x == 4) else\n",
        "      'codeigniter'\n",
        "    )\n",
        "s"
      ],
      "execution_count": 65,
      "outputs": [
        {
          "output_type": "execute_result",
          "data": {
            "application/vnd.google.colaboratory.intrinsic+json": {
              "type": "string"
            },
            "text/plain": [
              "'codeigniter'"
            ]
          },
          "metadata": {},
          "execution_count": 65
        }
      ]
    },
    {
      "cell_type": "code",
      "metadata": {
        "colab": {
          "base_uri": "https://localhost:8080/"
        },
        "id": "DHONXYTWm_Ro",
        "outputId": "16cab9db-d1dd-4d69-9f9f-d2139545c0bc"
      },
      "source": [
        "#python pass statement\n",
        "if True:\n",
        "    pass\n",
        "\n",
        "print('success')\n"
      ],
      "execution_count": 67,
      "outputs": [
        {
          "output_type": "stream",
          "name": "stdout",
          "text": [
            "success\n"
          ]
        }
      ]
    },
    {
      "cell_type": "markdown",
      "metadata": {
        "id": "v2TK6ukdnHAm"
      },
      "source": [
        "the pass is used to enable the enterpreter run the code normally when a statement was required"
      ]
    }
  ]
}