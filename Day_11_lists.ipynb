{
  "nbformat": 4,
  "nbformat_minor": 0,
  "metadata": {
    "colab": {
      "name": "Day_11_lists.ipynb",
      "provenance": [],
      "authorship_tag": "ABX9TyMQAdqbIxHjICPgc+PWjWKM",
      "include_colab_link": true
    },
    "kernelspec": {
      "name": "python3",
      "display_name": "Python 3"
    },
    "language_info": {
      "name": "python"
    }
  },
  "cells": [
    {
      "cell_type": "markdown",
      "metadata": {
        "id": "view-in-github",
        "colab_type": "text"
      },
      "source": [
        "<a href=\"https://colab.research.google.com/github/VenusV-prog/_WTM-GDG-Bambili-100-Days-of-Code-Datascience_/blob/main/Day_11_lists.ipynb\" target=\"_parent\"><img src=\"https://colab.research.google.com/assets/colab-badge.svg\" alt=\"Open In Colab\"/></a>"
      ]
    },
    {
      "cell_type": "code",
      "metadata": {
        "id": "W9dCkKRCe-7T",
        "colab": {
          "base_uri": "https://localhost:8080/"
        },
        "outputId": "33af0886-e184-4046-e392-d2db0dc79c4c"
      },
      "source": [
        "#properties of lists \n",
        "#lists are ordered\n",
        "city = ['London', 'Lagos', 'Ontario', 'Toronto','Iowa']\n",
        "city2 = ['Lagos', 'Ontario', 'London', 'Iowa', 'Toronto']\n",
        "city == city2"
      ],
      "execution_count": 2,
      "outputs": [
        {
          "output_type": "execute_result",
          "data": {
            "text/plain": [
              "False"
            ]
          },
          "metadata": {},
          "execution_count": 2
        }
      ]
    },
    {
      "cell_type": "code",
      "metadata": {
        "colab": {
          "base_uri": "https://localhost:8080/"
        },
        "id": "zkwbmmDk2JeK",
        "outputId": "9a1b1129-59b1-409e-ed34-4d27e39f0567"
      },
      "source": [
        "#lists can contain varrying datatypes including functions,modules and complex objects\n",
        "city = ['London', True, 5.38, 'Toronto',60]\n",
        "city"
      ],
      "execution_count": 13,
      "outputs": [
        {
          "output_type": "execute_result",
          "data": {
            "text/plain": [
              "['London', True, 5.38, 'Toronto', 60]"
            ]
          },
          "metadata": {},
          "execution_count": 13
        }
      ]
    },
    {
      "cell_type": "code",
      "metadata": {
        "colab": {
          "base_uri": "https://localhost:8080/"
        },
        "id": "cyi9tZPuBfBn",
        "outputId": "cea89ca7-3ddf-4f09-c0d4-cff9c902a235"
      },
      "source": [
        "#a list can contain thesame element twice, elements can be indexed and sliced\n",
        "city = ['London', 'Lagos', 'Ontario', 'Toronto','Iowa', 'London']\n",
        "city[3]\n",
        "city[1:4]\n",
        "print(city[:4], city[0:4])\n",
        "#a stride can be specified\n",
        "print(city[0:6:3])"
      ],
      "execution_count": 19,
      "outputs": [
        {
          "output_type": "stream",
          "name": "stdout",
          "text": [
            "['London', 'Lagos', 'Ontario', 'Toronto'] ['London', 'Lagos', 'Ontario', 'Toronto']\n",
            "['London', 'Toronto']\n"
          ]
        }
      ]
    },
    {
      "cell_type": "code",
      "metadata": {
        "colab": {
          "base_uri": "https://localhost:8080/"
        },
        "id": "ZBgEkSkeDa8v",
        "outputId": "478192be-4a38-4083-c5aa-22d99b395e8e"
      },
      "source": [
        "#using negative indices\n",
        "city = ['London', 'Lagos', 'Ontario', 'Toronto','Iowa', 'London']\n",
        "x = city[-5:-2]\n",
        "x\n",
        "y = city[1:4]\n",
        "y\n",
        "x == y"
      ],
      "execution_count": 23,
      "outputs": [
        {
          "output_type": "execute_result",
          "data": {
            "text/plain": [
              "True"
            ]
          },
          "metadata": {},
          "execution_count": 23
        }
      ]
    },
    {
      "cell_type": "code",
      "metadata": {
        "colab": {
          "base_uri": "https://localhost:8080/"
        },
        "id": "5LYOFFZKEANm",
        "outputId": "6892bcb7-951b-4f55-f36c-e5632931518c"
      },
      "source": [
        "#reversing a list\n",
        "city = ['London', 'Lagos', 'Ontario', 'Toronto','Iowa']\n",
        "city[::-1]"
      ],
      "execution_count": 26,
      "outputs": [
        {
          "output_type": "execute_result",
          "data": {
            "text/plain": [
              "['Iowa', 'Toronto', 'Ontario', 'Lagos', 'London']"
            ]
          },
          "metadata": {},
          "execution_count": 26
        }
      ]
    },
    {
      "cell_type": "code",
      "metadata": {
        "colab": {
          "base_uri": "https://localhost:8080/"
        },
        "id": "JvVyE0_YEZ8H",
        "outputId": "ce88d5aa-6b98-45ad-ab6f-ffbc11748138"
      },
      "source": [
        "#in and not operators, concantenation and replication\n",
        "city = ['London', 'Lagos', 'Ontario', 'Toronto','Iowa']\n",
        "'Iowas' in city\n",
        "'Ontario' not in city\n",
        "city + ['Carlifonia', 'Douala']\n",
        "city*2"
      ],
      "execution_count": 31,
      "outputs": [
        {
          "output_type": "execute_result",
          "data": {
            "text/plain": [
              "['London',\n",
              " 'Lagos',\n",
              " 'Ontario',\n",
              " 'Toronto',\n",
              " 'Iowa',\n",
              " 'London',\n",
              " 'Lagos',\n",
              " 'Ontario',\n",
              " 'Toronto',\n",
              " 'Iowa']"
            ]
          },
          "metadata": {},
          "execution_count": 31
        }
      ]
    },
    {
      "cell_type": "code",
      "metadata": {
        "colab": {
          "base_uri": "https://localhost:8080/",
          "height": 35
        },
        "id": "HOr27HwnFaak",
        "outputId": "d5c01ca8-8c1d-41b7-9b9b-5af6b65ba5d9"
      },
      "source": [
        "#len(), min() and max() fxns\n",
        "city = ['London', 'Lagos', 'Ontario', 'Toronto','Iowa']\n",
        "len(city)\n",
        "min(city)\n",
        "max(city)"
      ],
      "execution_count": 35,
      "outputs": [
        {
          "output_type": "execute_result",
          "data": {
            "application/vnd.google.colaboratory.intrinsic+json": {
              "type": "string"
            },
            "text/plain": [
              "'Toronto'"
            ]
          },
          "metadata": {},
          "execution_count": 35
        }
      ]
    },
    {
      "cell_type": "code",
      "metadata": {
        "colab": {
          "base_uri": "https://localhost:8080/"
        },
        "id": "bkKskS0hGB7B",
        "outputId": "33207311-14c5-4451-ba5b-ff977c5e9892"
      },
      "source": [
        "#lists can be nested\n",
        "city = ['London', 'Lagos', ['Ontario', 'Quebec', False], 'Toronto',['Iowa', 5, 23.7, 'Canada']]\n",
        "print(city[4][2])\n",
        "print([city[0], len(city) + city[4][1]])"
      ],
      "execution_count": 38,
      "outputs": [
        {
          "output_type": "stream",
          "name": "stdout",
          "text": [
            "23.7\n",
            "['London', 10]\n"
          ]
        }
      ]
    },
    {
      "cell_type": "code",
      "metadata": {
        "colab": {
          "base_uri": "https://localhost:8080/"
        },
        "id": "xT0G09wvH4AZ",
        "outputId": "a02e24d2-4249-4bee-9fce-cebde36fbb96"
      },
      "source": [
        "#modifying lists\n",
        "city = ['London', 'Lagos', ['Ontario', 'Quebec', False], 'Toronto',['Iowa', 5, 23.7, 'Canada']]\n",
        "city[4] = 'Bamenda'\n",
        "city"
      ],
      "execution_count": 40,
      "outputs": [
        {
          "output_type": "execute_result",
          "data": {
            "text/plain": [
              "['London', 'Lagos', ['Ontario', 'Quebec', False], 'Toronto', 'Bamenda']"
            ]
          },
          "metadata": {},
          "execution_count": 40
        }
      ]
    },
    {
      "cell_type": "code",
      "metadata": {
        "colab": {
          "base_uri": "https://localhost:8080/"
        },
        "id": "1U9HUh_WIJdU",
        "outputId": "e3585258-c264-4dd5-a036-343126c012f6"
      },
      "source": [
        "#deleting list elements\n",
        "city = ['London', 'Lagos', ['Ontario', 'Quebec', False], 'Toronto',['Iowa', 5, 23.7, 'Canada']]\n",
        "del city[4]\n",
        "city\n",
        "del city[2:]\n",
        "city\n",
        "#or\n",
        "city[2:] = []\n",
        "city"
      ],
      "execution_count": 47,
      "outputs": [
        {
          "output_type": "execute_result",
          "data": {
            "text/plain": [
              "['London', 'Lagos']"
            ]
          },
          "metadata": {},
          "execution_count": 47
        }
      ]
    },
    {
      "cell_type": "code",
      "metadata": {
        "colab": {
          "base_uri": "https://localhost:8080/"
        },
        "id": "aI685jAeJOw5",
        "outputId": "6da92c3d-7cf0-43e0-a3c7-f5a1bc7b9fc4"
      },
      "source": [
        "#adding elements to a list\n",
        "city = ['London', 'Lagos']\n",
        "city[0:1] = [5, 'Bamenda', 23.7]\n",
        "city\n",
        "city[0:0] = [5, 'Bamenda', 23.7]\n",
        "city"
      ],
      "execution_count": 62,
      "outputs": [
        {
          "output_type": "execute_result",
          "data": {
            "text/plain": [
              "[5, 'Bamenda', 23.7, 5, 'Bamenda', 23.7, 'Lagos']"
            ]
          },
          "metadata": {},
          "execution_count": 62
        }
      ]
    },
    {
      "cell_type": "code",
      "metadata": {
        "colab": {
          "base_uri": "https://localhost:8080/"
        },
        "id": "i6vESirGLLwE",
        "outputId": "eb33ad88-da10-4c9e-8f47-c7a45d486f80"
      },
      "source": [
        "#append\n",
        "city = ['London', 'Toronto']\n",
        "city.append([5, 23.7, 'Bamenda'])\n",
        "city"
      ],
      "execution_count": 51,
      "outputs": [
        {
          "output_type": "execute_result",
          "data": {
            "text/plain": [
              "['London', 'Toronto', [5, 23.7, 'Bamenda']]"
            ]
          },
          "metadata": {},
          "execution_count": 51
        }
      ]
    },
    {
      "cell_type": "code",
      "metadata": {
        "colab": {
          "base_uri": "https://localhost:8080/"
        },
        "id": "mmninsC4L0ka",
        "outputId": "f7eaf212-c624-4937-ab02-ea42d78c3480"
      },
      "source": [
        "#extend similar to + operator\n",
        "city = ['London', 'Toronto']\n",
        "city.extend([5, 23.7, 'Bamenda'])\n",
        "city"
      ],
      "execution_count": 53,
      "outputs": [
        {
          "output_type": "execute_result",
          "data": {
            "text/plain": [
              "['London', 'Toronto', 5, 23.7, 'Bamenda']"
            ]
          },
          "metadata": {},
          "execution_count": 53
        }
      ]
    },
    {
      "cell_type": "code",
      "metadata": {
        "colab": {
          "base_uri": "https://localhost:8080/"
        },
        "id": "PZh9OriGMTh2",
        "outputId": "a5a1630a-3ff3-4e33-f799-b3a11e3fb8d8"
      },
      "source": [
        "#insert, remove and pop on lists\n",
        "city = ['London', 'Toronto']\n",
        "city.insert(2, 5)\n",
        "city\n",
        "city += ['Bamenda']\n",
        "city"
      ],
      "execution_count": 65,
      "outputs": [
        {
          "output_type": "execute_result",
          "data": {
            "text/plain": [
              "['London', 'Toronto', 5, 'Bamenda']"
            ]
          },
          "metadata": {},
          "execution_count": 65
        }
      ]
    },
    {
      "cell_type": "code",
      "metadata": {
        "colab": {
          "base_uri": "https://localhost:8080/"
        },
        "id": "fZwmhc1XMxXm",
        "outputId": "b62e40c8-3743-4385-dd58-2ae485f53d58"
      },
      "source": [
        "#with remove we specify the element\n",
        "city = ['London', 'Toronto']\n",
        "city.remove(city[0])\n",
        "city"
      ],
      "execution_count": 58,
      "outputs": [
        {
          "output_type": "execute_result",
          "data": {
            "text/plain": [
              "['Toronto']"
            ]
          },
          "metadata": {},
          "execution_count": 58
        }
      ]
    },
    {
      "cell_type": "code",
      "metadata": {
        "colab": {
          "base_uri": "https://localhost:8080/"
        },
        "id": "InTyZ6aMM_AG",
        "outputId": "0a848d59-1933-40a0-fbff-5eb2c434700d"
      },
      "source": [
        "#pop removes the last element\n",
        "city = ['London', 'Lagos', ['Ontario', 'Quebec', False], 'Toronto',['Iowa', 5, 23.7, 'Canada']]\n",
        "city.pop()\n",
        "city\n",
        "city.pop()\n",
        "city\n",
        "city.pop()\n",
        "city"
      ],
      "execution_count": 66,
      "outputs": [
        {
          "output_type": "execute_result",
          "data": {
            "text/plain": [
              "['London', 'Lagos']"
            ]
          },
          "metadata": {},
          "execution_count": 66
        }
      ]
    },
    {
      "cell_type": "code",
      "metadata": {
        "colab": {
          "base_uri": "https://localhost:8080/"
        },
        "id": "UsYk7HK1O2F_",
        "outputId": "4313fed3-97bb-463f-dc7a-8b443a01461b"
      },
      "source": [
        "#tuples have thesame properties with lists except that it can't be modified\n",
        "city = ('London', 'Lagos', 'Ontario')\n",
        "type(city)\n",
        "city = ('london',)\n",
        "type(city)"
      ],
      "execution_count": 71,
      "outputs": [
        {
          "output_type": "execute_result",
          "data": {
            "text/plain": [
              "tuple"
            ]
          },
          "metadata": {},
          "execution_count": 71
        }
      ]
    },
    {
      "cell_type": "markdown",
      "metadata": {
        "id": "pcvmbuhvPnHF"
      },
      "source": [
        "to define a singleton tupple, add a comma after the element"
      ]
    },
    {
      "cell_type": "code",
      "metadata": {
        "colab": {
          "base_uri": "https://localhost:8080/"
        },
        "id": "GZ3UPSECQkxA",
        "outputId": "4f869625-618f-42c0-daa9-072e364bc0f4"
      },
      "source": [
        "#packing and unpacking in tupples\n",
        "(x1, x2 , x3) = ('London', 'Lagos', 'Ontario')\n",
        "x1\n",
        "city = 'London', 'Lagos', 'Ontario'\n",
        "x1, x2 , x3 = city\n",
        "x1, x2 , x3"
      ],
      "execution_count": 78,
      "outputs": [
        {
          "output_type": "execute_result",
          "data": {
            "text/plain": [
              "('London', 'Lagos', 'Ontario')"
            ]
          },
          "metadata": {},
          "execution_count": 78
        }
      ]
    }
  ]
}