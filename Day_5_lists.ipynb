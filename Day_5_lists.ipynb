{
  "nbformat": 4,
  "nbformat_minor": 0,
  "metadata": {
    "colab": {
      "name": "Day 5- lists.ipynb",
      "provenance": [],
      "collapsed_sections": [],
      "authorship_tag": "ABX9TyPzdQxy0lu9o2D8mu4bVRO5",
      "include_colab_link": true
    },
    "kernelspec": {
      "name": "python3",
      "display_name": "Python 3"
    },
    "language_info": {
      "name": "python"
    }
  },
  "cells": [
    {
      "cell_type": "markdown",
      "metadata": {
        "id": "view-in-github",
        "colab_type": "text"
      },
      "source": [
        "<a href=\"https://colab.research.google.com/github/VenusV-prog/_WTM-GDG-Bambili-100-Days-of-Code-Datascience_/blob/main/Day_5_lists.ipynb\" target=\"_parent\"><img src=\"https://colab.research.google.com/assets/colab-badge.svg\" alt=\"Open In Colab\"/></a>"
      ]
    },
    {
      "cell_type": "code",
      "metadata": {
        "colab": {
          "base_uri": "https://localhost:8080/"
        },
        "id": "8_w2vneQpdxb",
        "outputId": "f799f7e3-d677-46ff-cd77-9856fcf70a18"
      },
      "source": [
        "list1=[\"hi\", \"my\", \"name\", \"is\", \"venus\", 4, 5, 10, 8, 9, 3.3, 3.05, 7.8, 0.5 ]\n",
        "print(list1)"
      ],
      "execution_count": null,
      "outputs": [
        {
          "output_type": "stream",
          "name": "stdout",
          "text": [
            "['hi', 'my', 'name', 'is', 'venus', 4, 5, 10, 8, 9, 3.3, 3.05, 7.8, 0.5]\n"
          ]
        }
      ]
    },
    {
      "cell_type": "code",
      "metadata": {
        "colab": {
          "base_uri": "https://localhost:8080/"
        },
        "id": "F0Q2HhsCv7cF",
        "outputId": "51c3ab4a-1411-4ac3-aeeb-94c795895cec"
      },
      "source": [
        "var1=\"Hello\" + \" world\"\n",
        "list1.append(var1)\n",
        "print(list1)"
      ],
      "execution_count": null,
      "outputs": [
        {
          "output_type": "stream",
          "name": "stdout",
          "text": [
            "['hi', 'my', 'name', 'is', 'venus', 4, 5, 10, 8, 9, 3.3, 3.05, 7.8, 0.5, 'Hello world']\n"
          ]
        }
      ]
    },
    {
      "cell_type": "code",
      "metadata": {
        "id": "6dA1C1OOuZDM"
      },
      "source": [
        "list4=[6, 7, 4, 5.5, 3.65, 3.05, 8.5, 4.6, 7.5, \"my\", \"fav\", \"coding\", \"course\"]"
      ],
      "execution_count": null,
      "outputs": []
    },
    {
      "cell_type": "code",
      "metadata": {
        "colab": {
          "base_uri": "https://localhost:8080/"
        },
        "id": "j9In-Wy8vH6N",
        "outputId": "84d95ecb-f374-49fd-c991-327766692cf6"
      },
      "source": [
        "list5= list1 + list4\n",
        "print(list5)"
      ],
      "execution_count": null,
      "outputs": [
        {
          "output_type": "stream",
          "name": "stdout",
          "text": [
            "['hi', 'my', 'name', 'is', 'venus', 4, 5, 10, 8, 9, 3.3, 3.05, 7.8, 0.5, 'Hello world', 6, 7, 4, 5.5, 3.65, 3.05, 8.5, 4.6, 7.5, 'my', 'fav', 'coding', 'course']\n"
          ]
        }
      ]
    },
    {
      "cell_type": "code",
      "metadata": {
        "colab": {
          "base_uri": "https://localhost:8080/"
        },
        "id": "fihJSbh8wIMS",
        "outputId": "30c4a4fb-4aa5-48b6-b3dc-90d415cf4005"
      },
      "source": [
        "list2=[5, 6, 7.0, \"Eight\", \"Nine\"]\n",
        "list3=print([type(element) for element in list2])"
      ],
      "execution_count": 52,
      "outputs": [
        {
          "output_type": "stream",
          "name": "stdout",
          "text": [
            "[<class 'int'>, <class 'int'>, <class 'float'>, <class 'str'>, <class 'str'>]\n"
          ]
        }
      ]
    },
    {
      "cell_type": "code",
      "metadata": {
        "colab": {
          "base_uri": "https://localhost:8080/"
        },
        "id": "E8oH5kpk4Okl",
        "outputId": "3925d2b8-1d40-4335-9e79-82e4f5926f68"
      },
      "source": [
        "list2=[5, 6, 7.0, \"Eight\", \"Nine\"]\n",
        "list3=[]\n",
        "for element in list2:\n",
        "    var= print (type(element))\n",
        "    list3.append(var)\n",
        "print(list3)"
      ],
      "execution_count": null,
      "outputs": [
        {
          "output_type": "stream",
          "name": "stdout",
          "text": [
            "<class 'int'>\n",
            "<class 'int'>\n",
            "<class 'float'>\n",
            "<class 'str'>\n",
            "<class 'str'>\n",
            "[None, None, None, None, None]\n"
          ]
        }
      ]
    },
    {
      "cell_type": "code",
      "metadata": {
        "colab": {
          "base_uri": "https://localhost:8080/"
        },
        "id": "xmLuQJ9cek7s",
        "outputId": "bf36bc02-3da6-474e-c7f8-4264464b6545"
      },
      "source": [
        "#coming up with the list\n",
        "listindex1 = list(range(2, 11, 2))\n",
        "print(listindex1)\n",
        "#printing the first element of the list\n",
        "print(listindex1[0])\n"
      ],
      "execution_count": null,
      "outputs": [
        {
          "output_type": "stream",
          "name": "stdout",
          "text": [
            "[2, 4, 6, 8, 10]\n",
            "2\n"
          ]
        }
      ]
    },
    {
      "cell_type": "code",
      "metadata": {
        "id": "-gHliQCgnAwq"
      },
      "source": [
        "#print(listindex1[8])\n",
        "#printing 9th element"
      ],
      "execution_count": null,
      "outputs": []
    },
    {
      "cell_type": "markdown",
      "metadata": {
        "id": "WLll8Kw8orOW"
      },
      "source": [
        "list index is out of range when we try printing the 9th element"
      ]
    },
    {
      "cell_type": "code",
      "metadata": {
        "colab": {
          "base_uri": "https://localhost:8080/"
        },
        "id": "zOGzxhe4fYB_",
        "outputId": "802fa67f-6ad9-4948-e48b-b439212c9168"
      },
      "source": [
        "var1 = listindex1[4]\n",
        "print(var1)"
      ],
      "execution_count": null,
      "outputs": [
        {
          "output_type": "stream",
          "name": "stdout",
          "text": [
            "10\n"
          ]
        }
      ]
    },
    {
      "cell_type": "code",
      "metadata": {
        "id": "rF9Bpf95odUc"
      },
      "source": [
        "#var2 = print(listindex1[11])"
      ],
      "execution_count": null,
      "outputs": []
    },
    {
      "cell_type": "markdown",
      "metadata": {
        "id": "0TwFlUSCf9tV"
      },
      "source": [
        "the list index is out of range when we try accesing the 12th element"
      ]
    },
    {
      "cell_type": "code",
      "metadata": {
        "colab": {
          "base_uri": "https://localhost:8080/"
        },
        "id": "3cJ6GQE2gPo1",
        "outputId": "9c192d9e-9aff-4cb9-bdf6-9eb834505254"
      },
      "source": [
        "listindex2 = print(listindex1[3:6])\n",
        "#coming up with another list from listindex 1.\n",
        "#The values i have are the valid ones as we can see the 6th element was not printed cuz i don't have any"
      ],
      "execution_count": 35,
      "outputs": [
        {
          "output_type": "stream",
          "name": "stdout",
          "text": [
            "[8, 10]\n"
          ]
        }
      ]
    },
    {
      "cell_type": "code",
      "metadata": {
        "colab": {
          "base_uri": "https://localhost:8080/"
        },
        "id": "PvkPeVJS2dOf",
        "outputId": "90dd5698-878a-48b6-e0bd-a552e6d1d645"
      },
      "source": [
        "#playing around\n",
        "min = [2, \"hello\", 6.0]\n",
        "[type(min[0]),type(min[1]),type(min[2])]\n"
      ],
      "execution_count": 68,
      "outputs": [
        {
          "output_type": "execute_result",
          "data": {
            "text/plain": [
              "[int, str, float]"
            ]
          },
          "metadata": {},
          "execution_count": 68
        }
      ]
    }
  ]
}