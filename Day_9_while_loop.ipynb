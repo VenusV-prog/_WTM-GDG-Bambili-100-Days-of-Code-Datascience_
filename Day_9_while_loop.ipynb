{
  "nbformat": 4,
  "nbformat_minor": 0,
  "metadata": {
    "colab": {
      "name": "Day_9_while_loop.ipynb",
      "provenance": [],
      "collapsed_sections": [],
      "authorship_tag": "ABX9TyP5P4OKqgPlNNabCTstDFeh",
      "include_colab_link": true
    },
    "kernelspec": {
      "name": "python3",
      "display_name": "Python 3"
    },
    "language_info": {
      "name": "python"
    }
  },
  "cells": [
    {
      "cell_type": "markdown",
      "metadata": {
        "id": "view-in-github",
        "colab_type": "text"
      },
      "source": [
        "<a href=\"https://colab.research.google.com/github/VenusV-prog/_WTM-GDG-Bambili-100-Days-of-Code-Datascience_/blob/main/Day_9_while_loop.ipynb\" target=\"_parent\"><img src=\"https://colab.research.google.com/assets/colab-badge.svg\" alt=\"Open In Colab\"/></a>"
      ]
    },
    {
      "cell_type": "code",
      "metadata": {
        "colab": {
          "base_uri": "https://localhost:8080/"
        },
        "id": "4gnMXL3hVFVn",
        "outputId": "22a4f09f-443e-40d8-bd6b-8fdc67888de3"
      },
      "source": [
        "#simple example on while loop with its format\n",
        "y = 3+5\n",
        "while y > 0:\n",
        "  y -= 1\n",
        "  print(y)"
      ],
      "execution_count": 11,
      "outputs": [
        {
          "output_type": "stream",
          "name": "stdout",
          "text": [
            "7\n",
            "6\n",
            "5\n",
            "4\n",
            "3\n",
            "2\n",
            "1\n",
            "0\n"
          ]
        }
      ]
    },
    {
      "cell_type": "markdown",
      "metadata": {
        "id": "HJiypdq1WyEv"
      },
      "source": [
        "here, the expresion is evaluated in a boolean context and every time the result is true, the statement is executed until it becomes falsy before the while loop is broken"
      ]
    },
    {
      "cell_type": "code",
      "metadata": {
        "id": "nHrRcLSoWko0"
      },
      "source": [
        "#a false while expression\n",
        "n = 0\n",
        "while n > 0:\n",
        "  n -= 1\n",
        "  print(n)"
      ],
      "execution_count": 7,
      "outputs": []
    },
    {
      "cell_type": "markdown",
      "metadata": {
        "id": "FPiBA_oSXMMG"
      },
      "source": [
        "here, the expression is not true hence the statement is not executed"
      ]
    },
    {
      "cell_type": "code",
      "metadata": {
        "colab": {
          "base_uri": "https://localhost:8080/"
        },
        "id": "d19yBNBmYkIz",
        "outputId": "7f12dbce-5467-4ba0-c3b0-2918a1e95f95"
      },
      "source": [
        "city = ['London', 'Lagos', 'Ontario', 'Toronto','Iowa']\n",
        "while city:\n",
        "  print(city.pop(-1))"
      ],
      "execution_count": 56,
      "outputs": [
        {
          "output_type": "stream",
          "name": "stdout",
          "text": [
            "Iowa\n",
            "Toronto\n",
            "Ontario\n",
            "Lagos\n",
            "London\n"
          ]
        }
      ]
    },
    {
      "cell_type": "markdown",
      "metadata": {
        "id": "d8dZi4dctezY"
      },
      "source": [
        "this program is executed untill the list is empty then it stops"
      ]
    },
    {
      "cell_type": "code",
      "metadata": {
        "colab": {
          "base_uri": "https://localhost:8080/"
        },
        "id": "nS1swXo8Y3bM",
        "outputId": "1cc264ed-9f22-4705-fa06-8ccbe55b6aa4"
      },
      "source": [
        "city = ['London', 'Lagos', 'Ontario', 'Toronto','Iowa']\n",
        "while 'Toronto' in city:\n",
        "  print(city.pop(-1))"
      ],
      "execution_count": 57,
      "outputs": [
        {
          "output_type": "stream",
          "name": "stdout",
          "text": [
            "Iowa\n",
            "Toronto\n"
          ]
        }
      ]
    },
    {
      "cell_type": "markdown",
      "metadata": {
        "id": "TR0a1bdRtVf_"
      },
      "source": [
        "this program is executed until Toronto is popped then it stops"
      ]
    },
    {
      "cell_type": "code",
      "metadata": {
        "colab": {
          "base_uri": "https://localhost:8080/"
        },
        "id": "7jxsfa3HajvM",
        "outputId": "d5877327-2065-4149-fced-3de87dd51761"
      },
      "source": [
        "#the break statement\n",
        "n = 5\n",
        "while n > 0:\n",
        "    n -= 1\n",
        "    if n == 2:\n",
        "        break\n",
        "    print(n)\n",
        "print('Loop ended prematurely.')"
      ],
      "execution_count": 58,
      "outputs": [
        {
          "output_type": "stream",
          "name": "stdout",
          "text": [
            "4\n",
            "3\n",
            "Loop ended prematurely.\n"
          ]
        }
      ]
    },
    {
      "cell_type": "markdown",
      "metadata": {
        "id": "JYL5IlowdSFd"
      },
      "source": [
        "the break statement ends the loop prematurely"
      ]
    },
    {
      "cell_type": "code",
      "metadata": {
        "colab": {
          "base_uri": "https://localhost:8080/"
        },
        "id": "LC17fZGxa0u0",
        "outputId": "068fedb8-1f72-49f2-8292-1bc3f26551c6"
      },
      "source": [
        "#the continue statement\n",
        "n = 5\n",
        "while n > 0:\n",
        "    n -= 1\n",
        "    if n == 2:\n",
        "        continue\n",
        "    print(n)\n",
        "print('Loop ended.')"
      ],
      "execution_count": 23,
      "outputs": [
        {
          "output_type": "stream",
          "name": "stdout",
          "text": [
            "4\n",
            "3\n",
            "1\n",
            "0\n",
            "Loop ended.\n"
          ]
        }
      ]
    },
    {
      "cell_type": "markdown",
      "metadata": {
        "id": "Ee8nHRxbdo80"
      },
      "source": [
        "python continue statement terminates the execution of the loop and goes back to the top of the loop and executes it until it is false"
      ]
    },
    {
      "cell_type": "code",
      "metadata": {
        "colab": {
          "base_uri": "https://localhost:8080/"
        },
        "id": "GScIj8j2c2sM",
        "outputId": "1a2a802c-aeaf-48d0-e15b-0cafa75e6ca5"
      },
      "source": [
        "#the else clause\n",
        "n = 5\n",
        "while n > 0:\n",
        "     n -= 1\n",
        "     print(n)\n",
        "else:\n",
        "     print('Loop is completely ended.')"
      ],
      "execution_count": 60,
      "outputs": [
        {
          "output_type": "stream",
          "name": "stdout",
          "text": [
            "4\n",
            "3\n",
            "2\n",
            "1\n",
            "0\n",
            "Loop is completely ended.\n"
          ]
        }
      ]
    },
    {
      "cell_type": "markdown",
      "metadata": {
        "id": "3cl70Xscd-o2"
      },
      "source": [
        "the statement in the else clause is executed once the boolean value of the expression is no longer true"
      ]
    },
    {
      "cell_type": "code",
      "metadata": {
        "colab": {
          "base_uri": "https://localhost:8080/"
        },
        "id": "9x8eF7zlegZf",
        "outputId": "03ef3884-476a-4ab8-f0bc-0aed6135c772"
      },
      "source": [
        "n = 5\n",
        "while n > 0:\n",
        "  n -= 1\n",
        "  print(n)\n",
        "  if n == 2:\n",
        "    break\n",
        "else:\n",
        "   print('Loop is completely done.')"
      ],
      "execution_count": 61,
      "outputs": [
        {
          "output_type": "stream",
          "name": "stdout",
          "text": [
            "4\n",
            "3\n",
            "2\n"
          ]
        }
      ]
    },
    {
      "cell_type": "markdown",
      "metadata": {
        "id": "YnyfuKIUexAP"
      },
      "source": [
        "here the else clause was not executed because the value of the loop body was not false"
      ]
    },
    {
      "cell_type": "code",
      "metadata": {
        "colab": {
          "base_uri": "https://localhost:8080/"
        },
        "id": "g8M-RLI8fDM2",
        "outputId": "2b07520b-9eac-455a-f0f1-f42149dc0e0f"
      },
      "source": [
        "city = ['UK', 'London', 'Lagos', 'Ontario', 'Toronto','Iowa']\n",
        "country = 'UK'\n",
        "province = 'Quebec'\n",
        "\n",
        "i = 0\n",
        "while i < len(city):\n",
        "  if city[i] == country:\n",
        "    #processing elements found\n",
        "    print(country, 'is found in the list')\n",
        "    break\n",
        "  i += 1\n",
        "else:\n",
        "#processing elements not found \n",
        "  print(country, 'not found in list.')"
      ],
      "execution_count": 38,
      "outputs": [
        {
          "output_type": "stream",
          "name": "stdout",
          "text": [
            "UK is found in the list\n"
          ]
        }
      ]
    },
    {
      "cell_type": "code",
      "metadata": {
        "colab": {
          "base_uri": "https://localhost:8080/"
        },
        "id": "s3ZQ-V1gjCGk",
        "outputId": "40b98404-e91a-42b1-ded0-e5b20ebb5af2"
      },
      "source": [
        "#searching an element from a list using valueError exception\n",
        "city = ['UK', 'London', 'Lagos', 'Ontario', 'Toronto','Iowa']\n",
        "province = 'Quebec'\n",
        "try:\n",
        "  print(city.index('Quebec'))\n",
        "except ValueError:\n",
        "  print(province, 'is not found in the list.')"
      ],
      "execution_count": 42,
      "outputs": [
        {
          "output_type": "stream",
          "name": "stdout",
          "text": [
            "Quebec is not found in the list.\n"
          ]
        }
      ]
    },
    {
      "cell_type": "code",
      "metadata": {
        "colab": {
          "base_uri": "https://localhost:8080/"
        },
        "id": "LCS7hf3VmswK",
        "outputId": "0ca74eb8-19b8-421d-fb0b-f4730fad2c4e"
      },
      "source": [
        "#nested if/elif/else statements\n",
        "age = 10\n",
        "gender = 'F'\n",
        "if age < 18:\n",
        "    if gender == 'M':\n",
        "        print('son')\n",
        "    else:\n",
        "        print('daughter')\n",
        "elif age >= 18 and age < 65:\n",
        "    if gender == 'M':\n",
        "        print('father')\n",
        "    else:\n",
        "        print('mother')\n",
        "else:\n",
        "    if gender == 'M':\n",
        "        print('grandfather')\n",
        "    else:\n",
        "        print('grandmother')"
      ],
      "execution_count": 50,
      "outputs": [
        {
          "output_type": "stream",
          "name": "stdout",
          "text": [
            "daughter\n"
          ]
        }
      ]
    },
    {
      "cell_type": "markdown",
      "metadata": {
        "id": "0nD9p5SKoQP9"
      },
      "source": [
        "here, the program stops executing at the first elif since the value was false! this loop is neccesary when we take the age variable from the user thereby having dynamic ages and gender. will look at an example in the next cell"
      ]
    },
    {
      "cell_type": "code",
      "metadata": {
        "colab": {
          "base_uri": "https://localhost:8080/"
        },
        "id": "VLKvQmSHrHqs",
        "outputId": "a2ed07f7-1675-4d59-d101-f53a7a97fef6"
      },
      "source": [
        "#example on the nested if/elif/else loop\n",
        "age = int(input('enter your age:'))\n",
        "gender = input('eneter your gender M(male) and F(female):')\n",
        "if age < 18:\n",
        "    if gender == 'M':\n",
        "        print('son')\n",
        "    else:\n",
        "        print('daughter')\n",
        "elif age >= 18 and age < 65:\n",
        "    if gender == 'M':\n",
        "        print('father')\n",
        "    else:\n",
        "        print('mother')\n",
        "else:\n",
        "    if gender == 'M':\n",
        "        print('grandfather')\n",
        "    else:\n",
        "        print('grandmother')"
      ],
      "execution_count": 55,
      "outputs": [
        {
          "output_type": "stream",
          "name": "stdout",
          "text": [
            "enter your age:50\n",
            "eneter your gender M(male) and F(female):M\n",
            "father\n"
          ]
        }
      ]
    },
    {
      "cell_type": "code",
      "metadata": {
        "colab": {
          "base_uri": "https://localhost:8080/"
        },
        "id": "od3hrtNWoAb4",
        "outputId": "518046eb-94cb-4c4b-84df-9fed9207682b"
      },
      "source": [
        "#nested while loop\n",
        "city = ['Iowa', 'London', 'Lagos', 'Ontario']\n",
        "while len(city):\n",
        "   print(city.pop(0))\n",
        "   country = ['UK', 'Canada']\n",
        "   while len(country):\n",
        "      print('#',country.pop(0))"
      ],
      "execution_count": 53,
      "outputs": [
        {
          "output_type": "stream",
          "name": "stdout",
          "text": [
            "Iowa\n",
            "# UK\n",
            "# Canada\n",
            "London\n",
            "# UK\n",
            "# Canada\n",
            "Lagos\n",
            "# UK\n",
            "# Canada\n",
            "Ontario\n",
            "# UK\n",
            "# Canada\n"
          ]
        }
      ]
    },
    {
      "cell_type": "markdown",
      "metadata": {
        "id": "fAMSo9CSpbw-"
      },
      "source": [
        "the while loop nested in the first statement is executed as a statement everytime the first while expre is true"
      ]
    },
    {
      "cell_type": "code",
      "metadata": {
        "colab": {
          "base_uri": "https://localhost:8080/"
        },
        "id": "gjtoiSB3qNh3",
        "outputId": "f675b795-3f5c-45f3-c3df-576574dc6a6b"
      },
      "source": [
        "#one-line while loop\n",
        "y = 6-3\n",
        "while y > 0: y -= 1; print(y)\n"
      ],
      "execution_count": 64,
      "outputs": [
        {
          "output_type": "stream",
          "name": "stdout",
          "text": [
            "2\n",
            "1\n",
            "0\n"
          ]
        }
      ]
    }
  ]
}