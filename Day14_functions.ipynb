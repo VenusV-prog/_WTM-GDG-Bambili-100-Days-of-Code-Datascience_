{
  "nbformat": 4,
  "nbformat_minor": 0,
  "metadata": {
    "colab": {
      "name": "Day14_functions.ipynb",
      "provenance": [],
      "authorship_tag": "ABX9TyN6K9ecQEXcdhphPrQr4mye",
      "include_colab_link": true
    },
    "kernelspec": {
      "name": "python3",
      "display_name": "Python 3"
    },
    "language_info": {
      "name": "python"
    }
  },
  "cells": [
    {
      "cell_type": "markdown",
      "metadata": {
        "id": "view-in-github",
        "colab_type": "text"
      },
      "source": [
        "<a href=\"https://colab.research.google.com/github/VenusV-prog/_WTM-GDG-Bambili-100-Days-of-Code-Datascience_/blob/main/Day14_functions.ipynb\" target=\"_parent\"><img src=\"https://colab.research.google.com/assets/colab-badge.svg\" alt=\"Open In Colab\"/></a>"
      ]
    },
    {
      "cell_type": "code",
      "metadata": {
        "id": "VJQia-VrtTUJ",
        "colab": {
          "base_uri": "https://localhost:8080/"
        },
        "outputId": "c87c3d2b-e4e6-489a-86ac-b60eb9015d2e"
      },
      "source": [
        "#functions with positional arguments\n",
        "def f(name, department, level):\n",
        "  print(f'{name} studies {department} and is in level {level}')\n",
        "f('kelly', 'Mechanical Engineering', 400)"
      ],
      "execution_count": 8,
      "outputs": [
        {
          "output_type": "stream",
          "name": "stdout",
          "text": [
            "kelly studies Mechanical Engineering and is in level 400\n"
          ]
        }
      ]
    },
    {
      "cell_type": "code",
      "metadata": {
        "colab": {
          "base_uri": "https://localhost:8080/"
        },
        "id": "S3SxOIe-oEZS",
        "outputId": "7b1008f1-17f5-465f-9aec-c7c84d2d04be"
      },
      "source": [
        "#functions with keyword arguments\n",
        "def f(name, department, level):\n",
        "  print(f'{name} studies {department} and is in level {level}')\n",
        "f(name = 'venus', department = 'Computer Engineering', level = 500)"
      ],
      "execution_count": 9,
      "outputs": [
        {
          "output_type": "stream",
          "name": "stdout",
          "text": [
            "venus studies Computer Engineering and is in level 500\n"
          ]
        }
      ]
    },
    {
      "cell_type": "code",
      "metadata": {
        "colab": {
          "base_uri": "https://localhost:8080/"
        },
        "id": "1Do-KN5qoGG7",
        "outputId": "1b2edcf9-f0e7-4354-b4d7-a387d4fbc0e4"
      },
      "source": [
        "#functions with default parameters\n",
        "def f(name = 'venus', department = 'Computer Engineering', level = 500):\n",
        "  print(f'{name} studies {department} and is in level {level}')\n",
        "f('blessing', 'Civil Engineering')"
      ],
      "execution_count": 19,
      "outputs": [
        {
          "output_type": "stream",
          "name": "stdout",
          "text": [
            "blessing studies Civil Engineering and is in level 500\n"
          ]
        }
      ]
    },
    {
      "cell_type": "code",
      "metadata": {
        "colab": {
          "base_uri": "https://localhost:8080/"
        },
        "id": "v5LyU3BZvzE4",
        "outputId": "b7a66a43-d61a-496b-c900-e617a0d66c44"
      },
      "source": [
        "#functions with mutable default parameters\n",
        "def f(cities=None):\n",
        "  if cities is None:\n",
        "    cities = []\n",
        "  cities.append('Toronto')\n",
        "  return cities\n",
        "print(f(['Ontario', 'Iowa']))\n",
        "f(['London', 'Quebec'])"
      ],
      "execution_count": 27,
      "outputs": [
        {
          "output_type": "stream",
          "name": "stdout",
          "text": [
            "['Ontario', 'Iowa', 'Toronto']\n"
          ]
        },
        {
          "output_type": "execute_result",
          "data": {
            "text/plain": [
              "['London', 'Quebec', 'Toronto']"
            ]
          },
          "metadata": {},
          "execution_count": 27
        }
      ]
    },
    {
      "cell_type": "code",
      "metadata": {
        "colab": {
          "base_uri": "https://localhost:8080/"
        },
        "id": "0-Txv_4REH_Z",
        "outputId": "912f429c-8ced-4e03-b148-4104ed4ea4d4"
      },
      "source": [
        "#argument passing(pass-by-value)\n",
        "def f(y):\n",
        "  print('y =', y, 'and  id(y) = ', id(y))\n",
        "  y = 17\n",
        "  print('y =', y, 'and  id(y) = ', id(y))\n",
        "\n",
        "x = 9\n",
        "print('x =', x, 'and  id(x) = ', id(x))\n",
        "\n",
        "f(x)"
      ],
      "execution_count": 32,
      "outputs": [
        {
          "output_type": "stream",
          "name": "stdout",
          "text": [
            "x = 9 and  id(x) =  94773271898880\n",
            "y = 9 and  id(y) =  94773271898880\n",
            "y = 17 and  id(y) =  94773271899136\n"
          ]
        }
      ]
    },
    {
      "cell_type": "code",
      "metadata": {
        "colab": {
          "base_uri": "https://localhost:8080/"
        },
        "id": "_3wLVM19FmX5",
        "outputId": "1da4282e-199b-4048-8c75-3090b1daa5e6"
      },
      "source": [
        "#argument passing\n",
        "def f(x):\n",
        "  x = 'Canada'\n",
        "\n",
        "for i in (\n",
        "        dict(Toronto = 1, Ontario = 2),\n",
        "        {7.4, 2, 8},\n",
        "        'USA',\n",
        "        ['Toronto', 'Ontario', 'Quebec'],\n",
        "        5.25):\n",
        "     f(i)\n",
        "     print(i)"
      ],
      "execution_count": 36,
      "outputs": [
        {
          "output_type": "stream",
          "name": "stdout",
          "text": [
            "{'Toronto': 1, 'Ontario': 2}\n",
            "{8, 2, 7.4}\n",
            "USA\n",
            "['Toronto', 'Ontario', 'Quebec']\n",
            "5.25\n"
          ]
        }
      ]
    },
    {
      "cell_type": "markdown",
      "metadata": {
        "id": "Ob0dMd-ZJlew"
      },
      "source": [
        "Python functions can not change the value of an argument by reassigning the corresponding parameter to something else"
      ]
    },
    {
      "cell_type": "code",
      "metadata": {
        "colab": {
          "base_uri": "https://localhost:8080/"
        },
        "id": "6VWbUvFtJ8TF",
        "outputId": "64cb1b68-3c9f-42c6-9c8f-99b544aba73e"
      },
      "source": [
        "#python functions can however modify its arguments as shown below(pass-by-reference)\n",
        "def f(x):\n",
        "  x[0] = 'Yaounde'\n",
        "cities = ['Cameroon', 'Toronto', 'Ontario', 'Iowa']\n",
        "f(cities)\n",
        "cities"
      ],
      "execution_count": 37,
      "outputs": [
        {
          "output_type": "execute_result",
          "data": {
            "text/plain": [
              "['Yaounde', 'Toronto', 'Ontario', 'Iowa']"
            ]
          },
          "metadata": {},
          "execution_count": 37
        }
      ]
    },
    {
      "cell_type": "markdown",
      "metadata": {
        "id": "TreZBF1HLwT5"
      },
      "source": [
        "The function can’t reassign the object totally, but it can change items in place within the object"
      ]
    },
    {
      "cell_type": "code",
      "metadata": {
        "colab": {
          "base_uri": "https://localhost:8080/"
        },
        "id": "6iDIaWwDNcHs",
        "outputId": "4807db5f-2b0b-406c-cd86-3dd087bfca53"
      },
      "source": [
        "#the return statement to prematurely end a function\n",
        "def f(x):\n",
        "  if 'Cameroon' in x:\n",
        "    return\n",
        "  if 'Canada' in x:\n",
        "    return\n",
        "  print(x)\n",
        "\n",
        "f(['Cameroon', 'Toronto', 'Ontario', 'Iowa'])\n",
        "f(['Cameroon', 'Toronto', 'Ontario', 'Canada'])\n",
        "f(['New York', 'Toronto', 'Ontario', 'Iowa'])"
      ],
      "execution_count": 45,
      "outputs": [
        {
          "output_type": "stream",
          "name": "stdout",
          "text": [
            "['New York', 'Toronto', 'Ontario', 'Iowa']\n"
          ]
        }
      ]
    },
    {
      "cell_type": "code",
      "metadata": {
        "colab": {
          "base_uri": "https://localhost:8080/"
        },
        "id": "YxEympN8QCVi",
        "outputId": "fe40e9d3-ebbd-4102-f895-93ab89717c24"
      },
      "source": [
        "#returning data to the caller with the return statement\n",
        "def f():\n",
        "  return ['New York', 'Toronto', 'Ontario', 'Iowa']\n",
        "\n",
        "print(f()[-2])\n",
        "f()[::-1]"
      ],
      "execution_count": 49,
      "outputs": [
        {
          "output_type": "stream",
          "name": "stdout",
          "text": [
            "Ontario\n"
          ]
        },
        {
          "output_type": "execute_result",
          "data": {
            "text/plain": [
              "['Iowa', 'Ontario', 'Toronto', 'New York']"
            ]
          },
          "metadata": {},
          "execution_count": 49
        }
      ]
    },
    {
      "cell_type": "code",
      "metadata": {
        "colab": {
          "base_uri": "https://localhost:8080/"
        },
        "id": "Pp7OI7C6SHyl",
        "outputId": "b509b621-0325-40d0-ee2d-d7792a9ea48c"
      },
      "source": [
        "def double_list(x):\n",
        "  i = 0\n",
        "  while i < len(x):\n",
        "    x[i] *= 2\n",
        "    #return x[i] * 2\n",
        "    i += 1 \n",
        "\n",
        "y = [9, 2.5, 3.25, 8]\n",
        "double_list(y)\n",
        "y"
      ],
      "execution_count": 56,
      "outputs": [
        {
          "output_type": "execute_result",
          "data": {
            "text/plain": [
              "[18, 5.0, 6.5, 16]"
            ]
          },
          "metadata": {},
          "execution_count": 56
        }
      ]
    },
    {
      "cell_type": "code",
      "metadata": {
        "colab": {
          "base_uri": "https://localhost:8080/"
        },
        "id": "MSaoalupU4uI",
        "outputId": "1643095b-e20f-4c22-ad43-53088296d047"
      },
      "source": [
        "#return statement with function annotation\n",
        "def double_list(x:list):\n",
        "  r = []\n",
        "  for i in x:\n",
        "    r.append(i * 2)\n",
        "  return r\n",
        "\n",
        "y = [9, 2.5, 3.25, 8]\n",
        "y = double_list(y)\n",
        "print(y)\n",
        "double_list.__annotations__"
      ],
      "execution_count": 90,
      "outputs": [
        {
          "output_type": "stream",
          "name": "stdout",
          "text": [
            "[18, 5.0, 6.5, 16]\n"
          ]
        },
        {
          "output_type": "execute_result",
          "data": {
            "text/plain": [
              "{'x': list}"
            ]
          },
          "metadata": {},
          "execution_count": 90
        }
      ]
    },
    {
      "cell_type": "code",
      "metadata": {
        "colab": {
          "base_uri": "https://localhost:8080/"
        },
        "id": "t92_l35VWPNm",
        "outputId": "18a4520a-7bf1-4c40-b6d3-890a1ded4e0f"
      },
      "source": [
        "#variable-length argument list with docstrings\n",
        "def avg(a):\n",
        "  \"\"\"sums the elements of a list and divides it by the total number of elements\"\"\"\n",
        "  total = 0\n",
        "  for i in a:\n",
        "          total += i\n",
        "  return total / len(a)\n",
        "\n",
        "print(avg([9, 2.5, 3.25, 8])) \n",
        "print(avg([0, 3, 7.4, 0.4, 5]))\n",
        "print(avg.__doc__)"
      ],
      "execution_count": 88,
      "outputs": [
        {
          "output_type": "stream",
          "name": "stdout",
          "text": [
            "5.6875\n",
            "3.16\n",
            "sums the elements of a list and divides it by the total number of elements\n"
          ]
        }
      ]
    },
    {
      "cell_type": "code",
      "metadata": {
        "colab": {
          "base_uri": "https://localhost:8080/"
        },
        "id": "WO0NoQN_YC4R",
        "outputId": "1368197c-4537-4bdb-9ba7-1db2b83206c6"
      },
      "source": [
        "#argument tupple packing\n",
        "def avg(*args):\n",
        "  return sum(args) / len(args)\n",
        "\n",
        "avg(10, 20, 30)"
      ],
      "execution_count": 64,
      "outputs": [
        {
          "output_type": "execute_result",
          "data": {
            "text/plain": [
              "20.0"
            ]
          },
          "metadata": {},
          "execution_count": 64
        }
      ]
    },
    {
      "cell_type": "markdown",
      "metadata": {
        "id": "lxwWJc7QYabC"
      },
      "source": [
        "this generates an error if any arguments is non-numeric"
      ]
    },
    {
      "cell_type": "code",
      "metadata": {
        "colab": {
          "base_uri": "https://localhost:8080/"
        },
        "id": "q9u6-cbkaGlO",
        "outputId": "5a4ee422-aa5d-47b9-e8d6-7b26308af762"
      },
      "source": [
        "#argument tupple packing and unpacking\n",
        "def f(*args):\n",
        "  print(type(args), args)\n",
        "\n",
        "cities = ['Cameroon', 'Toronto', 'Ontario', 'Iowa']\n",
        "f(*cities)"
      ],
      "execution_count": 66,
      "outputs": [
        {
          "output_type": "stream",
          "name": "stdout",
          "text": [
            "<class 'tuple'> ('Cameroon', 'Toronto', 'Ontario', 'Iowa')\n"
          ]
        }
      ]
    },
    {
      "cell_type": "code",
      "metadata": {
        "colab": {
          "base_uri": "https://localhost:8080/"
        },
        "id": "LuWaFSida9Gs",
        "outputId": "1ff5662f-a2d4-4c21-9021-63ff946e44b0"
      },
      "source": [
        "#argument tupple and dictionary packing \n",
        "def f(a, b, *args, **kwargs):\n",
        "  print(f'a = {a}')\n",
        "  print(f'b = {b}')\n",
        "  print(f'args = {args}')\n",
        "  print(f'kwargs = {kwargs}')\n",
        "\n",
        "f(1, 2, 'Toronto', 'Ontario', 'London', 'Iowa', x=100, y=200, z=300)"
      ],
      "execution_count": 70,
      "outputs": [
        {
          "output_type": "stream",
          "name": "stdout",
          "text": [
            "a = 1\n",
            "b = 2\n",
            "args = ('Toronto', 'Ontario', 'London', 'Iowa')\n",
            "kwargs = {'x': 100, 'y': 200, 'z': 300}\n"
          ]
        }
      ]
    },
    {
      "cell_type": "code",
      "metadata": {
        "colab": {
          "base_uri": "https://localhost:8080/"
        },
        "id": "PW3SmljxboGe",
        "outputId": "29930743-f34d-4de5-f130-78668d56a502"
      },
      "source": [
        "#argument tupple and dictionary unpacking\n",
        "def f(*args):\n",
        "  for i in args:\n",
        "    print(i)\n",
        "\n",
        "f(*[1, 2, 3], *[4, 5, 6])\n",
        "\n",
        "def f(**kwargs):\n",
        "  for k, v in kwargs.items():\n",
        "    print(k, '->', v)\n",
        "    \n",
        "f(**{'a': 1, 'b': 2}, **{'x': 3, 'y': 4})"
      ],
      "execution_count": 72,
      "outputs": [
        {
          "output_type": "stream",
          "name": "stdout",
          "text": [
            "1\n",
            "2\n",
            "3\n",
            "4\n",
            "5\n",
            "6\n",
            "a -> 1\n",
            "b -> 2\n",
            "x -> 3\n",
            "y -> 4\n"
          ]
        }
      ]
    },
    {
      "cell_type": "code",
      "metadata": {
        "colab": {
          "base_uri": "https://localhost:8080/"
        },
        "id": "iXCPNy_YdLvm",
        "outputId": "f92e5414-ce86-43b1-bc6f-aefda0089c7d"
      },
      "source": [
        "#keyword-only arguments\n",
        "def concat(*args, prefix='-> ', sep='.'):\n",
        "  print(f'{prefix}{sep.join(args)}')\n",
        "\n",
        "concat('gmail', 'com')\n",
        "concat('gmail', 'com', prefix='//')\n",
        "concat('keyword', 'only', prefix='//', sep='-')"
      ],
      "execution_count": 75,
      "outputs": [
        {
          "output_type": "stream",
          "name": "stdout",
          "text": [
            "-> gmail.com\n",
            "//gmail.com\n",
            "//keyword-only\n"
          ]
        }
      ]
    },
    {
      "cell_type": "code",
      "metadata": {
        "colab": {
          "base_uri": "https://localhost:8080/"
        },
        "id": "YlChRnSCe8Jq",
        "outputId": "e3f24bf0-22a2-4db8-cd33-4d58d33bb312"
      },
      "source": [
        "#keyword-only arguments with dummy variable\n",
        "def oper(x, y, *ignore, op='+'):\n",
        "  if op == '+':\n",
        "    return x + y\n",
        "  elif op == '-':\n",
        "    return x - y\n",
        "  elif op == '/':\n",
        "    return x / y\n",
        "  else:\n",
        "    return None\n",
        "\n",
        "print(oper(10, 5, 'this is a dummy variable ', op='+'))\n",
        "print(oper(10, 5, op='/'))\n",
        "oper(10, 20, '-')"
      ],
      "execution_count": 84,
      "outputs": [
        {
          "output_type": "stream",
          "name": "stdout",
          "text": [
            "15\n",
            "2.0\n"
          ]
        },
        {
          "output_type": "execute_result",
          "data": {
            "text/plain": [
              "30"
            ]
          },
          "metadata": {},
          "execution_count": 84
        }
      ]
    },
    {
      "cell_type": "markdown",
      "metadata": {
        "id": "oh_qL4QehJmF"
      },
      "source": [
        "notice that the last result is false because it considers - as a dummy variable and carries out the default operation + on the 2 int args"
      ]
    },
    {
      "cell_type": "code",
      "metadata": {
        "colab": {
          "base_uri": "https://localhost:8080/",
          "height": 225
        },
        "id": "GOwUnZekgd3r",
        "outputId": "408c13eb-6bcd-4f5a-afb7-8aa7bc21bcd0"
      },
      "source": [
        "def oper(x, y, *, op='+'):\n",
        "  if op == '+':\n",
        "    return x + y\n",
        "  elif op == '-':\n",
        "    return x - y\n",
        "  elif op == '/':\n",
        "    return x / y\n",
        "  else:\n",
        "    return None\n",
        "\n",
        "print(oper(10, 5, 'this is a dummy variable ', op='+'))\n",
        "oper(10, 5, op='/')"
      ],
      "execution_count": 82,
      "outputs": [
        {
          "output_type": "error",
          "ename": "TypeError",
          "evalue": "ignored",
          "traceback": [
            "\u001b[0;31m---------------------------------------------------------------------------\u001b[0m",
            "\u001b[0;31mTypeError\u001b[0m                                 Traceback (most recent call last)",
            "\u001b[0;32m<ipython-input-82-348d75629c40>\u001b[0m in \u001b[0;36m<module>\u001b[0;34m()\u001b[0m\n\u001b[1;32m      9\u001b[0m     \u001b[0;32mreturn\u001b[0m \u001b[0;32mNone\u001b[0m\u001b[0;34m\u001b[0m\u001b[0;34m\u001b[0m\u001b[0m\n\u001b[1;32m     10\u001b[0m \u001b[0;34m\u001b[0m\u001b[0m\n\u001b[0;32m---> 11\u001b[0;31m \u001b[0mprint\u001b[0m\u001b[0;34m(\u001b[0m\u001b[0moper\u001b[0m\u001b[0;34m(\u001b[0m\u001b[0;36m10\u001b[0m\u001b[0;34m,\u001b[0m \u001b[0;36m5\u001b[0m\u001b[0;34m,\u001b[0m \u001b[0;34m'this is a dummy variable '\u001b[0m\u001b[0;34m,\u001b[0m \u001b[0mop\u001b[0m\u001b[0;34m=\u001b[0m\u001b[0;34m'+'\u001b[0m\u001b[0;34m)\u001b[0m\u001b[0;34m)\u001b[0m\u001b[0;34m\u001b[0m\u001b[0;34m\u001b[0m\u001b[0m\n\u001b[0m\u001b[1;32m     12\u001b[0m \u001b[0moper\u001b[0m\u001b[0;34m(\u001b[0m\u001b[0;36m10\u001b[0m\u001b[0;34m,\u001b[0m \u001b[0;36m5\u001b[0m\u001b[0;34m,\u001b[0m \u001b[0mop\u001b[0m\u001b[0;34m=\u001b[0m\u001b[0;34m'/'\u001b[0m\u001b[0;34m)\u001b[0m\u001b[0;34m\u001b[0m\u001b[0;34m\u001b[0m\u001b[0m\n",
            "\u001b[0;31mTypeError\u001b[0m: oper() takes 2 positional arguments but 3 positional arguments (and 1 keyword-only argument) were given"
          ]
        }
      ]
    },
    {
      "cell_type": "markdown",
      "metadata": {
        "id": "3w0RXApvgike"
      },
      "source": [
        "the simple asteris generates an error when positional variables are more than 2. this will avoid false results like the *ignore method"
      ]
    }
  ]
}