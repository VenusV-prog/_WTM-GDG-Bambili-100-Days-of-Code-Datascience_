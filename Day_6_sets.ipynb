{
  "nbformat": 4,
  "nbformat_minor": 0,
  "metadata": {
    "colab": {
      "name": "Day 6_sets.ipynb",
      "provenance": [],
      "authorship_tag": "ABX9TyPJq3ohF3XrOTLVyIXRZLWj",
      "include_colab_link": true
    },
    "kernelspec": {
      "name": "python3",
      "display_name": "Python 3"
    },
    "language_info": {
      "name": "python"
    }
  },
  "cells": [
    {
      "cell_type": "markdown",
      "metadata": {
        "id": "view-in-github",
        "colab_type": "text"
      },
      "source": [
        "<a href=\"https://colab.research.google.com/github/VenusV-prog/_WTM-GDG-Bambili-100-Days-of-Code-Datascience_/blob/main/Day_6_sets.ipynb\" target=\"_parent\"><img src=\"https://colab.research.google.com/assets/colab-badge.svg\" alt=\"Open In Colab\"/></a>"
      ]
    },
    {
      "cell_type": "code",
      "metadata": {
        "colab": {
          "base_uri": "https://localhost:8080/"
        },
        "id": "oahSNUbdLK47",
        "outputId": "db187f4a-9914-4ce2-f633-7dbe2b081950"
      },
      "source": [
        "#difference between sets and dictionaries\n",
        "x = set()\n",
        "type(x)\n",
        "\n",
        "x = {}\n",
        "type(x)"
      ],
      "execution_count": 2,
      "outputs": [
        {
          "output_type": "execute_result",
          "data": {
            "text/plain": [
              "dict"
            ]
          },
          "metadata": {},
          "execution_count": 2
        }
      ]
    },
    {
      "cell_type": "code",
      "metadata": {
        "colab": {
          "base_uri": "https://localhost:8080/"
        },
        "id": "9UorjXtziqgG",
        "outputId": "d259d7aa-b595-4a9e-be76-d55e1a9d7c63"
      },
      "source": [
        "#set definition. no repetiotion allowed\n",
        "x = {'foo', 'bar', 'baz', 'foo', 'qux'}\n",
        "x\n",
        "\n",
        "x = {'q', 'u', 'u', 'x'}\n",
        "x\n"
      ],
      "execution_count": 75,
      "outputs": [
        {
          "output_type": "execute_result",
          "data": {
            "text/plain": [
              "{'q', 'u', 'x'}"
            ]
          },
          "metadata": {},
          "execution_count": 75
        }
      ]
    },
    {
      "cell_type": "code",
      "metadata": {
        "colab": {
          "base_uri": "https://localhost:8080/"
        },
        "id": "w8hstOJskWsG",
        "outputId": "ffc80026-990f-4466-fadb-2cc58022c337"
      },
      "source": [
        "#another method to define sets. this methodis for iterable data types\n",
        "set('foo')\n"
      ],
      "execution_count": 76,
      "outputs": [
        {
          "output_type": "execute_result",
          "data": {
            "text/plain": [
              "{'f', 'o'}"
            ]
          },
          "metadata": {},
          "execution_count": 76
        }
      ]
    },
    {
      "cell_type": "code",
      "metadata": {
        "colab": {
          "base_uri": "https://localhost:8080/"
        },
        "id": "3HMd0kuDkra0",
        "outputId": "531c9e6d-0096-4180-ea88-1030111fd295"
      },
      "source": [
        "#other methods to define sets\n",
        "x= set(['foo', 'bar', 'baz', 'foo', 'qux'])\n",
        "x\n",
        "\n",
        "x = set(('foo', 'bar', 'baz', 'foo', 'qux'))\n",
        "x"
      ],
      "execution_count": 77,
      "outputs": [
        {
          "output_type": "execute_result",
          "data": {
            "text/plain": [
              "{'bar', 'baz', 'foo', 'qux'}"
            ]
          },
          "metadata": {},
          "execution_count": 77
        }
      ]
    },
    {
      "cell_type": "code",
      "metadata": {
        "colab": {
          "base_uri": "https://localhost:8080/"
        },
        "id": "u3qjFz2hlPgf",
        "outputId": "3db1d3dd-4455-4e3a-b91f-d3be0340c817"
      },
      "source": [
        " #iterability\n",
        "s = 'quux'\n",
        "#list(s)\n",
        "set(s)\n"
      ],
      "execution_count": 78,
      "outputs": [
        {
          "output_type": "execute_result",
          "data": {
            "text/plain": [
              "{'q', 'u', 'x'}"
            ]
          },
          "metadata": {},
          "execution_count": 78
        }
      ]
    },
    {
      "cell_type": "code",
      "metadata": {
        "colab": {
          "base_uri": "https://localhost:8080/"
        },
        "id": "EjWb-1E3P2k3",
        "outputId": "db952609-8691-4e25-aa79-065cdbefb9c5"
      },
      "source": [
        "#sets takes multiple datatypes and they are unordered\n",
        "x = {42, 'foo', 3.14159, None}\n",
        "x"
      ],
      "execution_count": 4,
      "outputs": [
        {
          "output_type": "execute_result",
          "data": {
            "text/plain": [
              "{3.14159, 42, None, 'foo'}"
            ]
          },
          "metadata": {},
          "execution_count": 4
        }
      ]
    },
    {
      "cell_type": "code",
      "metadata": {
        "colab": {
          "base_uri": "https://localhost:8080/"
        },
        "id": "4vozu-wsQFNZ",
        "outputId": "0d5742c9-db5c-4d9b-d07a-b38f0da885b1"
      },
      "source": [
        "#sets are unordered and its elements are immutable\n",
        "x = {42, 'foo', (1, 2, 3), 3.14159}\n",
        "x"
      ],
      "execution_count": 6,
      "outputs": [
        {
          "output_type": "execute_result",
          "data": {
            "text/plain": [
              "{(1, 2, 3), 3.14159, 42, 'foo'}"
            ]
          },
          "metadata": {},
          "execution_count": 6
        }
      ]
    },
    {
      "cell_type": "code",
      "metadata": {
        "colab": {
          "base_uri": "https://localhost:8080/"
        },
        "id": "bSinMsWNQaK9",
        "outputId": "b5e5ff18-2903-4e33-bf22-51bc04ae89cf"
      },
      "source": [
        "#cheking length of sets\n",
        "x = {'foo', 'bar', 'baz'}\n",
        "\n",
        "len(x)"
      ],
      "execution_count": 96,
      "outputs": [
        {
          "output_type": "execute_result",
          "data": {
            "text/plain": [
              "3"
            ]
          },
          "metadata": {},
          "execution_count": 96
        }
      ]
    },
    {
      "cell_type": "code",
      "metadata": {
        "colab": {
          "base_uri": "https://localhost:8080/"
        },
        "id": "7s1EcTBdyKZY",
        "outputId": "bff6877a-7480-4a55-8b29-d037f97e372f"
      },
      "source": [
        "#cheking membership of sets\n",
        "x = {'foo', 'bar', 'baz'}\n",
        "\n",
        "len(x)\n",
        "\n",
        "# 'bar' in x\n",
        "'qux' in x"
      ],
      "execution_count": 97,
      "outputs": [
        {
          "output_type": "execute_result",
          "data": {
            "text/plain": [
              "False"
            ]
          },
          "metadata": {},
          "execution_count": 97
        }
      ]
    },
    {
      "cell_type": "code",
      "metadata": {
        "colab": {
          "base_uri": "https://localhost:8080/"
        },
        "id": "rnQhjcJRRI4e",
        "outputId": "09350cd7-8f73-4325-9729-d546fd125b5a"
      },
      "source": [
        "#various operations on sets. union operator\n",
        "x1 = {'foo', 'bar', 'baz'}\n",
        "x2 = {'baz', 'qux', 'quux'}\n",
        "#x1 | x2\n",
        "x1.union(x2)"
      ],
      "execution_count": 12,
      "outputs": [
        {
          "output_type": "execute_result",
          "data": {
            "text/plain": [
              "{'bar', 'baz', 'foo', 'quux', 'qux'}"
            ]
          },
          "metadata": {},
          "execution_count": 12
        }
      ]
    },
    {
      "cell_type": "code",
      "metadata": {
        "colab": {
          "base_uri": "https://localhost:8080/"
        },
        "id": "p4JhUfcNRtyM",
        "outputId": "5b9f9c3a-5d39-4fad-e8be-4fc2e772bb6e"
      },
      "source": [
        "#union method\n",
        "#x1 | ('baz', 'qux', 'quux')\n",
        "x1.union(('baz', 'qux', 'quux'))"
      ],
      "execution_count": 16,
      "outputs": [
        {
          "output_type": "execute_result",
          "data": {
            "text/plain": [
              "{'bar', 'baz', 'foo', 'quux', 'qux'}"
            ]
          },
          "metadata": {},
          "execution_count": 16
        }
      ]
    },
    {
      "cell_type": "code",
      "metadata": {
        "colab": {
          "base_uri": "https://localhost:8080/"
        },
        "id": "8ru0yCViSY23",
        "outputId": "650c852b-67a5-4342-a657-d10c20d2647e"
      },
      "source": [
        "#union using method and operator\n",
        "a = {1, 2, 3, 4}\n",
        "b = {2, 3, 4, 5}\n",
        "c = {3, 4, 5, 6}\n",
        "d = {4, 5, 6, 7}\n",
        "\n",
        "a.union(b, c, d)\n",
        "\n",
        "a | b | c | d"
      ],
      "execution_count": 79,
      "outputs": [
        {
          "output_type": "execute_result",
          "data": {
            "text/plain": [
              "{1, 2, 3, 4, 5, 6, 7}"
            ]
          },
          "metadata": {},
          "execution_count": 79
        }
      ]
    },
    {
      "cell_type": "markdown",
      "metadata": {
        "id": "gB6xwHQRoIf9"
      },
      "source": [
        "The result contains all elements that are present in any of the specified sets without repetition"
      ]
    },
    {
      "cell_type": "code",
      "metadata": {
        "colab": {
          "base_uri": "https://localhost:8080/"
        },
        "id": "Mf1qBjwAnOzZ",
        "outputId": "a267d8ec-b03d-448d-c7b6-966f5691e726"
      },
      "source": [
        "#union operators works uniquely with sets while the method works too with tupples\n",
        "#x1 | ('baz', 'qux', 'quux')\n",
        "\n",
        "x1.union(('baz', 'qux', 'quux'))"
      ],
      "execution_count": 81,
      "outputs": [
        {
          "output_type": "execute_result",
          "data": {
            "text/plain": [
              "{'baz', 'quux', 'qux'}"
            ]
          },
          "metadata": {},
          "execution_count": 81
        }
      ]
    },
    {
      "cell_type": "markdown",
      "metadata": {
        "id": "fuaFWhgSniNe"
      },
      "source": [
        "the first line of code generates an error because the | operator is used only among sets"
      ]
    },
    {
      "cell_type": "code",
      "metadata": {
        "colab": {
          "base_uri": "https://localhost:8080/"
        },
        "id": "A12Dk5yiSv7R",
        "outputId": "3dd01e73-739d-49c9-f59e-259f0cda8b35"
      },
      "source": [
        "#intersection using method and operator\n",
        "x1 = {'foo', 'bar', 'baz'}\n",
        "x2 = {'baz', 'qux', 'quux'}\n",
        "\n",
        "x1.intersection(x2)\n",
        "\n",
        "x1 & x2"
      ],
      "execution_count": 20,
      "outputs": [
        {
          "output_type": "execute_result",
          "data": {
            "text/plain": [
              "{'baz'}"
            ]
          },
          "metadata": {},
          "execution_count": 20
        }
      ]
    },
    {
      "cell_type": "markdown",
      "metadata": {
        "id": "5suMoz3loewI"
      },
      "source": [
        "the result return the set of elements common to both x1 and x2"
      ]
    },
    {
      "cell_type": "code",
      "metadata": {
        "colab": {
          "base_uri": "https://localhost:8080/"
        },
        "id": "NfOtcgkxTNtS",
        "outputId": "3c4057c4-2e17-4513-b495-79a349d2369b"
      },
      "source": [
        "#difference using method and operator\n",
        "a = {1, 2, 3, 30, 300}\n",
        "b = {10, 20, 30, 40}\n",
        "c = {100, 200, 300, 400}\n",
        "\n",
        "#a.difference(b, c)\n",
        "\n",
        "\n",
        "a - b - c\n"
      ],
      "execution_count": 23,
      "outputs": [
        {
          "output_type": "execute_result",
          "data": {
            "text/plain": [
              "{1, 2, 3}"
            ]
          },
          "metadata": {},
          "execution_count": 23
        }
      ]
    },
    {
      "cell_type": "markdown",
      "metadata": {
        "id": "j2XiEfuYo4mH"
      },
      "source": [
        "the operation is performed as such,  a - b is computed first then c is subtracted from the resulting set"
      ]
    },
    {
      "cell_type": "code",
      "metadata": {
        "colab": {
          "base_uri": "https://localhost:8080/"
        },
        "id": "Fd76V9CNUWjh",
        "outputId": "22ad3d9e-599c-41d4-b097-618ab5cc1e8e"
      },
      "source": [
        "#symmetric difference operator\n",
        "a = {1, 2, 3, 4, 5}\n",
        "b = {10, 2, 3, 4, 50}\n",
        "c = {1, 50, 100}\n",
        "\n",
        "a ^ b ^ c"
      ],
      "execution_count": 25,
      "outputs": [
        {
          "output_type": "execute_result",
          "data": {
            "text/plain": [
              "{5, 10, 100}"
            ]
          },
          "metadata": {},
          "execution_count": 25
        }
      ]
    },
    {
      "cell_type": "markdown",
      "metadata": {
        "id": "IBKOvKNWpWHt"
      },
      "source": [
        "performed from left to right just like the difference that is it is performed between a and b then the result is performed with c. the symmetric diff of a and b returns the set of all elements in either a or b, but not both "
      ]
    },
    {
      "cell_type": "code",
      "metadata": {
        "id": "R4SOWtAZUsGO"
      },
      "source": [
        "#.symmetric_difference method does not allow multiple sets\n",
        "a = {1, 2, 3, 4, 5}\n",
        "b = {10, 2, 3, 4, 50}\n",
        "c = {1, 50, 100}\n",
        "\n",
        "#a.symmetric_difference(b, c)"
      ],
      "execution_count": 28,
      "outputs": []
    },
    {
      "cell_type": "code",
      "metadata": {
        "colab": {
          "base_uri": "https://localhost:8080/"
        },
        "id": "CW5MCx-DVfTy",
        "outputId": "0669e128-320b-4659-d407-d13b4d5c1f85"
      },
      "source": [
        "#.isdisjoint method there is no corresponding operator\n",
        "x1 = {'foo', 'bar', 'baz'}\n",
        "x2 = {'baz', 'qux', 'quux'}\n",
        "\n",
        "x1.isdisjoint(x2)"
      ],
      "execution_count": 33,
      "outputs": [
        {
          "output_type": "execute_result",
          "data": {
            "text/plain": [
              "False"
            ]
          },
          "metadata": {},
          "execution_count": 33
        }
      ]
    },
    {
      "cell_type": "markdown",
      "metadata": {
        "id": "i_1Dj-OXqrgk"
      },
      "source": [
        "returns True if x1 and x2 have no elements in common"
      ]
    },
    {
      "cell_type": "code",
      "metadata": {
        "colab": {
          "base_uri": "https://localhost:8080/"
        },
        "id": "yfEf_NV9V5_b",
        "outputId": "8cd15234-d449-44de-c819-df6ad086da74"
      },
      "source": [
        "#.isdisjoint method there is no corresponding operator\n",
        "x2 - {'baz'}\n",
        "x1.isdisjoint(x2 - {'baz'})"
      ],
      "execution_count": 35,
      "outputs": [
        {
          "output_type": "execute_result",
          "data": {
            "text/plain": [
              "True"
            ]
          },
          "metadata": {},
          "execution_count": 35
        }
      ]
    },
    {
      "cell_type": "code",
      "metadata": {
        "colab": {
          "base_uri": "https://localhost:8080/"
        },
        "id": "kXoloouSWR6e",
        "outputId": "e2bc872e-6b94-4009-a0d3-eb324b24b099"
      },
      "source": [
        "#.issubset method and operator a set is a subset of itself\n",
        "x1 = {'foo', 'bar', 'baz'}\n",
        "x1.issubset({'foo', 'bar', 'baz', 'qux', 'quux'})\n",
        "\n",
        "# x2 = {'baz', 'qux', 'quux'}\n",
        "# x1 <= x2"
      ],
      "execution_count": 38,
      "outputs": [
        {
          "output_type": "execute_result",
          "data": {
            "text/plain": [
              "True"
            ]
          },
          "metadata": {},
          "execution_count": 38
        }
      ]
    },
    {
      "cell_type": "markdown",
      "metadata": {
        "id": "IKl-scaBq6_u"
      },
      "source": [
        "it returns true if every element of x1 is in x2 and vice versa"
      ]
    },
    {
      "cell_type": "code",
      "metadata": {
        "colab": {
          "base_uri": "https://localhost:8080/"
        },
        "id": "OAoZc_NPWycC",
        "outputId": "ccbc7cd6-9448-4395-b906-f12fd645c04c"
      },
      "source": [
        "#proper set operator < there is no corresponding method\n",
        "x1 = {'foo', 'bar'}\n",
        "x2 = {'foo', 'bar', 'baz'}\n",
        "x1 < x2"
      ],
      "execution_count": 41,
      "outputs": [
        {
          "output_type": "execute_result",
          "data": {
            "text/plain": [
              "True"
            ]
          },
          "metadata": {},
          "execution_count": 41
        }
      ]
    },
    {
      "cell_type": "code",
      "metadata": {
        "colab": {
          "base_uri": "https://localhost:8080/"
        },
        "id": "40vIEanXXHqe",
        "outputId": "50dbeefb-3525-478d-bdec-8dd65e00fc1f"
      },
      "source": [
        "#proper set operator < there is no corresponding method\n",
        "x1 = {'foo', 'bar', 'baz'}\n",
        "x2 = {'foo', 'bar', 'baz'}\n",
        "x1 < x2"
      ],
      "execution_count": 44,
      "outputs": [
        {
          "output_type": "execute_result",
          "data": {
            "text/plain": [
              "False"
            ]
          },
          "metadata": {},
          "execution_count": 44
        }
      ]
    },
    {
      "cell_type": "markdown",
      "metadata": {
        "id": "OjUFWRzDrung"
      },
      "source": [
        "once a set is a subset of itself, it is not a proper subset of itself"
      ]
    },
    {
      "cell_type": "code",
      "metadata": {
        "colab": {
          "base_uri": "https://localhost:8080/"
        },
        "id": "MGAdbbV2YMDT",
        "outputId": "4983fa84-1c8d-4da4-d1d3-62472b58221a"
      },
      "source": [
        "#supper subset method and operator\n",
        "x1 = {'foo', 'bar', 'baz'}\n",
        "\n",
        "x1.issuperset({'foo', 'bar'})\n"
      ],
      "execution_count": 46,
      "outputs": [
        {
          "output_type": "execute_result",
          "data": {
            "text/plain": [
              "True"
            ]
          },
          "metadata": {},
          "execution_count": 46
        }
      ]
    },
    {
      "cell_type": "code",
      "metadata": {
        "colab": {
          "base_uri": "https://localhost:8080/"
        },
        "id": "Ezq3gaOfYdWF",
        "outputId": "8bb3be18-b4c6-498b-d352-b96fb0496f9e"
      },
      "source": [
        "#supper subset method and operator\n",
        "x1 = {'foo', 'bar', 'baz'}\n",
        "\n",
        "x2 = {'baz', 'qux', 'quux'}\n",
        "x1 >= x2"
      ],
      "execution_count": 48,
      "outputs": [
        {
          "output_type": "execute_result",
          "data": {
            "text/plain": [
              "False"
            ]
          },
          "metadata": {},
          "execution_count": 48
        }
      ]
    },
    {
      "cell_type": "code",
      "metadata": {
        "colab": {
          "base_uri": "https://localhost:8080/"
        },
        "id": "3IRGYvbKYx0E",
        "outputId": "7314a9ec-8183-4822-c589-3bf39b2b778d"
      },
      "source": [
        "#a set is considered a subset of itself and also a superset of itself\n",
        "x = {1, 2, 3, 4, 5}\n",
        "x.issuperset(x)\n",
        "\n",
        "x >= x\n"
      ],
      "execution_count": 50,
      "outputs": [
        {
          "output_type": "execute_result",
          "data": {
            "text/plain": [
              "True"
            ]
          },
          "metadata": {},
          "execution_count": 50
        }
      ]
    },
    {
      "cell_type": "code",
      "metadata": {
        "colab": {
          "base_uri": "https://localhost:8080/"
        },
        "id": "ZgaeXllNZW6M",
        "outputId": "34ba211f-b3aa-498b-b2b4-bc3a99d8cbe2"
      },
      "source": [
        "#suppersubset operator\n",
        "x1 = {'foo', 'bar', 'baz'}\n",
        "x2 = {'foo', 'bar'}\n",
        "x1 > x2"
      ],
      "execution_count": 53,
      "outputs": [
        {
          "output_type": "execute_result",
          "data": {
            "text/plain": [
              "True"
            ]
          },
          "metadata": {},
          "execution_count": 53
        }
      ]
    },
    {
      "cell_type": "code",
      "metadata": {
        "colab": {
          "base_uri": "https://localhost:8080/"
        },
        "id": "DC_tpTJbZsCq",
        "outputId": "ad61e3f9-4bff-452a-aedf-6a283541bd25"
      },
      "source": [
        "#suppersubset. a set is not a super subset of itself\n",
        "x1 = {'foo', 'bar', 'baz'}\n",
        "x2 = {'foo', 'bar', 'baz'}\n",
        "x1 > x2"
      ],
      "execution_count": 55,
      "outputs": [
        {
          "output_type": "execute_result",
          "data": {
            "text/plain": [
              "False"
            ]
          },
          "metadata": {},
          "execution_count": 55
        }
      ]
    },
    {
      "cell_type": "code",
      "metadata": {
        "colab": {
          "base_uri": "https://localhost:8080/"
        },
        "id": "Jywvy2kSbHCC",
        "outputId": "46bf0eb4-c01c-41d6-ec86-da91f2915e43"
      },
      "source": [
        "#modifing a set by union operator and method\n",
        "x1 = {'foo', 'bar', 'baz'}\n",
        "x2 = {'foo', 'baz', 'qux'}\n",
        "\n",
        "x1 |= x2\n",
        "x1\n",
        "\n",
        "x1.update(['corge', 'garply'])\n",
        "x1\n"
      ],
      "execution_count": 58,
      "outputs": [
        {
          "output_type": "execute_result",
          "data": {
            "text/plain": [
              "{'bar', 'baz', 'corge', 'foo', 'garply', 'qux'}"
            ]
          },
          "metadata": {},
          "execution_count": 58
        }
      ]
    },
    {
      "cell_type": "markdown",
      "metadata": {
        "id": "N3tww0L4sV_e"
      },
      "source": [
        "this method and operator adds to x1 any elements in x2 that x1 does not already have"
      ]
    },
    {
      "cell_type": "code",
      "metadata": {
        "colab": {
          "base_uri": "https://localhost:8080/"
        },
        "id": "nuoq7Ipjbkqa",
        "outputId": "65e32892-72c8-46e6-8463-ca35b6b3c0c4"
      },
      "source": [
        "#modifing a set by intersection operator and method\n",
        "x1 = {'foo', 'bar', 'baz'}\n",
        "x2 = {'foo', 'baz', 'qux'}\n",
        "\n",
        "x1 &= x2\n",
        "x1\n",
        "\n",
        "x1.intersection_update(['baz', 'qux'])\n",
        "x1"
      ],
      "execution_count": 82,
      "outputs": [
        {
          "output_type": "execute_result",
          "data": {
            "text/plain": [
              "{'baz'}"
            ]
          },
          "metadata": {},
          "execution_count": 82
        }
      ]
    },
    {
      "cell_type": "code",
      "metadata": {
        "colab": {
          "base_uri": "https://localhost:8080/"
        },
        "id": "TLwGbHcQtOd2",
        "outputId": "2d82006b-356b-42f0-e9d4-58f914ca3bf4"
      },
      "source": [
        "#modifying a set by the symmetric_difference operation\n",
        "x1 = {'foo', 'bar', 'baz'}\n",
        "x2 = {'foo', 'baz', 'qux'}\n",
        "\n",
        "x1 ^= x2\n",
        "x1\n",
        "\n",
        "x1.symmetric_difference_update(['qux', 'corge'])\n",
        "x1"
      ],
      "execution_count": 83,
      "outputs": [
        {
          "output_type": "execute_result",
          "data": {
            "text/plain": [
              "{'bar', 'corge'}"
            ]
          },
          "metadata": {},
          "execution_count": 83
        }
      ]
    },
    {
      "cell_type": "markdown",
      "metadata": {
        "id": "Raj9Pf8Htui_"
      },
      "source": [
        " this returns elements found in either x1 or x2, but not both"
      ]
    },
    {
      "cell_type": "code",
      "metadata": {
        "colab": {
          "base_uri": "https://localhost:8080/"
        },
        "id": "iZ08dgIGb966",
        "outputId": "b05fb4d2-6753-4f59-d8b0-205f2acf4e6e"
      },
      "source": [
        "#modifying sets with the .add(<elem>) method\n",
        "x = {'foo', 'bar', 'baz'}\n",
        "\n",
        "x.add('qux')\n",
        "x"
      ],
      "execution_count": 62,
      "outputs": [
        {
          "output_type": "execute_result",
          "data": {
            "text/plain": [
              "{'bar', 'baz', 'foo', 'qux'}"
            ]
          },
          "metadata": {},
          "execution_count": 62
        }
      ]
    },
    {
      "cell_type": "markdown",
      "metadata": {
        "id": "FGmfbtbbuZOf"
      },
      "source": [
        "adds the said element to the set x which must be immutable to the elements of x"
      ]
    },
    {
      "cell_type": "code",
      "metadata": {
        "colab": {
          "base_uri": "https://localhost:8080/"
        },
        "id": "TC63XIH5cZHx",
        "outputId": "161ee169-a6f3-4331-ea76-6025779b8783"
      },
      "source": [
        "#modifying sets with the .remove(<elem>) method generates an error is elem not available\n",
        "x = {'foo', 'bar', 'baz'}\n",
        "\n",
        "x.remove('baz')\n",
        "x"
      ],
      "execution_count": 63,
      "outputs": [
        {
          "output_type": "execute_result",
          "data": {
            "text/plain": [
              "{'bar', 'foo'}"
            ]
          },
          "metadata": {},
          "execution_count": 63
        }
      ]
    },
    {
      "cell_type": "markdown",
      "metadata": {
        "id": "myEwwbU1ukMH"
      },
      "source": [
        "removes the said element and returns an error is element not found"
      ]
    },
    {
      "cell_type": "code",
      "metadata": {
        "colab": {
          "base_uri": "https://localhost:8080/"
        },
        "id": "aOHHWz9GcuPm",
        "outputId": "9f9724bb-6342-40c0-e79a-e06a9a8889f2"
      },
      "source": [
        "#modifying sets with the .discard(<elem>) method does not generates an error if elem not available\n",
        "x = {'foo', 'bar', 'baz'}\n",
        "\n",
        "x.discard('baz')\n",
        "x\n",
        "\n",
        "x.discard('qux')\n",
        "x"
      ],
      "execution_count": 84,
      "outputs": [
        {
          "output_type": "execute_result",
          "data": {
            "text/plain": [
              "{'bar', 'foo'}"
            ]
          },
          "metadata": {},
          "execution_count": 84
        }
      ]
    },
    {
      "cell_type": "markdown",
      "metadata": {
        "id": "bOh0V7S0u1MG"
      },
      "source": [
        "removes the said element but does not return an error if the said element was not found"
      ]
    },
    {
      "cell_type": "code",
      "metadata": {
        "colab": {
          "base_uri": "https://localhost:8080/"
        },
        "id": "pA3AQwizdbfj",
        "outputId": "25da1089-5800-41fd-fb1f-45564f33452f"
      },
      "source": [
        "#.pop() method\n",
        "x = {'foo', 'bar', 'baz'}\n",
        "\n",
        "x.pop()\n",
        "x\n",
        "x.pop()\n",
        "x\n",
        "x.pop()\n",
        "x\n",
        "#we have exhausted all the elements of the x\n",
        "# x.pop()\n",
        "# x"
      ],
      "execution_count": 95,
      "outputs": [
        {
          "output_type": "execute_result",
          "data": {
            "text/plain": [
              "set()"
            ]
          },
          "metadata": {},
          "execution_count": 95
        }
      ]
    },
    {
      "cell_type": "markdown",
      "metadata": {
        "id": "kiCztaU8vX-j"
      },
      "source": [
        " removes and returns an arbitrarily chosen element from x and returns an error if set is empty hence the commented code in the last 2 lines gave an error "
      ]
    },
    {
      "cell_type": "code",
      "metadata": {
        "colab": {
          "base_uri": "https://localhost:8080/"
        },
        "id": "v-LMl-bqdxBm",
        "outputId": "2e184aea-92ad-4133-86d7-450787c340b6"
      },
      "source": [
        "#.clear() method removes all elements from the set\n",
        "x = {'foo', 'bar', 'baz'}\n",
        "x.clear()\n",
        "x"
      ],
      "execution_count": 69,
      "outputs": [
        {
          "output_type": "execute_result",
          "data": {
            "text/plain": [
              "set()"
            ]
          },
          "metadata": {},
          "execution_count": 69
        }
      ]
    },
    {
      "cell_type": "code",
      "metadata": {
        "colab": {
          "base_uri": "https://localhost:8080/"
        },
        "id": "8Fc3TOlpeRkN",
        "outputId": "7dee0724-c7c9-4e47-fcc1-b56fddb3359e"
      },
      "source": [
        "#operations can be carried on frozen sets except the operations to modify\n",
        "x = frozenset(['foo', 'bar', 'baz'])\n",
        "x\n",
        "frozenset({'foo', 'baz', 'bar'})\n",
        "\n",
        "len(x)"
      ],
      "execution_count": 71,
      "outputs": [
        {
          "output_type": "execute_result",
          "data": {
            "text/plain": [
              "3"
            ]
          },
          "metadata": {},
          "execution_count": 71
        }
      ]
    },
    {
      "cell_type": "code",
      "metadata": {
        "colab": {
          "base_uri": "https://localhost:8080/"
        },
        "id": "f7C9ra0sfK3t",
        "outputId": "afb2abb2-2b89-4dbf-b12c-494a20735ace"
      },
      "source": [
        "#frozen sets are needed to use sets as dictionary keys\n",
        "x = frozenset({1, 2, 3})\n",
        "y = frozenset({'a', 'b', 'c'})\n",
        "\n",
        "d = {x: 'foo', y: 'bar'}\n",
        "d"
      ],
      "execution_count": 73,
      "outputs": [
        {
          "output_type": "execute_result",
          "data": {
            "text/plain": [
              "{frozenset({1, 2, 3}): 'foo', frozenset({'a', 'b', 'c'}): 'bar'}"
            ]
          },
          "metadata": {},
          "execution_count": 73
        }
      ]
    }
  ]
}