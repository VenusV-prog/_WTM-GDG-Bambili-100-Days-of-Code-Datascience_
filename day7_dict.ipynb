{
  "nbformat": 4,
  "nbformat_minor": 0,
  "metadata": {
    "colab": {
      "name": "day7_dict.ipynb",
      "provenance": [],
      "collapsed_sections": [],
      "authorship_tag": "ABX9TyMLEKkx+b0rjQ2VHMUvP6nR",
      "include_colab_link": true
    },
    "kernelspec": {
      "name": "python3",
      "display_name": "Python 3"
    },
    "language_info": {
      "name": "python"
    }
  },
  "cells": [
    {
      "cell_type": "markdown",
      "metadata": {
        "id": "view-in-github",
        "colab_type": "text"
      },
      "source": [
        "<a href=\"https://colab.research.google.com/github/VenusV-prog/_WTM-GDG-Bambili-100-Days-of-Code-Datascience_/blob/main/day7_dict.ipynb\" target=\"_parent\"><img src=\"https://colab.research.google.com/assets/colab-badge.svg\" alt=\"Open In Colab\"/></a>"
      ]
    },
    {
      "cell_type": "code",
      "metadata": {
        "colab": {
          "base_uri": "https://localhost:8080/"
        },
        "id": "pjwYGCTDWSlf",
        "outputId": "2d3b633e-7cba-4b20-b512-a9c2b4eda169"
      },
      "source": [
        "#defining dictionaries method 1\n",
        "city = {\n",
        "     'Cameroon' : 'Yaounde',\n",
        "     'Canada'   : 'Toronto',\n",
        "     'Nigeria'  : 'Lagos',\n",
        "     'USA'      : 'Carlifonia',\n",
        " }\n",
        "city"
      ],
      "execution_count": 26,
      "outputs": [
        {
          "output_type": "execute_result",
          "data": {
            "text/plain": [
              "{'Cameroon': 'Yaounde',\n",
              " 'Canada': 'Toronto',\n",
              " 'Nigeria': 'Lagos',\n",
              " 'USA': 'Carlifonia'}"
            ]
          },
          "metadata": {},
          "execution_count": 26
        }
      ]
    },
    {
      "cell_type": "code",
      "metadata": {
        "colab": {
          "base_uri": "https://localhost:8080/"
        },
        "id": "PI_FUNpNW9sb",
        "outputId": "434955d4-bfbe-4d0f-9d1e-8ed4defd97ec"
      },
      "source": [
        "#defining dictionaries method 2\n",
        "city = dict([\n",
        "     ('Cameroon', 'Yaounde'),\n",
        "     ('Canada', 'Toronto'),\n",
        "     ('Nigeria', 'Lagos'),\n",
        "     ('USA', 'Carlifonia'),\n",
        "])\n",
        "city"
      ],
      "execution_count": 27,
      "outputs": [
        {
          "output_type": "execute_result",
          "data": {
            "text/plain": [
              "{'Cameroon': 'Yaounde',\n",
              " 'Canada': 'Toronto',\n",
              " 'Nigeria': 'Lagos',\n",
              " 'USA': 'Carlifonia'}"
            ]
          },
          "metadata": {},
          "execution_count": 27
        }
      ]
    },
    {
      "cell_type": "code",
      "metadata": {
        "colab": {
          "base_uri": "https://localhost:8080/"
        },
        "id": "SxZf-gVPXaIR",
        "outputId": "3799ec6c-2442-41d4-de60-317d87ec87f8"
      },
      "source": [
        "#defining dictionaries method 3\n",
        "city = dict(\n",
        "     Cameroon='Yaounde',\n",
        "     Canada='Toronto',\n",
        "     Nigeria='Lagos',\n",
        "     USA='Carlifonia',\n",
        " )\n",
        "city"
      ],
      "execution_count": 28,
      "outputs": [
        {
          "output_type": "execute_result",
          "data": {
            "text/plain": [
              "{'Cameroon': 'Yaounde',\n",
              " 'Canada': 'Toronto',\n",
              " 'Nigeria': 'Lagos',\n",
              " 'USA': 'Carlifonia'}"
            ]
          },
          "metadata": {},
          "execution_count": 28
        }
      ]
    },
    {
      "cell_type": "code",
      "metadata": {
        "colab": {
          "base_uri": "https://localhost:8080/",
          "height": 35
        },
        "id": "VY6U-9WZZ1Ix",
        "outputId": "568c5c3b-6a8d-4e57-a073-2253d4df95e3"
      },
      "source": [
        "#accesing dictionary values\n",
        "city['Canada']\n",
        "city['USA']"
      ],
      "execution_count": 29,
      "outputs": [
        {
          "output_type": "execute_result",
          "data": {
            "application/vnd.google.colaboratory.intrinsic+json": {
              "type": "string"
            },
            "text/plain": [
              "'Carlifonia'"
            ]
          },
          "metadata": {},
          "execution_count": 29
        }
      ]
    },
    {
      "cell_type": "code",
      "metadata": {
        "colab": {
          "base_uri": "https://localhost:8080/"
        },
        "id": "pjRxfULmams-",
        "outputId": "3e6089b9-18df-45e1-f68e-d44aa8b839b3"
      },
      "source": [
        "#adding a new entry to the dict province\n",
        "city['UK'] = 'London'\n",
        "city"
      ],
      "execution_count": 31,
      "outputs": [
        {
          "output_type": "execute_result",
          "data": {
            "text/plain": [
              "{'Cameroon': 'Yaounde',\n",
              " 'Canada': 'Toronto',\n",
              " 'Nigeria': 'Lagos',\n",
              " 'UK': 'London',\n",
              " 'USA': 'Carlifonia'}"
            ]
          },
          "metadata": {},
          "execution_count": 31
        }
      ]
    },
    {
      "cell_type": "code",
      "metadata": {
        "colab": {
          "base_uri": "https://localhost:8080/"
        },
        "id": "tCVBSvnIbe09",
        "outputId": "2da74c90-f491-4cd1-ea7d-04b45f82e662"
      },
      "source": [
        "#modifying an entry in a dict\n",
        "city['Canada'] = 'Quebec'\n",
        "city"
      ],
      "execution_count": 34,
      "outputs": [
        {
          "output_type": "execute_result",
          "data": {
            "text/plain": [
              "{'Cameroon': 'Yaounde',\n",
              " 'Canada': 'Quebec',\n",
              " 'Nigeria': 'Lagos',\n",
              " 'UK': 'London',\n",
              " 'USA': 'Carlifonia'}"
            ]
          },
          "metadata": {},
          "execution_count": 34
        }
      ]
    },
    {
      "cell_type": "code",
      "metadata": {
        "colab": {
          "base_uri": "https://localhost:8080/"
        },
        "id": "8nEnRqmcbxtw",
        "outputId": "83522dcc-d6b8-450a-d217-35b3060a8a13"
      },
      "source": [
        "#deleting an entry in a dict\n",
        "#del city['Cameroon']\n",
        "city"
      ],
      "execution_count": 42,
      "outputs": [
        {
          "output_type": "execute_result",
          "data": {
            "text/plain": [
              "{'Canada': 'Quebec', 'UK': 'London', 'USA': 'Carlifonia'}"
            ]
          },
          "metadata": {},
          "execution_count": 42
        }
      ]
    },
    {
      "cell_type": "code",
      "metadata": {
        "colab": {
          "base_uri": "https://localhost:8080/"
        },
        "id": "mBoUBYP-c9X5",
        "outputId": "28e41ece-0be6-494e-9e50-a1eb7e3ae485"
      },
      "source": [
        "#deleting\n",
        "city = dict(\n",
        "     Cameroon='Yaounde',\n",
        "     Canada='Toronto',\n",
        "     Nigeria='Lagos',\n",
        "     USA='Carlifonia',\n",
        " )\n",
        "city\n",
        "del city['Nigeria']\n",
        "city"
      ],
      "execution_count": 46,
      "outputs": [
        {
          "output_type": "execute_result",
          "data": {
            "text/plain": [
              "{'Cameroon': 'Yaounde', 'Canada': 'Toronto', 'USA': 'Carlifonia'}"
            ]
          },
          "metadata": {},
          "execution_count": 46
        }
      ]
    },
    {
      "cell_type": "code",
      "metadata": {
        "colab": {
          "base_uri": "https://localhost:8080/"
        },
        "id": "H-4xRl2yd2qe",
        "outputId": "710bd834-ca17-47f1-f04f-203817a722e1"
      },
      "source": [
        "#difference between keys and indices\n",
        "mobile = {0: 'vuejs', 1: 'java', 2: 'react', 3: 'flutter'}\n",
        "mobile"
      ],
      "execution_count": 53,
      "outputs": [
        {
          "output_type": "execute_result",
          "data": {
            "text/plain": [
              "{0: 'vuejs', 1: 'java', 2: 'react', 3: 'flutter'}"
            ]
          },
          "metadata": {},
          "execution_count": 53
        }
      ]
    },
    {
      "cell_type": "code",
      "metadata": {
        "colab": {
          "base_uri": "https://localhost:8080/",
          "height": 35
        },
        "id": "41fRojrjeP1d",
        "outputId": "8f75b17c-4716-4d64-fead-af0b16414311"
      },
      "source": [
        "mobile[3]"
      ],
      "execution_count": 54,
      "outputs": [
        {
          "output_type": "execute_result",
          "data": {
            "application/vnd.google.colaboratory.intrinsic+json": {
              "type": "string"
            },
            "text/plain": [
              "'flutter'"
            ]
          },
          "metadata": {},
          "execution_count": 54
        }
      ]
    },
    {
      "cell_type": "markdown",
      "metadata": {
        "id": "0ePLgSr-eV40"
      },
      "source": [
        "python does not interprete 3 as an idex but as a key"
      ]
    },
    {
      "cell_type": "code",
      "metadata": {
        "colab": {
          "base_uri": "https://localhost:8080/",
          "height": 197
        },
        "id": "OlWZByP6ezTg",
        "outputId": "7572bb32-351c-4353-8a6b-383f89edc160"
      },
      "source": [
        "#the following does not apply to dictionaries\n",
        "#mobile[0:2]\n",
        "mobile.append('kotlin')"
      ],
      "execution_count": 58,
      "outputs": [
        {
          "output_type": "error",
          "ename": "AttributeError",
          "evalue": "ignored",
          "traceback": [
            "\u001b[0;31m---------------------------------------------------------------------------\u001b[0m",
            "\u001b[0;31mAttributeError\u001b[0m                            Traceback (most recent call last)",
            "\u001b[0;32m<ipython-input-58-f72b7ced8ae2>\u001b[0m in \u001b[0;36m<module>\u001b[0;34m()\u001b[0m\n\u001b[1;32m      1\u001b[0m \u001b[0;31m#the following does not apply to dictionaries\u001b[0m\u001b[0;34m\u001b[0m\u001b[0;34m\u001b[0m\u001b[0;34m\u001b[0m\u001b[0m\n\u001b[1;32m      2\u001b[0m \u001b[0;31m#mobile[0:2]\u001b[0m\u001b[0;34m\u001b[0m\u001b[0;34m\u001b[0m\u001b[0;34m\u001b[0m\u001b[0m\n\u001b[0;32m----> 3\u001b[0;31m \u001b[0mmobile\u001b[0m\u001b[0;34m.\u001b[0m\u001b[0mappend\u001b[0m\u001b[0;34m(\u001b[0m\u001b[0;34m'kotlin'\u001b[0m\u001b[0;34m)\u001b[0m\u001b[0;34m\u001b[0m\u001b[0;34m\u001b[0m\u001b[0m\n\u001b[0m",
            "\u001b[0;31mAttributeError\u001b[0m: 'dict' object has no attribute 'append'"
          ]
        }
      ]
    },
    {
      "cell_type": "code",
      "metadata": {
        "colab": {
          "base_uri": "https://localhost:8080/"
        },
        "id": "WMTAtmo2gLYG",
        "outputId": "6e9aaf0a-669d-424c-89cf-db348c273fdb"
      },
      "source": [
        "#building a dictionary\n",
        "student = {}\n",
        "type(student)\n",
        "\n",
        "\n",
        "student['name'] = 'venus'\n",
        "student['level'] = 500\n",
        "student['school'] = 'NAHPI'\n",
        "student['department'] = 'Computer Engineering'\n",
        "student['semester'] = ['first', 'second']\n",
        "student['courses'] = {'Dr Pascalin': 'maths', 'Dr Lienou': 'Computational Thinking'}\n",
        "student"
      ],
      "execution_count": 62,
      "outputs": [
        {
          "output_type": "execute_result",
          "data": {
            "text/plain": [
              "{'courses': {'Dr Lienou': 'Computational Thinking', 'Dr Pascalin': 'maths'},\n",
              " 'department': 'Computer Engineering',\n",
              " 'level': 500,\n",
              " 'name': 'venus',\n",
              " 'school': 'NAHPI',\n",
              " 'semester': ['first', 'second']}"
            ]
          },
          "metadata": {},
          "execution_count": 62
        }
      ]
    },
    {
      "cell_type": "markdown",
      "metadata": {
        "id": "zH-Ug1zsi621"
      },
      "source": [
        "In this cell, we see that the values of a dict must not be of thesame datatype"
      ]
    },
    {
      "cell_type": "code",
      "metadata": {
        "colab": {
          "base_uri": "https://localhost:8080/"
        },
        "id": "rlvr4rD2hkkv",
        "outputId": "5ca22995-7b34-4160-a488-82961c9f2086"
      },
      "source": [
        "#accesing the entries of dict student\n",
        "student['department']\n",
        "student['courses']"
      ],
      "execution_count": 65,
      "outputs": [
        {
          "output_type": "execute_result",
          "data": {
            "text/plain": [
              "{'Dr Lienou': 'Computational Thinking', 'Dr Pascalin': 'maths'}"
            ]
          },
          "metadata": {},
          "execution_count": 65
        }
      ]
    },
    {
      "cell_type": "code",
      "metadata": {
        "colab": {
          "base_uri": "https://localhost:8080/",
          "height": 35
        },
        "id": "o6v_pDs1h0rt",
        "outputId": "b6abc149-f06d-46ce-f57b-2f319ad6d47a"
      },
      "source": [
        "#accesing values in list and dictionary entries\n",
        "student['courses']['Dr Pascalin']\n",
        "student['semester'][0]"
      ],
      "execution_count": 70,
      "outputs": [
        {
          "output_type": "execute_result",
          "data": {
            "application/vnd.google.colaboratory.intrinsic+json": {
              "type": "string"
            },
            "text/plain": [
              "'first'"
            ]
          },
          "metadata": {},
          "execution_count": 70
        }
      ]
    },
    {
      "cell_type": "markdown",
      "metadata": {
        "id": "gMPpHKRBiThf"
      },
      "source": [
        "to achieve this, we need and additional key for the dict or index for the list. "
      ]
    },
    {
      "cell_type": "code",
      "metadata": {
        "colab": {
          "base_uri": "https://localhost:8080/",
          "height": 35
        },
        "id": "VKDLPsL8jJwo",
        "outputId": "2a709da4-a9db-4fd5-bb17-3d66a91691fe"
      },
      "source": [
        "foo = {42: 'aaa', 2.78: 'bbb', True: 'ccc'}\n",
        "\n",
        "foo\n",
        "\n",
        "foo[42]\n",
        "\n",
        "foo[2.78]\n",
        "\n",
        "foo[True]"
      ],
      "execution_count": 74,
      "outputs": [
        {
          "output_type": "execute_result",
          "data": {
            "application/vnd.google.colaboratory.intrinsic+json": {
              "type": "string"
            },
            "text/plain": [
              "'ccc'"
            ]
          },
          "metadata": {},
          "execution_count": 74
        }
      ]
    },
    {
      "cell_type": "markdown",
      "metadata": {
        "id": "zpsW31q0jTWl"
      },
      "source": [
        "the keys too must not be of thesame datatype"
      ]
    },
    {
      "cell_type": "code",
      "metadata": {
        "colab": {
          "base_uri": "https://localhost:8080/",
          "height": 35
        },
        "id": "hvSUDt20lUcJ",
        "outputId": "c20622a5-5eb2-4a5c-a32d-4e472fd59230"
      },
      "source": [
        "#tuples can also be used a dict keys because they are immutable\n",
        "d = {(1, 1): 'a', (1, 2): 'b', (2, 1): 'c', (2, 2): 'd'}\n",
        "d[(1,1)]"
      ],
      "execution_count": 77,
      "outputs": [
        {
          "output_type": "execute_result",
          "data": {
            "application/vnd.google.colaboratory.intrinsic+json": {
              "type": "string"
            },
            "text/plain": [
              "'a'"
            ]
          },
          "metadata": {},
          "execution_count": 77
        }
      ]
    },
    {
      "cell_type": "code",
      "metadata": {
        "colab": {
          "base_uri": "https://localhost:8080/"
        },
        "id": "EdU4ndTKj2MP",
        "outputId": "9d083aaf-b7cc-47e6-d810-cb6e7e4d71cd"
      },
      "source": [
        "#restrictions on dictionary keys\n",
        "city = {\n",
        "     'Cameroon' : 'Yaounde',\n",
        "     'Canada'   : 'Toronto',\n",
        "     'Nigeria'  : 'Lagos',\n",
        "     'USA'      : 'Carlifonia',\n",
        " }\n",
        "city['Cameroon'] = 'Douala'\n",
        "city"
      ],
      "execution_count": 76,
      "outputs": [
        {
          "output_type": "execute_result",
          "data": {
            "text/plain": [
              "{'Cameroon': 'Douala',\n",
              " 'Canada': 'Toronto',\n",
              " 'Nigeria': 'Lagos',\n",
              " 'USA': 'Carlifonia'}"
            ]
          },
          "metadata": {},
          "execution_count": 76
        }
      ]
    },
    {
      "cell_type": "markdown",
      "metadata": {
        "id": "ckBl4pxMklhQ"
      },
      "source": [
        "we see that using an existing key to add another value only overides the existing one, so a key can not be used twice"
      ]
    },
    {
      "cell_type": "code",
      "metadata": {
        "colab": {
          "base_uri": "https://localhost:8080/",
          "height": 180
        },
        "id": "8Qx4QyyzlovJ",
        "outputId": "a714c32d-318a-4155-b23c-e57016dd4a2e"
      },
      "source": [
        "d = {[1, 1]: 'a', [1, 2]: 'b', [2, 1]: 'c', {2: 'two', 3: 'three'}: 'd'}\n",
        "d"
      ],
      "execution_count": 78,
      "outputs": [
        {
          "output_type": "error",
          "ename": "TypeError",
          "evalue": "ignored",
          "traceback": [
            "\u001b[0;31m---------------------------------------------------------------------------\u001b[0m",
            "\u001b[0;31mTypeError\u001b[0m                                 Traceback (most recent call last)",
            "\u001b[0;32m<ipython-input-78-ed3db78ac8c0>\u001b[0m in \u001b[0;36m<module>\u001b[0;34m()\u001b[0m\n\u001b[0;32m----> 1\u001b[0;31m \u001b[0md\u001b[0m \u001b[0;34m=\u001b[0m \u001b[0;34m{\u001b[0m\u001b[0;34m[\u001b[0m\u001b[0;36m1\u001b[0m\u001b[0;34m,\u001b[0m \u001b[0;36m1\u001b[0m\u001b[0;34m]\u001b[0m\u001b[0;34m:\u001b[0m \u001b[0;34m'a'\u001b[0m\u001b[0;34m,\u001b[0m \u001b[0;34m[\u001b[0m\u001b[0;36m1\u001b[0m\u001b[0;34m,\u001b[0m \u001b[0;36m2\u001b[0m\u001b[0;34m]\u001b[0m\u001b[0;34m:\u001b[0m \u001b[0;34m'b'\u001b[0m\u001b[0;34m,\u001b[0m \u001b[0;34m[\u001b[0m\u001b[0;36m2\u001b[0m\u001b[0;34m,\u001b[0m \u001b[0;36m1\u001b[0m\u001b[0;34m]\u001b[0m\u001b[0;34m:\u001b[0m \u001b[0;34m'c'\u001b[0m\u001b[0;34m,\u001b[0m \u001b[0;34m{\u001b[0m\u001b[0;36m2\u001b[0m\u001b[0;34m:\u001b[0m \u001b[0;34m'two'\u001b[0m\u001b[0;34m,\u001b[0m \u001b[0;36m3\u001b[0m\u001b[0;34m:\u001b[0m \u001b[0;34m'three'\u001b[0m\u001b[0;34m}\u001b[0m\u001b[0;34m:\u001b[0m \u001b[0;34m'd'\u001b[0m\u001b[0;34m}\u001b[0m\u001b[0;34m\u001b[0m\u001b[0;34m\u001b[0m\u001b[0m\n\u001b[0m\u001b[1;32m      2\u001b[0m \u001b[0md\u001b[0m\u001b[0;34m\u001b[0m\u001b[0;34m\u001b[0m\u001b[0m\n",
            "\u001b[0;31mTypeError\u001b[0m: unhashable type: 'list'"
          ]
        }
      ]
    },
    {
      "cell_type": "markdown",
      "metadata": {
        "id": "AKK_zVjbmMGO"
      },
      "source": [
        "neither a list nor dict can be used a dictionary key because they are mutable"
      ]
    },
    {
      "cell_type": "code",
      "metadata": {
        "colab": {
          "base_uri": "https://localhost:8080/"
        },
        "id": "Ff_KQZfGmj6X",
        "outputId": "af5889db-dcdd-4dfe-c773-cc354f2dbd44"
      },
      "source": [
        "#there are no restrictions on dict values\n",
        "d = {0: {2: 'two', 3: 'three'}, 1: 'a', 2: 'a', 3: [1, 2]}\n",
        "d"
      ],
      "execution_count": 80,
      "outputs": [
        {
          "output_type": "execute_result",
          "data": {
            "text/plain": [
              "{0: {2: 'two', 3: 'three'}, 1: 'a', 2: 'a', 3: [1, 2]}"
            ]
          },
          "metadata": {},
          "execution_count": 80
        }
      ]
    },
    {
      "cell_type": "code",
      "metadata": {
        "colab": {
          "base_uri": "https://localhost:8080/"
        },
        "id": "YW_KkoPSm_-J",
        "outputId": "535b33fb-91da-4310-d18b-f5173b040ed4"
      },
      "source": [
        "d = {0: 'a', 1: 'a', 2: 'a', 3: 'a'}\n",
        "d[0] == d[1] == d[2]"
      ],
      "execution_count": 82,
      "outputs": [
        {
          "output_type": "execute_result",
          "data": {
            "text/plain": [
              "True"
            ]
          },
          "metadata": {},
          "execution_count": 82
        }
      ]
    },
    {
      "cell_type": "code",
      "metadata": {
        "colab": {
          "base_uri": "https://localhost:8080/"
        },
        "id": "yYUiB0AMnOOQ",
        "outputId": "8a11cd6d-e4cd-4ac3-da0b-5b476ff0538c"
      },
      "source": [
        "#operators in dictionaries \"in\" and \"not in\"\n",
        "city = {\n",
        "     'Cameroon' : 'Yaounde',\n",
        "     'Canada'   : 'Toronto',\n",
        "     'Nigeria'  : 'Lagos',\n",
        "     'USA'      : 'Carlifonia',\n",
        " }\n",
        "city\n",
        "'Cameroon' in city\n",
        "'Ghana' in city\n",
        "'Ghana' not in city"
      ],
      "execution_count": 87,
      "outputs": [
        {
          "output_type": "execute_result",
          "data": {
            "text/plain": [
              "True"
            ]
          },
          "metadata": {},
          "execution_count": 87
        }
      ]
    },
    {
      "cell_type": "markdown",
      "metadata": {
        "id": "Av419iRDn6SQ"
      },
      "source": [
        "returns true or false wether the said key is available in the dict"
      ]
    },
    {
      "cell_type": "code",
      "metadata": {
        "colab": {
          "base_uri": "https://localhost:8080/"
        },
        "id": "F_kCFLADoPhP",
        "outputId": "5d3cb0ad-1e38-45ab-846d-e281cd8cc218"
      },
      "source": [
        "#len function returns the number of values in the dict\n",
        "len(city)"
      ],
      "execution_count": 89,
      "outputs": [
        {
          "output_type": "execute_result",
          "data": {
            "text/plain": [
              "4"
            ]
          },
          "metadata": {},
          "execution_count": 89
        }
      ]
    },
    {
      "cell_type": "code",
      "metadata": {
        "colab": {
          "base_uri": "https://localhost:8080/"
        },
        "id": "M7TFeS9fog_I",
        "outputId": "6bc82901-48bc-444e-b856-67dae3f20d9a"
      },
      "source": [
        "#built in methods on dicts\n",
        "d = {0: {2: 'two', 3: 'three'}, 1: 'a', 2: 'a', 3: [1, 2]}\n",
        "d.clear()\n",
        "d"
      ],
      "execution_count": 92,
      "outputs": [
        {
          "output_type": "execute_result",
          "data": {
            "text/plain": [
              "{}"
            ]
          },
          "metadata": {},
          "execution_count": 92
        }
      ]
    },
    {
      "cell_type": "code",
      "metadata": {
        "colab": {
          "base_uri": "https://localhost:8080/"
        },
        "id": "opSRKl6zpGT5",
        "outputId": "cb3667c7-9b1f-4081-96df-c7792c00ab4b"
      },
      "source": [
        "#the .get function gets the value of the specified key\n",
        "d = {0: {2: 'two', 3: 'three'}, 1: 'a', 2: 'a', 3: [1, 2]}\n",
        "print(d.get(0))"
      ],
      "execution_count": 95,
      "outputs": [
        {
          "output_type": "stream",
          "name": "stdout",
          "text": [
            "{2: 'two', 3: 'three'}\n"
          ]
        }
      ]
    },
    {
      "cell_type": "code",
      "metadata": {
        "colab": {
          "base_uri": "https://localhost:8080/"
        },
        "id": "AGCmZSa6p66F",
        "outputId": "c25b00e3-bafb-4142-ac5b-32a2db418525"
      },
      "source": [
        "#if the key is not found but the default is defined, it prints the default value\n",
        "print(d.get(5, 'five'))"
      ],
      "execution_count": 97,
      "outputs": [
        {
          "output_type": "stream",
          "name": "stdout",
          "text": [
            "five\n"
          ]
        }
      ]
    },
    {
      "cell_type": "code",
      "metadata": {
        "colab": {
          "base_uri": "https://localhost:8080/"
        },
        "id": "c4lUVN6HqYo6",
        "outputId": "10115ee6-ec31-42dd-87f3-0e08d188eb77"
      },
      "source": [
        "d = {0: {2: 'two', 3: 'three'}, 1: 'a', 2: 'a', 3: [1, 2]}\n",
        "list(d.items())"
      ],
      "execution_count": 98,
      "outputs": [
        {
          "output_type": "execute_result",
          "data": {
            "text/plain": [
              "[(0, {2: 'two', 3: 'three'}), (1, 'a'), (2, 'a'), (3, [1, 2])]"
            ]
          },
          "metadata": {},
          "execution_count": 98
        }
      ]
    },
    {
      "cell_type": "markdown",
      "metadata": {
        "id": "Oq0wC8a5qgul"
      },
      "source": [
        "returns a list of tuples with the key and value as the first and second element of the tuple respectively"
      ]
    },
    {
      "cell_type": "code",
      "metadata": {
        "colab": {
          "base_uri": "https://localhost:8080/"
        },
        "id": "7NhfGgdTqzzG",
        "outputId": "7fce1c33-c57e-4235-fee5-2feb32b3ba3a"
      },
      "source": [
        "#.keys() and .values() methods\n",
        "list(d.keys())\n",
        "list(d.values())"
      ],
      "execution_count": 100,
      "outputs": [
        {
          "output_type": "execute_result",
          "data": {
            "text/plain": [
              "[{2: 'two', 3: 'three'}, 'a', 'a', [1, 2]]"
            ]
          },
          "metadata": {},
          "execution_count": 100
        }
      ]
    },
    {
      "cell_type": "markdown",
      "metadata": {
        "id": "la12AntArSwg"
      },
      "source": [
        "returns separate lists of the keys and values of the dictionary"
      ]
    },
    {
      "cell_type": "code",
      "metadata": {
        "colab": {
          "base_uri": "https://localhost:8080/"
        },
        "id": "1wT_V4-lroFS",
        "outputId": "b753ac33-d13d-416d-f27c-b2d710391606"
      },
      "source": [
        "#popping values of a dict\n",
        "d.pop(3)"
      ],
      "execution_count": 101,
      "outputs": [
        {
          "output_type": "execute_result",
          "data": {
            "text/plain": [
              "[1, 2]"
            ]
          },
          "metadata": {},
          "execution_count": 101
        }
      ]
    },
    {
      "cell_type": "markdown",
      "metadata": {
        "id": "QKcPf1gyr44C"
      },
      "source": [
        "removes the value of the specified key and prints it. this generates an error if the key is not found in the dict"
      ]
    },
    {
      "cell_type": "code",
      "metadata": {
        "colab": {
          "base_uri": "https://localhost:8080/",
          "height": 35
        },
        "id": "ra9JJIpzsMtE",
        "outputId": "af4b6e41-81e1-47ae-aba8-3bf575b0892e"
      },
      "source": [
        "d.pop(6, 'six')"
      ],
      "execution_count": 103,
      "outputs": [
        {
          "output_type": "execute_result",
          "data": {
            "application/vnd.google.colaboratory.intrinsic+json": {
              "type": "string"
            },
            "text/plain": [
              "'six'"
            ]
          },
          "metadata": {},
          "execution_count": 103
        }
      ]
    },
    {
      "cell_type": "markdown",
      "metadata": {
        "id": "o-lGnEZBsWON"
      },
      "source": [
        "removes the secified default value if the key is not avaible in the dict"
      ]
    },
    {
      "cell_type": "code",
      "metadata": {
        "colab": {
          "base_uri": "https://localhost:8080/"
        },
        "id": "gUJi3ASMsnad",
        "outputId": "343626cf-48b3-48d0-d04c-306b921221ea"
      },
      "source": [
        "d = {0: {2: 'two', 3: 'three'}, 1: 'a', 2: 'a', 3: [1, 2]}\n",
        "d.popitem()"
      ],
      "execution_count": 105,
      "outputs": [
        {
          "output_type": "execute_result",
          "data": {
            "text/plain": [
              "(3, [1, 2])"
            ]
          },
          "metadata": {},
          "execution_count": 105
        }
      ]
    },
    {
      "cell_type": "markdown",
      "metadata": {
        "id": "zVz0kajBs8Du"
      },
      "source": [
        "removes the last pair of key and value and prints it as a tuple. if the dict is empty, .popitem() generates an error"
      ]
    },
    {
      "cell_type": "code",
      "metadata": {
        "colab": {
          "base_uri": "https://localhost:8080/"
        },
        "id": "d3vmHZ7stPx8",
        "outputId": "4a83e1aa-2505-4c01-f73f-484e502d8e63"
      },
      "source": [
        "#updating a dict\n",
        "even = {2: 'two', 4: 'four', 6: 'six'}\n",
        "prime = {2: 'deux', 5: 'five', 7: 'seven', 13: 'thirtheen' }\n",
        "even.update(prime)\n",
        "even"
      ],
      "execution_count": 109,
      "outputs": [
        {
          "output_type": "execute_result",
          "data": {
            "text/plain": [
              "{2: 'deux', 4: 'four', 5: 'five', 6: 'six', 7: 'seven', 13: 'thirtheen'}"
            ]
          },
          "metadata": {},
          "execution_count": 109
        }
      ]
    },
    {
      "cell_type": "markdown",
      "metadata": {
        "id": "yb6tnhz1u3Tu"
      },
      "source": [
        "here we see that the method merges the two dict but in the case where a key is repeated, the second value overrides the the first value of the said key"
      ]
    },
    {
      "cell_type": "code",
      "metadata": {
        "colab": {
          "base_uri": "https://localhost:8080/"
        },
        "id": "hfSxVwNQvKXQ",
        "outputId": "4306740e-3528-4035-ff0d-6615173b03d2"
      },
      "source": [
        "#other methods of updating a dict\n",
        "even = {2: 'two', 4: 'four', 6: 'six'}\n",
        "even.update({2: 'deux', 5: 'five', 7: 'seven', 13: 'thirtheen' })\n",
        "even\n",
        "\n",
        "even.update([(2,'deux'), (5,'five'), (7,'seven'), (13,'thirtheen')])\n",
        "even\n"
      ],
      "execution_count": 121,
      "outputs": [
        {
          "output_type": "execute_result",
          "data": {
            "text/plain": [
              "{2: 'deux', 4: 'four', 5: 'five', 6: 'six', 7: 'seven', 13: 'thirtheen'}"
            ]
          },
          "metadata": {},
          "execution_count": 121
        }
      ]
    }
  ]
}